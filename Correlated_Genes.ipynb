{
 "cells": [
  {
   "metadata": {},
   "cell_type": "markdown",
   "source": "This notebook aims to find genes that have the strongest spearman correlation (positive or negative) with gene SSMa053560.",
   "id": "fff76a03b4e4ea1e"
  },
  {
   "cell_type": "code",
   "id": "initial_id",
   "metadata": {
    "collapsed": true,
    "ExecuteTime": {
     "end_time": "2025-05-02T17:50:03.322329Z",
     "start_time": "2025-05-02T17:50:03.319686Z"
    }
   },
   "source": [
    "import pandas as pd\n",
    "from utils.misc import extract_number\n",
    "import numpy as np"
   ],
   "outputs": [],
   "execution_count": 3
  },
  {
   "metadata": {
    "ExecuteTime": {
     "end_time": "2025-05-02T17:50:05.157534Z",
     "start_time": "2025-05-02T17:50:05.005525Z"
    }
   },
   "cell_type": "code",
   "source": [
    "# read in the expression dataframe\n",
    "gene_expressions = pd.read_csv(\"data/train_data.csv\", index_col=0)\n",
    "gene_expressions_mat = gene_expressions.to_numpy()\n",
    "genenames = np.array(gene_expressions.index.tolist())\n",
    "samples = gene_expressions.columns.tolist()\n",
    "\n",
    "# extract ages\n",
    "ages = np.array([extract_number(timestring) for timestring in samples])\n",
    "unique_ages = np.unique(ages)\n",
    "\n",
    "# retain genes that are present in all samples\n",
    "prevalence = np.mean(gene_expressions_mat > 0, axis=1)\n",
    "subset_gene_id = np.where(prevalence == 1)[0]\n",
    "subset_genenames = genenames[subset_gene_id]\n",
    "gene_expressions = gene_expressions.loc[subset_genenames, :]\n",
    "gene_expressions_mat = gene_expressions_mat[subset_gene_id, :]\n",
    "gene_expressions = gene_expressions.T\n",
    "gene_expressions_mat = gene_expressions_mat.T"
   ],
   "id": "76bec4f04ef166ad",
   "outputs": [],
   "execution_count": 4
  },
  {
   "metadata": {
    "ExecuteTime": {
     "end_time": "2025-05-02T17:50:07.057419Z",
     "start_time": "2025-05-02T17:50:07.054265Z"
    }
   },
   "cell_type": "code",
   "source": "geneexp_053560 = gene_expressions.loc[:, \"SSMa053560\"].to_numpy()",
   "id": "bee7b7fe4ed43217",
   "outputs": [],
   "execution_count": 5
  },
  {
   "metadata": {
    "ExecuteTime": {
     "end_time": "2025-05-02T17:50:09.781801Z",
     "start_time": "2025-05-02T17:50:09.778110Z"
    }
   },
   "cell_type": "code",
   "source": [
    "correlations_df = pd.DataFrame({\"Pearson\": np.zeros(gene_expressions.shape[1]),\n",
    "                                \"Spearman\": np.zeros(gene_expressions.shape[1])})\n",
    "correlations_df.index = subset_genenames"
   ],
   "id": "78fd0f8a0ae315a9",
   "outputs": [],
   "execution_count": 6
  },
  {
   "metadata": {
    "ExecuteTime": {
     "end_time": "2025-05-02T17:50:11.967082Z",
     "start_time": "2025-05-02T17:50:11.763418Z"
    }
   },
   "cell_type": "code",
   "source": "from scipy.stats import pearsonr, spearmanr, rankdata",
   "id": "f4a40c91dc12dc3c",
   "outputs": [],
   "execution_count": 7
  },
  {
   "metadata": {
    "ExecuteTime": {
     "end_time": "2025-05-02T17:50:20.158316Z",
     "start_time": "2025-05-02T17:50:14.455738Z"
    }
   },
   "cell_type": "code",
   "source": [
    "for gname in subset_genenames:\n",
    "    selected_expression = gene_expressions.loc[:, gname].to_numpy()\n",
    "    pcorr, _ = pearsonr(selected_expression, geneexp_053560)\n",
    "    scorr, _ = spearmanr(selected_expression, geneexp_053560)\n",
    "    correlations_df.loc[gname, \"Pearson\"] = pcorr\n",
    "    correlations_df.loc[gname, \"Spearman\"] = scorr"
   ],
   "id": "cbf571999d80a84e",
   "outputs": [],
   "execution_count": 8
  },
  {
   "metadata": {
    "ExecuteTime": {
     "end_time": "2025-05-02T17:50:21.411235Z",
     "start_time": "2025-05-02T17:50:21.401518Z"
    }
   },
   "cell_type": "code",
   "source": [
    "correlations_df = correlations_df.sort_values('Spearman')\n",
    "negative_corr = correlations_df.head(10)\n",
    "positive_corr = correlations_df.tail(10)"
   ],
   "id": "4e3d531ed1b9edb8",
   "outputs": [],
   "execution_count": 9
  },
  {
   "metadata": {
    "ExecuteTime": {
     "end_time": "2025-05-02T17:50:25.019639Z",
     "start_time": "2025-05-02T17:50:24.985401Z"
    }
   },
   "cell_type": "code",
   "source": "correlations_df.to_csv(\"gene_plots/corr_SSMa053560/correlations.csv\")",
   "id": "637ef1da74205d4f",
   "outputs": [],
   "execution_count": 10
  },
  {
   "metadata": {
    "ExecuteTime": {
     "end_time": "2025-05-02T17:50:30.149890Z",
     "start_time": "2025-05-02T17:50:29.961223Z"
    }
   },
   "cell_type": "code",
   "source": [
    "from utils.viz import single_line_plot, single_scatter_plot\n",
    "age_ranks = rankdata(ages, method='min')"
   ],
   "id": "60ecad647a2b4738",
   "outputs": [],
   "execution_count": 11
  },
  {
   "metadata": {
    "ExecuteTime": {
     "end_time": "2025-05-02T17:50:32.367457Z",
     "start_time": "2025-05-02T17:50:32.362072Z"
    }
   },
   "cell_type": "code",
   "source": "import matplotlib.pyplot as plt",
   "id": "4d7318c07c7fa451",
   "outputs": [],
   "execution_count": 12
  },
  {
   "metadata": {
    "ExecuteTime": {
     "end_time": "2025-05-02T17:50:36.083212Z",
     "start_time": "2025-05-02T17:50:34.603413Z"
    }
   },
   "cell_type": "code",
   "source": [
    "for j in range(10):\n",
    "    genename=negative_corr.index[j]\n",
    "    expression = gene_expressions.loc[:, genename].to_numpy()\n",
    "    fig = single_scatter_plot(ymat = expression.reshape(1, -1),\n",
    "                              xticks=age_ranks, xticknames=ages.astype('str'),\n",
    "                              xname=\"Age (Months)\", yname=\"Gene Expression (TPM)\",\n",
    "                              title=f\"negative_{genename}\")\n",
    "    fig.savefig(f\"gene_plots/corr_SSMa053560/negative_{genename}.pdf\", bbox_inches=\"tight\")\n",
    "    plt.close(fig)"
   ],
   "id": "61afb22704448209",
   "outputs": [],
   "execution_count": 13
  },
  {
   "metadata": {
    "ExecuteTime": {
     "end_time": "2025-05-02T17:50:40.103085Z",
     "start_time": "2025-05-02T17:50:38.690880Z"
    }
   },
   "cell_type": "code",
   "source": [
    "for j in range(10):\n",
    "    genename=positive_corr.index[j]\n",
    "    expression = gene_expressions.loc[:, genename].to_numpy()\n",
    "    fig = single_scatter_plot(ymat = expression.reshape(1, -1),\n",
    "                              xticks=age_ranks, xticknames=ages.astype('str'),\n",
    "                              xname=\"Age (Months)\", yname=\"Gene Expression (TPM)\",\n",
    "                              title=f\"positive_{genename}\")\n",
    "    fig.savefig(f\"gene_plots/corr_SSMa053560/positive_{genename}.pdf\", bbox_inches=\"tight\")\n",
    "    plt.close(fig)"
   ],
   "id": "6054303466907a85",
   "outputs": [],
   "execution_count": 14
  }
 ],
 "metadata": {
  "kernelspec": {
   "display_name": "Python 3",
   "language": "python",
   "name": "python3"
  },
  "language_info": {
   "codemirror_mode": {
    "name": "ipython",
    "version": 2
   },
   "file_extension": ".py",
   "mimetype": "text/x-python",
   "name": "python",
   "nbconvert_exporter": "python",
   "pygments_lexer": "ipython2",
   "version": "2.7.6"
  }
 },
 "nbformat": 4,
 "nbformat_minor": 5
}
