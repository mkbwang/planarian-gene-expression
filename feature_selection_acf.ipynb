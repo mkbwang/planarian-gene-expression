{
 "cells": [
  {
   "metadata": {},
   "cell_type": "markdown",
   "source": [
    "# Gene Selection\n",
    "I believe that a good prediction model can be set up with a handful of genes with strong time trend and low variance."
   ],
   "id": "665beab1655be249"
  },
  {
   "metadata": {
    "ExecuteTime": {
     "end_time": "2025-02-07T15:17:35.253866Z",
     "start_time": "2025-02-07T15:17:35.250856Z"
    }
   },
   "cell_type": "code",
   "source": [
    "import pandas as pd\n",
    "import numpy as np"
   ],
   "id": "fa9646d0662c2c86",
   "outputs": [],
   "execution_count": 1
  },
  {
   "metadata": {
    "ExecuteTime": {
     "end_time": "2025-02-07T15:17:37.324975Z",
     "start_time": "2025-02-07T15:17:37.214133Z"
    }
   },
   "cell_type": "code",
   "source": "acf_full_result = pd.read_csv(\"acf_full_results.tsv\", sep='\\t', index_col=0)",
   "id": "c71519956be4aa3",
   "outputs": [],
   "execution_count": 2
  },
  {
   "metadata": {},
   "cell_type": "markdown",
   "source": "I limit the selection of representative genes to those that has at least two p values being zero.",
   "id": "97263e5403d280ba"
  },
  {
   "metadata": {
    "ExecuteTime": {
     "end_time": "2025-02-07T15:20:09.892101Z",
     "start_time": "2025-02-07T15:20:09.876931Z"
    }
   },
   "cell_type": "code",
   "source": "pval_mat = acf_full_result.loc[:, [f'Pval_{j}' for j in np.arange(1, 10)]].to_numpy()",
   "id": "de6db2ebd64d7a74",
   "outputs": [],
   "execution_count": 5
  },
  {
   "metadata": {
    "ExecuteTime": {
     "end_time": "2025-02-07T15:22:21.665287Z",
     "start_time": "2025-02-07T15:22:21.657935Z"
    }
   },
   "cell_type": "code",
   "source": [
    "significant_filter = np.any(pval_mat == 0, axis=1)\n",
    "significant_counts = np.sum(pval_mat == 0, axis=1)\n",
    "np.unique(significant_counts, return_counts=True)"
   ],
   "id": "bdeb655ae452cc2f",
   "outputs": [
    {
     "data": {
      "text/plain": [
       "(array([0, 1, 2, 3, 4, 5, 6, 7]),\n",
       " array([14035,  1209,   486,   247,    80,    14,     1,     3]))"
      ]
     },
     "execution_count": 9,
     "metadata": {},
     "output_type": "execute_result"
    }
   ],
   "execution_count": 9
  },
  {
   "metadata": {},
   "cell_type": "markdown",
   "source": "Take a closer look at genes whose autocorrelations for at least two different lags are significant.",
   "id": "e627acbe1c4555e5"
  },
  {
   "metadata": {
    "ExecuteTime": {
     "end_time": "2025-02-07T15:24:09.628450Z",
     "start_time": "2025-02-07T15:24:09.623311Z"
    }
   },
   "cell_type": "code",
   "source": "acf_subset_result = acf_full_result.loc[significant_counts > 1, :]",
   "id": "17996378ae90aa6a",
   "outputs": [],
   "execution_count": 10
  },
  {
   "metadata": {
    "ExecuteTime": {
     "end_time": "2025-02-07T15:24:12.180979Z",
     "start_time": "2025-02-07T15:24:12.175162Z"
    }
   },
   "cell_type": "code",
   "source": "acf_subset_result.shape",
   "id": "e636db0682184626",
   "outputs": [
    {
     "data": {
      "text/plain": [
       "(831, 45)"
      ]
     },
     "execution_count": 11,
     "metadata": {},
     "output_type": "execute_result"
    }
   ],
   "execution_count": 11
  },
  {
   "metadata": {
    "ExecuteTime": {
     "end_time": "2025-02-07T15:24:46.501670Z",
     "start_time": "2025-02-07T15:24:46.495022Z"
    }
   },
   "cell_type": "code",
   "source": [
    "lower_bound = acf_subset_result.loc[:, [f'LB_{j}' for j in np.arange(1, 10)]]\n",
    "upper_bound = acf_subset_result.loc[:, [f'UB_{j}' for j in np.arange(1, 10)]]\n",
    "# sd = acf_full_result.loc[:, [f'SD_{j}' for j in np.arange(1, 7)]]\n",
    "mean = acf_full_result.loc[:, [f'Mean_{j}' for j in np.arange(1, 10)]]"
   ],
   "id": "dc522fa190fad933",
   "outputs": [],
   "execution_count": 12
  },
  {
   "metadata": {
    "ExecuteTime": {
     "end_time": "2025-02-07T15:24:49.710791Z",
     "start_time": "2025-02-07T15:24:49.707045Z"
    }
   },
   "cell_type": "code",
   "source": [
    "lower_bound_mat = lower_bound.to_numpy()\n",
    "upper_bound_mat = upper_bound.to_numpy()"
   ],
   "id": "54b68bd57e3e5492",
   "outputs": [],
   "execution_count": 13
  },
  {
   "metadata": {},
   "cell_type": "markdown",
   "source": "Count the number of genes with significant correlations at each lag.",
   "id": "37b27295b4ca6ef"
  },
  {
   "metadata": {
    "ExecuteTime": {
     "end_time": "2025-02-07T15:25:57.400740Z",
     "start_time": "2025-02-07T15:25:57.397996Z"
    }
   },
   "cell_type": "code",
   "source": "significance_mat = np.zeros_like(lower_bound_mat)",
   "id": "d98bc5ad740f0e54",
   "outputs": [],
   "execution_count": 17
  },
  {
   "metadata": {
    "ExecuteTime": {
     "end_time": "2025-02-07T15:25:59.394995Z",
     "start_time": "2025-02-07T15:25:59.390564Z"
    }
   },
   "cell_type": "code",
   "source": [
    "significance_mat[lower_bound_mat > 0] = 1\n",
    "significance_mat[upper_bound_mat < 0] = -1"
   ],
   "id": "2d3d627d42a19d04",
   "outputs": [],
   "execution_count": 18
  },
  {
   "metadata": {
    "ExecuteTime": {
     "end_time": "2025-02-07T15:26:04.392782Z",
     "start_time": "2025-02-07T15:26:04.389231Z"
    }
   },
   "cell_type": "code",
   "source": [
    "sum_pos_significant = np.sum(significance_mat > 0, axis=0)\n",
    "sum_neg_significant = np.sum(significance_mat < 0, axis=0)"
   ],
   "id": "c62ae52bd26d8931",
   "outputs": [],
   "execution_count": 19
  },
  {
   "metadata": {
    "ExecuteTime": {
     "end_time": "2025-02-07T03:00:00.072431Z",
     "start_time": "2025-02-07T02:59:59.612512Z"
    }
   },
   "cell_type": "code",
   "source": [
    "import matplotlib.pyplot as plt\n",
    "gap = np.arange(1, 10)\n",
    "\n",
    "fig1, ax1 = plt.subplots(nrows=1, ncols=2, figsize=(10, 4))\n",
    "\n",
    "ax1[0].bar(gap, sum_pos_significant)\n",
    "ax1[0].set_xlabel(\"Gap\")\n",
    "ax1[0].set_xticks(gap)\n",
    "ax1[0].set_ylabel(\"Number of genes\")\n",
    "ax1[0].set_title(\"Positive Autocorrelation\")\n",
    "ax1[0].set_ylim(0, 1200)\n",
    "\n",
    "ax1[1].bar(gap, sum_neg_significant)\n",
    "ax1[1].set_xticks(gap)\n",
    "ax1[1].set_xlabel(\"Gap\")\n",
    "# ax1[1].set_ylabel(\"Number of genes\")\n",
    "ax1[1].set_title(\"Negative Autocorrelation\")\n",
    "ax1[1].set_ylim(0, 1200)\n",
    "\n",
    "fig1.savefig(\"Significant_Autocorrelation\", dpi=400, bbox_inches='tight')"
   ],
   "id": "81e3228bb3c63064",
   "outputs": [
    {
     "data": {
      "text/plain": [
       "<Figure size 1000x400 with 2 Axes>"
      ],
      "image/png": "[encoded data removed]"
     },
     "metadata": {},
     "output_type": "display_data"
    }
   ],
   "execution_count": 133
  },
  {
   "metadata": {},
   "cell_type": "markdown",
   "source": "I decide to take a look at the genes with the strongest positive autocorrelations at lag 1, 6, 7, 9 and the strongest negative autocorrelations at lag 2,3,4,5,8,9.",
   "id": "454a0f2b9d3d1134"
  },
  {
   "metadata": {
    "ExecuteTime": {
     "end_time": "2025-02-07T15:26:19.731495Z",
     "start_time": "2025-02-07T15:26:19.728128Z"
    }
   },
   "cell_type": "code",
   "source": "pos_genes = np.where(significance_mat[:, 0] > 0)[0]",
   "id": "75895927cf4384b7",
   "outputs": [],
   "execution_count": 22
  },
  {
   "metadata": {},
   "cell_type": "markdown",
   "source": "For genes with positive correlations, I collect those with the highest lower bounds. For genes with negative correlations, I collect those with the lowest upper bound.",
   "id": "7507daccf9a3d486"
  },
  {
   "metadata": {
    "ExecuteTime": {
     "end_time": "2025-02-07T15:32:42.000788Z",
     "start_time": "2025-02-07T15:32:41.985276Z"
    }
   },
   "cell_type": "code",
   "source": [
    "pos_1_gene = lower_bound['LB_1'].nlargest(10).index.tolist()\n",
    "pos_6_gene = lower_bound['LB_6'].nlargest(10).index.tolist()\n",
    "pos_7_gene = lower_bound['LB_7'].nlargest(10).index.tolist()\n",
    "pos_9_gene = lower_bound['LB_9'].nlargest(10).index.tolist()\n",
    "\n",
    "neg_1_gene = upper_bound['UB_1'].nsmallest(10).index.tolist()\n",
    "neg_2_gene = upper_bound['UB_2'].nsmallest(10).index.tolist()\n",
    "neg_3_gene = upper_bound['UB_3'].nsmallest(10).index.tolist()\n",
    "neg_4_gene = upper_bound['UB_4'].nsmallest(10).index.tolist()\n",
    "neg_5_gene = upper_bound['UB_5'].nsmallest(10).index.tolist()\n",
    "neg_6_gene = upper_bound['UB_6'].nsmallest(10).index.tolist()\n",
    "neg_7_gene = upper_bound['UB_7'].nsmallest(10).index.tolist()\n",
    "neg_8_gene = upper_bound['UB_8'].nsmallest(10).index.tolist()\n",
    "neg_9_gene = upper_bound['UB_9'].nsmallest(10).index.tolist()\n",
    "neg_9_gene = upper_bound['UB_9'].nsmallest(10).index.tolist()\n"
   ],
   "id": "58fdc7eb584c8a73",
   "outputs": [],
   "execution_count": 44
  },
  {
   "metadata": {
    "ExecuteTime": {
     "end_time": "2025-02-07T15:33:01.300785Z",
     "start_time": "2025-02-07T15:33:01.292460Z"
    }
   },
   "cell_type": "code",
   "source": [
    "iconic_genes = pd.DataFrame({'pos_1': pos_1_gene,\n",
    "                             'pos_6': pos_6_gene,\n",
    "                             'pos_7': pos_7_gene,\n",
    "                             'pos_9': pos_9_gene,\n",
    "                             'neg_1': neg_1_gene,\n",
    "                             'neg_2': neg_2_gene,\n",
    "                             'neg_3': neg_3_gene,\n",
    "                             'neg_4': neg_4_gene,\n",
    "                             'neg_5': neg_5_gene,\n",
    "                             'neg_6': neg_6_gene,\n",
    "                             'neg_7': neg_7_gene,\n",
    "                             'neg_8': neg_8_gene,\n",
    "                             'neg_9': neg_9_gene})"
   ],
   "id": "8395c60e15be9994",
   "outputs": [],
   "execution_count": 47
  },
  {
   "metadata": {
    "ExecuteTime": {
     "end_time": "2025-02-07T15:33:20.145112Z",
     "start_time": "2025-02-07T15:33:20.132284Z"
    }
   },
   "cell_type": "code",
   "source": "iconic_genes",
   "id": "27f369530af8999a",
   "outputs": [
    {
     "data": {
      "text/plain": [
       "        pos_1       pos_6       pos_7       pos_9       neg_1       neg_2  \\\n",
       "0  SSMc247520  SSMb160740  SSMa034450  SSMb175930  SSMb154360  SSMc266560   \n",
       "1  SSMc249330  SSMc272420  SSMd289780  SSMa065860  SSMa062760  SSMc275960   \n",
       "2  SSMb160740  SSMd299640  SSMa032870  SSMc242460  SSMa115980  SSMa017880   \n",
       "3  SSMb146180  SSMb147300  SSMb184350  SSMa115980  SSMb175930  SSMc273990   \n",
       "4  SSMc273990  SSMa029940  SSMb193690  SSMb137510  SSMa019900  SSMa078930   \n",
       "5  SSMb128980  SSMc247520  SSMb164680  SSMa062760  SSMa065860  SSMc247520   \n",
       "6  SSMb212810  SSMc285360  SSMa121170  SSMb160620  SSMd288630  SSMb177190   \n",
       "7  SSMd286150  SSMa080220  SSMb217320  SSMc273990  SSMb199810  SSMc280800   \n",
       "8  SSMb128990  SSMa075050  SSMa019250  SSMa073720  SSMb202540  SSMa012690   \n",
       "9  SSMa028150  SSMa052540  SSMc260780  SSMa051510  SSMc266560  SSMa057650   \n",
       "\n",
       "        neg_3       neg_4       neg_5       neg_6       neg_7       neg_8  \\\n",
       "0  SSMc247520  SSMd288630  SSMa010210  SSMb160620  SSMb199810  SSMd292630   \n",
       "1  SSMb145820  SSMc250690  SSMb157830  SSMa065860  SSMd290070  SSMa068450   \n",
       "2  SSMd287800  SSMa068980  SSMa107260  SSMa119160  SSMa073260  SSMd305560   \n",
       "3  SSMc273990  SSMb160740  SSMb148190  SSMb131130  SSMd307650  SSMb202540   \n",
       "4  SSMd285900  SSMa011540  SSMd301760  SSMb172340  SSMb131130  SSMd291000   \n",
       "5  SSMa029940  SSMc258810  SSMc250480  SSMa050990  SSMb196580  SSMb188650   \n",
       "6  SSMc273180  SSMa052540  SSMd300710  SSMd307650  SSMa100000  SSMb172450   \n",
       "7  SSMa038740  SSMa099330  SSMb167490  SSMa083510  SSMa059640  SSMa062760   \n",
       "8  SSMb164680  SSMa063400  SSMa078680  SSMa062760  SSMd290060  SSMa118140   \n",
       "9  SSMb160740  SSMa108530  SSMc266590  SSMa059640  SSMa083510  SSMd286660   \n",
       "\n",
       "        neg_9  \n",
       "0  SSMa032870  \n",
       "1  SSMc263030  \n",
       "2  SSMc253350  \n",
       "3  SSMd299640  \n",
       "4  SSMb196580  \n",
       "5  SSMa095690  \n",
       "6  SSMd291000  \n",
       "7  SSMa118140  \n",
       "8  SSMa118330  \n",
       "9  SSMd307120  "
      ],
      "text/html": [
       "<div>\n",
       "<style scoped>\n",
       "    .dataframe tbody tr th:only-of-type {\n",
       "        vertical-align: middle;\n",
       "    }\n",
       "\n",
       "    .dataframe tbody tr th {\n",
       "        vertical-align: top;\n",
       "    }\n",
       "\n",
       "    .dataframe thead th {\n",
       "        text-align: right;\n",
       "    }\n",
       "</style>\n",
       "<table border=\"1\" class=\"dataframe\">\n",
       "  <thead>\n",
       "    <tr style=\"text-align: right;\">\n",
       "      <th></th>\n",
       "      <th>pos_1</th>\n",
       "      <th>pos_6</th>\n",
       "      <th>pos_7</th>\n",
       "      <th>pos_9</th>\n",
       "      <th>neg_1</th>\n",
       "      <th>neg_2</th>\n",
       "      <th>neg_3</th>\n",
       "      <th>neg_4</th>\n",
       "      <th>neg_5</th>\n",
       "      <th>neg_6</th>\n",
       "      <th>neg_7</th>\n",
       "      <th>neg_8</th>\n",
       "      <th>neg_9</th>\n",
       "    </tr>\n",
       "  </thead>\n",
       "  <tbody>\n",
       "    <tr>\n",
       "      <th>0</th>\n",
       "      <td>SSMc247520</td>\n",
       "      <td>SSMb160740</td>\n",
       "      <td>SSMa034450</td>\n",
       "      <td>SSMb175930</td>\n",
       "      <td>SSMb154360</td>\n",
       "      <td>SSMc266560</td>\n",
       "      <td>SSMc247520</td>\n",
       "      <td>SSMd288630</td>\n",
       "      <td>SSMa010210</td>\n",
       "      <td>SSMb160620</td>\n",
       "      <td>SSMb199810</td>\n",
       "      <td>SSMd292630</td>\n",
       "      <td>SSMa032870</td>\n",
       "    </tr>\n",
       "    <tr>\n",
       "      <th>1</th>\n",
       "      <td>SSMc249330</td>\n",
       "      <td>SSMc272420</td>\n",
       "      <td>SSMd289780</td>\n",
       "      <td>SSMa065860</td>\n",
       "      <td>SSMa062760</td>\n",
       "      <td>SSMc275960</td>\n",
       "      <td>SSMb145820</td>\n",
       "      <td>SSMc250690</td>\n",
       "      <td>SSMb157830</td>\n",
       "      <td>SSMa065860</td>\n",
       "      <td>SSMd290070</td>\n",
       "      <td>SSMa068450</td>\n",
       "      <td>SSMc263030</td>\n",
       "    </tr>\n",
       "    <tr>\n",
       "      <th>2</th>\n",
       "      <td>SSMb160740</td>\n",
       "      <td>SSMd299640</td>\n",
       "      <td>SSMa032870</td>\n",
       "      <td>SSMc242460</td>\n",
       "      <td>SSMa115980</td>\n",
       "      <td>SSMa017880</td>\n",
       "      <td>SSMd287800</td>\n",
       "      <td>SSMa068980</td>\n",
       "      <td>SSMa107260</td>\n",
       "      <td>SSMa119160</td>\n",
       "      <td>SSMa073260</td>\n",
       "      <td>SSMd305560</td>\n",
       "      <td>SSMc253350</td>\n",
       "    </tr>\n",
       "    <tr>\n",
       "      <th>3</th>\n",
       "      <td>SSMb146180</td>\n",
       "      <td>SSMb147300</td>\n",
       "      <td>SSMb184350</td>\n",
       "      <td>SSMa115980</td>\n",
       "      <td>SSMb175930</td>\n",
       "      <td>SSMc273990</td>\n",
       "      <td>SSMc273990</td>\n",
       "      <td>SSMb160740</td>\n",
       "      <td>SSMb148190</td>\n",
       "      <td>SSMb131130</td>\n",
       "      <td>SSMd307650</td>\n",
       "      <td>SSMb202540</td>\n",
       "      <td>SSMd299640</td>\n",
       "    </tr>\n",
       "    <tr>\n",
       "      <th>4</th>\n",
       "      <td>SSMc273990</td>\n",
       "      <td>SSMa029940</td>\n",
       "      <td>SSMb193690</td>\n",
       "      <td>SSMb137510</td>\n",
       "      <td>SSMa019900</td>\n",
       "      <td>SSMa078930</td>\n",
       "      <td>SSMd285900</td>\n",
       "      <td>SSMa011540</td>\n",
       "      <td>SSMd301760</td>\n",
       "      <td>SSMb172340</td>\n",
       "      <td>SSMb131130</td>\n",
       "      <td>SSMd291000</td>\n",
       "      <td>SSMb196580</td>\n",
       "    </tr>\n",
       "    <tr>\n",
       "      <th>5</th>\n",
       "      <td>SSMb128980</td>\n",
       "      <td>SSMc247520</td>\n",
       "      <td>SSMb164680</td>\n",
       "      <td>SSMa062760</td>\n",
       "      <td>SSMa065860</td>\n",
       "      <td>SSMc247520</td>\n",
       "      <td>SSMa029940</td>\n",
       "      <td>SSMc258810</td>\n",
       "      <td>SSMc250480</td>\n",
       "      <td>SSMa050990</td>\n",
       "      <td>SSMb196580</td>\n",
       "      <td>SSMb188650</td>\n",
       "      <td>SSMa095690</td>\n",
       "    </tr>\n",
       "    <tr>\n",
       "      <th>6</th>\n",
       "      <td>SSMb212810</td>\n",
       "      <td>SSMc285360</td>\n",
       "      <td>SSMa121170</td>\n",
       "      <td>SSMb160620</td>\n",
       "      <td>SSMd288630</td>\n",
       "      <td>SSMb177190</td>\n",
       "      <td>SSMc273180</td>\n",
       "      <td>SSMa052540</td>\n",
       "      <td>SSMd300710</td>\n",
       "      <td>SSMd307650</td>\n",
       "      <td>SSMa100000</td>\n",
       "      <td>SSMb172450</td>\n",
       "      <td>SSMd291000</td>\n",
       "    </tr>\n",
       "    <tr>\n",
       "      <th>7</th>\n",
       "      <td>SSMd286150</td>\n",
       "      <td>SSMa080220</td>\n",
       "      <td>SSMb217320</td>\n",
       "      <td>SSMc273990</td>\n",
       "      <td>SSMb199810</td>\n",
       "      <td>SSMc280800</td>\n",
       "      <td>SSMa038740</td>\n",
       "      <td>SSMa099330</td>\n",
       "      <td>SSMb167490</td>\n",
       "      <td>SSMa083510</td>\n",
       "      <td>SSMa059640</td>\n",
       "      <td>SSMa062760</td>\n",
       "      <td>SSMa118140</td>\n",
       "    </tr>\n",
       "    <tr>\n",
       "      <th>8</th>\n",
       "      <td>SSMb128990</td>\n",
       "      <td>SSMa075050</td>\n",
       "      <td>SSMa019250</td>\n",
       "      <td>SSMa073720</td>\n",
       "      <td>SSMb202540</td>\n",
       "      <td>SSMa012690</td>\n",
       "      <td>SSMb164680</td>\n",
       "      <td>SSMa063400</td>\n",
       "      <td>SSMa078680</td>\n",
       "      <td>SSMa062760</td>\n",
       "      <td>SSMd290060</td>\n",
       "      <td>SSMa118140</td>\n",
       "      <td>SSMa118330</td>\n",
       "    </tr>\n",
       "    <tr>\n",
       "      <th>9</th>\n",
       "      <td>SSMa028150</td>\n",
       "      <td>SSMa052540</td>\n",
       "      <td>SSMc260780</td>\n",
       "      <td>SSMa051510</td>\n",
       "      <td>SSMc266560</td>\n",
       "      <td>SSMa057650</td>\n",
       "      <td>SSMb160740</td>\n",
       "      <td>SSMa108530</td>\n",
       "      <td>SSMc266590</td>\n",
       "      <td>SSMa059640</td>\n",
       "      <td>SSMa083510</td>\n",
       "      <td>SSMd286660</td>\n",
       "      <td>SSMd307120</td>\n",
       "    </tr>\n",
       "  </tbody>\n",
       "</table>\n",
       "</div>"
      ]
     },
     "execution_count": 50,
     "metadata": {},
     "output_type": "execute_result"
    }
   ],
   "execution_count": 50
  },
  {
   "metadata": {},
   "cell_type": "markdown",
   "source": "The marker genes that I select are those which are top ten in at least two columns in the above table.",
   "id": "91a5625f624a03fa"
  },
  {
   "metadata": {
    "ExecuteTime": {
     "end_time": "2025-02-07T15:35:35.599328Z",
     "start_time": "2025-02-07T15:35:35.594116Z"
    }
   },
   "cell_type": "code",
   "source": "selected_genes = iconic_genes.to_numpy().flatten()",
   "id": "5f5d32d30f09391f",
   "outputs": [],
   "execution_count": 51
  },
  {
   "metadata": {
    "ExecuteTime": {
     "end_time": "2025-02-07T15:43:24.092202Z",
     "start_time": "2025-02-07T15:43:24.087387Z"
    }
   },
   "cell_type": "code",
   "source": "gene_names, topten_counts = np.unique(selected_genes, return_counts=True)",
   "id": "cd655582baf6c029",
   "outputs": [],
   "execution_count": 53
  },
  {
   "metadata": {
    "ExecuteTime": {
     "end_time": "2025-02-07T15:46:12.956249Z",
     "start_time": "2025-02-07T15:46:12.952233Z"
    }
   },
   "cell_type": "code",
   "source": "marker_genes = gene_names[topten_counts > 1]",
   "id": "85221d7baba2bf9e",
   "outputs": [],
   "execution_count": 56
  },
  {
   "metadata": {
    "ExecuteTime": {
     "end_time": "2025-02-07T15:46:16.495142Z",
     "start_time": "2025-02-07T15:46:16.490079Z"
    }
   },
   "cell_type": "code",
   "source": "marker_genes",
   "id": "f54ffac4d58e0a45",
   "outputs": [
    {
     "data": {
      "text/plain": [
       "array(['SSMa029940', 'SSMa032870', 'SSMa052540', 'SSMa059640',\n",
       "       'SSMa062760', 'SSMa065860', 'SSMa083510', 'SSMa115980',\n",
       "       'SSMa118140', 'SSMb131130', 'SSMb160620', 'SSMb160740',\n",
       "       'SSMb164680', 'SSMb175930', 'SSMb196580', 'SSMb199810',\n",
       "       'SSMb202540', 'SSMc247520', 'SSMc266560', 'SSMc273990',\n",
       "       'SSMd288630', 'SSMd291000', 'SSMd299640', 'SSMd307650'],\n",
       "      dtype=object)"
      ]
     },
     "execution_count": 57,
     "metadata": {},
     "output_type": "execute_result"
    }
   ],
   "execution_count": 57
  },
  {
   "metadata": {},
   "cell_type": "markdown",
   "source": "Let's visualize some of the genes.",
   "id": "94d303ef586da758"
  },
  {
   "metadata": {
    "ExecuteTime": {
     "end_time": "2025-02-07T15:46:20.822844Z",
     "start_time": "2025-02-07T15:46:20.749218Z"
    }
   },
   "cell_type": "code",
   "source": [
    "gene_expression_mean = pd.read_csv(\"gene_expression_mean_cluster.csv\", sep='\\t', index_col=0)\n",
    "gene_expression_sd = pd.read_csv(\"gene_expression_std_cluster.csv\", sep='\\t', index_col=0)"
   ],
   "id": "4ab7ffea34e3b492",
   "outputs": [],
   "execution_count": 58
  },
  {
   "metadata": {
    "ExecuteTime": {
     "end_time": "2025-02-07T15:47:40.830969Z",
     "start_time": "2025-02-07T15:47:40.825759Z"
    }
   },
   "cell_type": "code",
   "source": "timepoints = gene_expression_mean.columns[0:12].tolist()",
   "id": "614f5e1b83074fb1",
   "outputs": [],
   "execution_count": 59
  },
  {
   "metadata": {
    "ExecuteTime": {
     "end_time": "2025-02-07T15:50:20.928301Z",
     "start_time": "2025-02-07T15:50:20.924100Z"
    }
   },
   "cell_type": "code",
   "source": "import matplotlib.pyplot as plt",
   "id": "5a4abfb0c0a5fab3",
   "outputs": [],
   "execution_count": 61
  },
  {
   "metadata": {
    "ExecuteTime": {
     "end_time": "2025-02-07T15:50:34.274265Z",
     "start_time": "2025-02-07T15:50:24.403401Z"
    }
   },
   "cell_type": "code",
   "source": [
    "for marker_gene in marker_genes:\n",
    "\n",
    "    selected_mean = gene_expression_mean.loc[marker_gene, timepoints].to_numpy()\n",
    "    selected_std = gene_expression_sd.loc[marker_gene, timepoints].to_numpy()\n",
    "    selected_ac_mean = mean.loc[marker_gene, :].to_numpy()\n",
    "    selected_ac_lb = lower_bound.loc[marker_gene, :].to_numpy()\n",
    "    selected_lower_error = selected_ac_mean - selected_ac_lb\n",
    "    selected_ac_ub = upper_bound.loc[marker_gene, :].to_numpy()\n",
    "    selected_upper_error = selected_ac_ub - selected_ac_mean\n",
    "\n",
    "    fig2, ax2=plt.subplots(figsize=(10, 4), nrows=1, ncols=2)\n",
    "\n",
    "    ax2[0].errorbar(np.arange(1, 13), selected_mean, yerr=selected_std,\n",
    "                    fmt='-o', color=\"#344885\", capsize=5, alpha=0.7)\n",
    "    ax2[0].set_xticks(np.arange(1, 13), labels=timepoints)\n",
    "    ax2[0].set_xlabel('Month')\n",
    "    ax2[0].set_title(marker_gene)\n",
    "    ax2[0].set_ylabel('Log Gene Expression(TPM)')\n",
    "\n",
    "    ax2[1].errorbar(np.arange(1, 10), selected_ac_mean, yerr = np.stack((selected_lower_error, selected_upper_error), axis=0), fmt='-o', color=\"#344885\", capsize=5, alpha=0.7)\n",
    "    ax2[1].set_xticks(np.arange(1, 10))\n",
    "    ax2[1].axhline(0, color='r', linestyle='--')\n",
    "    ax2[1].set_xlabel(\"Lag\")\n",
    "    ax2[1].set_ylabel(\"Autocorrelation\")\n",
    "    ax2[1].set_title(marker_gene)\n",
    "\n",
    "    filename = f'individual_plots/marker_gene/{marker_gene}.png'\n",
    "    fig2.savefig(filename, dpi=400, bbox_inches='tight')\n",
    "    plt.close(fig2)\n"
   ],
   "id": "55d55bb7ebdb5be0",
   "outputs": [],
   "execution_count": 62
  },
  {
   "metadata": {
    "ExecuteTime": {
     "end_time": "2025-02-07T17:13:42.547785Z",
     "start_time": "2025-02-07T17:13:42.543970Z"
    }
   },
   "cell_type": "code",
   "source": [
    "import pickle\n",
    "with open(\"marker_genes.pkl\", 'wb+') as f:\n",
    "    pickle.dump(marker_genes, f)"
   ],
   "id": "9ee042ddb016e0f7",
   "outputs": [],
   "execution_count": 65
  }
 ],
 "metadata": {
  "kernelspec": {
   "display_name": "Python 3",
   "language": "python",
   "name": "python3"
  },
  "language_info": {
   "codemirror_mode": {
    "name": "ipython",
    "version": 2
   },
   "file_extension": ".py",
   "mimetype": "text/x-python",
   "name": "python",
   "nbconvert_exporter": "python",
   "pygments_lexer": "ipython2",
   "version": "2.7.6"
  }
 },
 "nbformat": 4,
 "nbformat_minor": 5
}
