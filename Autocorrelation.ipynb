{
 "cells": [
  {
   "metadata": {},
   "cell_type": "markdown",
   "source": [
    "# Autocorrelation Calculation\n",
    "Calculate the autocorrelation from lag 1 through 6."
   ],
   "id": "2a265c3ae6923fa7"
  },
  {
   "metadata": {},
   "cell_type": "code",
   "source": [
    "import pandas as pd\n",
    "import numpy as np\n",
    "import matplotlib.pyplot as plt"
   ],
   "id": "6cbc22c2e7772875",
   "outputs": [],
   "execution_count": null
  },
  {
   "metadata": {},
   "cell_type": "code",
   "source": [
    "# load expression df\n",
    "expression_df = pd.read_csv(\"gene_expression_original.csv\", sep='\\t', index_col=0)"
   ],
   "id": "491ae68d74929d2d",
   "outputs": [],
   "execution_count": null
  },
  {
   "metadata": {},
   "cell_type": "code",
   "source": "expression_df.head()",
   "id": "a78bfc6d512b95a6",
   "outputs": [],
   "execution_count": null
  },
  {
   "metadata": {},
   "cell_type": "code",
   "source": "expression_df_long = pd.melt(expression_df, id_vars=\"Gene\", var_name=\"Time\", value_name=\"Log_TPM\")",
   "id": "60b37a7651d84568",
   "outputs": [],
   "execution_count": null
  },
  {
   "metadata": {},
   "cell_type": "code",
   "source": [
    "import re\n",
    "\n",
    "def extract_number(mystring):\n",
    "    numbers = re.findall(\"^\\d+\", mystring)\n",
    "    return int(numbers[0])"
   ],
   "id": "c506fbf1b31a2698",
   "outputs": [],
   "execution_count": null
  },
  {
   "metadata": {},
   "cell_type": "code",
   "source": "expression_df_long[\"Month\"] = expression_df_long[\"Time\"].apply(extract_number)",
   "id": "4f3436f2db4acc52",
   "outputs": [],
   "execution_count": null
  },
  {
   "metadata": {},
   "cell_type": "code",
   "source": "expression_df_long.sort_values([\"Gene\", \"Month\"], inplace=True)",
   "id": "f1588b4afaecadcb",
   "outputs": [],
   "execution_count": null
  },
  {
   "metadata": {},
   "cell_type": "markdown",
   "source": [
    "## Hypothesis testing of Autocorrelation\n",
    "Note that there are multiple measurements at each timepoint. I repeatedly calculate autocorrelation at lag 1 through 6 by sampling one measurement from each timepoint. If p-value is smaller than 0.05, I consider the autocorrelation significantly different from zero."
   ],
   "id": "237a63b06395bd2b"
  },
  {
   "metadata": {},
   "cell_type": "code",
   "source": "from statsmodels.tsa.stattools import acf",
   "id": "6e91af0de9e5a4fe",
   "outputs": [],
   "execution_count": null
  },
  {
   "metadata": {},
   "cell_type": "code",
   "source": "gene_names = list(expression_df.index)",
   "id": "16675e4d285aaf03",
   "outputs": [],
   "execution_count": null
  },
  {
   "metadata": {},
   "cell_type": "code",
   "source": "first_gene = gene_names[0]",
   "id": "2e174ee8a258f819",
   "outputs": [],
   "execution_count": null
  },
  {
   "metadata": {},
   "cell_type": "code",
   "source": "selected_gene_expression = expression_df_long.loc[expression_df_long[\"Gene\"] == first_gene, :]\n",
   "id": "bed1f7a008f8003f",
   "outputs": [],
   "execution_count": null
  },
  {
   "metadata": {},
   "cell_type": "code",
   "source": [
    "\n",
    "acf_mat = np.zeros((100, 6))\n",
    "for j in range(100):\n",
    "    sample_selected_gene_expression = selected_gene_expression.groupby(\"Month\").sample(n=1)\n",
    "    sample_acfs = acf(sample_selected_gene_expression[\"Log_TPM\"], nlags=6)\n",
    "    acf_mat[j, :] = sample_acfs[1:7]"
   ],
   "id": "e763eb80aaf69c0b",
   "outputs": [],
   "execution_count": null
  },
  {
   "metadata": {},
   "cell_type": "code",
   "source": [
    "mean_acf_allgenes = pd.DataFrame(np.zeros((len(gene_names), 6)))\n",
    "mean_acf_allgenes.index = gene_names\n",
    "sd_acf_allgenes = pd.DataFrame(np.zeros((len(gene_names), 6)))\n",
    "sd_acf_allgenes.index = gene_names\n",
    "lb_acf_allgenes = pd.DataFrame(np.zeros((len(gene_names), 6)))\n",
    "lb_acf_allgenes.index = gene_names\n",
    "ub_acf_allgenes = pd.DataFrame(np.zeros((len(gene_names), 6)))\n",
    "ub_acf_allgenes.index = gene_names"
   ],
   "id": "168b1cd826f0a602",
   "outputs": [],
   "execution_count": null
  },
  {
   "metadata": {},
   "cell_type": "code",
   "source": [
    "for i in range(len(gene_names)):\n",
    "\n",
    "    if (i % 100 == 0):\n",
    "        print(f\"Processing gene {i}\")\n",
    "    gname = gene_names[i]\n",
    "    selected_gene_expression = expression_df_long.loc[expression_df_long[\"Gene\"] == gname, :]\n",
    "    acf_mat = np.zeros((100, 6))\n",
    "    for j in range(100):\n",
    "        sample_selected_gene_expression = selected_gene_expression.groupby(\"Month\").sample(n=1)\n",
    "        sample_acfs = acf(sample_selected_gene_expression[\"Log_TPM\"], nlags=6)\n",
    "        acf_mat[j, :] = sample_acfs[1:7]\n",
    "    mean_acf_allgenes.loc[gname, :] = np.mean(acf_mat, axis=0)\n",
    "    sd_acf_allgenes.loc[gname, :] = np.std(acf_mat, axis=0)\n",
    "    lb_acf_allgenes.loc[gname, :] = np.quantile(acf_mat, q=0.025, axis=0)\n",
    "    ub_acf_allgenes.loc[gname, :] = np.quantile(acf_mat, q=0.975, axis=0)\n"
   ],
   "id": "775bb817f30259cf",
   "outputs": [],
   "execution_count": null
  },
  {
   "metadata": {},
   "cell_type": "code",
   "source": [
    "\n",
    "mean_acf_allgenes.columns = [f\"Mean_{i}\" for i in np.arange(1, 7)]\n",
    "sd_acf_allgenes.columns = [f\"SD_{i}\" for i in np.arange(1, 7)]\n",
    "lb_acf_allgenes.columns = [f\"LB_{i}\" for i in np.arange(1, 7)]\n",
    "ub_acf_allgenes.columns = [f\"UB_{i}\" for i in np.arange(1, 7)]\n"
   ],
   "id": "8362996d25a2f370",
   "outputs": [],
   "execution_count": null
  },
  {
   "metadata": {},
   "cell_type": "code",
   "source": "acf_full_results = pd.concat([mean_acf_allgenes, sd_acf_allgenes, lb_acf_allgenes, ub_acf_allgenes], axis=1)",
   "id": "4fd4820445154d67",
   "outputs": [],
   "execution_count": null
  },
  {
   "metadata": {},
   "cell_type": "code",
   "source": "acf_full_results.head()",
   "id": "767767be95d0c3ac",
   "outputs": [],
   "execution_count": null
  },
  {
   "metadata": {
    "ExecuteTime": {
     "end_time": "2025-02-06T01:51:09.414160Z",
     "start_time": "2025-02-06T01:51:09.135629Z"
    }
   },
   "cell_type": "code",
   "source": "acf_full_results.to_csv(\"acf_full_results.csv\", sep='\\t')",
   "id": "e07ff2f3a890371b",
   "outputs": [],
   "execution_count": 66
  }
 ],
 "metadata": {
  "kernelspec": {
   "display_name": "Python 3",
   "language": "python",
   "name": "python3"
  },
  "language_info": {
   "codemirror_mode": {
    "name": "ipython",
    "version": 2
   },
   "file_extension": ".py",
   "mimetype": "text/x-python",
   "name": "python",
   "nbconvert_exporter": "python",
   "pygments_lexer": "ipython2",
   "version": "2.7.6"
  }
 },
 "nbformat": 4,
 "nbformat_minor": 5
}
