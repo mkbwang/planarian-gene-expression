{
 "cells": [
  {
   "metadata": {},
   "cell_type": "markdown",
   "source": [
    "# Autocorrelation Calculation\n",
    "Calculate the autocorrelation from lag 1 through 9."
   ],
   "id": "2a265c3ae6923fa7"
  },
  {
   "metadata": {
    "ExecuteTime": {
     "end_time": "2025-02-07T02:26:20.208577Z",
     "start_time": "2025-02-07T02:26:20.206341Z"
    }
   },
   "cell_type": "code",
   "source": [
    "import pandas as pd\n",
    "import numpy as np\n",
    "import matplotlib.pyplot as plt"
   ],
   "id": "6cbc22c2e7772875",
   "outputs": [],
   "execution_count": 33
  },
  {
   "metadata": {
    "ExecuteTime": {
     "end_time": "2025-02-07T02:26:22.409118Z",
     "start_time": "2025-02-07T02:26:22.320998Z"
    }
   },
   "cell_type": "code",
   "source": [
    "# load expression df\n",
    "expression_df = pd.read_csv(\"gene_expression_original.csv\", sep='\\t', index_col=0)"
   ],
   "id": "491ae68d74929d2d",
   "outputs": [],
   "execution_count": 34
  },
  {
   "metadata": {
    "ExecuteTime": {
     "end_time": "2025-02-07T02:31:17.659117Z",
     "start_time": "2025-02-07T02:31:17.633163Z"
    }
   },
   "cell_type": "code",
   "source": "expression_df_long = pd.melt(expression_df, id_vars=\"Gene\", var_name=\"Time\", value_name=\"TPM\")",
   "id": "60b37a7651d84568",
   "outputs": [],
   "execution_count": 44
  },
  {
   "metadata": {
    "ExecuteTime": {
     "end_time": "2025-02-07T02:31:21.942710Z",
     "start_time": "2025-02-07T02:31:21.937095Z"
    }
   },
   "cell_type": "code",
   "source": "expression_df_long[\"Log_TPM\"] = np.log10(expression_df_long[\"TPM\"])",
   "id": "38f99381519f5a12",
   "outputs": [],
   "execution_count": 45
  },
  {
   "metadata": {
    "ExecuteTime": {
     "end_time": "2025-02-07T02:31:23.622586Z",
     "start_time": "2025-02-07T02:31:23.616349Z"
    }
   },
   "cell_type": "code",
   "source": [
    "import re\n",
    "def extract_number(mystring):\n",
    "    numbers = re.findall(\"^\\d+\", mystring)\n",
    "    return int(numbers[0])"
   ],
   "id": "c506fbf1b31a2698",
   "outputs": [],
   "execution_count": 46
  },
  {
   "metadata": {
    "ExecuteTime": {
     "end_time": "2025-02-07T02:31:26.451953Z",
     "start_time": "2025-02-07T02:31:25.968412Z"
    }
   },
   "cell_type": "code",
   "source": "expression_df_long[\"Month\"] = expression_df_long[\"Time\"].apply(extract_number)",
   "id": "4f3436f2db4acc52",
   "outputs": [],
   "execution_count": 47
  },
  {
   "metadata": {
    "ExecuteTime": {
     "end_time": "2025-02-07T02:31:29.176653Z",
     "start_time": "2025-02-07T02:31:29.124971Z"
    }
   },
   "cell_type": "code",
   "source": "expression_df_long.sort_values([\"Gene\", \"Month\"], inplace=True)",
   "id": "f1588b4afaecadcb",
   "outputs": [],
   "execution_count": 48
  },
  {
   "metadata": {},
   "cell_type": "markdown",
   "source": [
    "## Hypothesis testing of Autocorrelation\n",
    "Note that there are multiple measurements at each timepoint. I repeatedly calculate autocorrelation at lag 1 through 9 by sampling one measurement from each timepoint. A small p value indicates that the autocorrelation at that lag is significantly different from zero."
   ],
   "id": "237a63b06395bd2b"
  },
  {
   "metadata": {
    "ExecuteTime": {
     "end_time": "2025-02-07T02:32:11.868725Z",
     "start_time": "2025-02-07T02:32:11.866023Z"
    }
   },
   "cell_type": "code",
   "source": "from statsmodels.tsa.stattools import acf",
   "id": "6e91af0de9e5a4fe",
   "outputs": [],
   "execution_count": 50
  },
  {
   "metadata": {
    "ExecuteTime": {
     "end_time": "2025-02-07T02:32:14.820377Z",
     "start_time": "2025-02-07T02:32:14.816784Z"
    }
   },
   "cell_type": "code",
   "source": "gene_names = list(expression_df.index)",
   "id": "16675e4d285aaf03",
   "outputs": [],
   "execution_count": 51
  },
  {
   "metadata": {},
   "cell_type": "markdown",
   "source": "For every gene, I collect the p value, mean and the 95% confidence interval of the autocorrelations.",
   "id": "3fa7152db8e1a67d"
  },
  {
   "metadata": {
    "ExecuteTime": {
     "end_time": "2025-02-07T02:32:53.578773Z",
     "start_time": "2025-02-07T02:32:53.566705Z"
    }
   },
   "cell_type": "code",
   "source": [
    "mean_acf_allgenes = pd.DataFrame(np.zeros((len(gene_names), 9)))\n",
    "mean_acf_allgenes.index = gene_names\n",
    "sd_acf_allgenes = pd.DataFrame(np.zeros((len(gene_names), 9)))\n",
    "sd_acf_allgenes.index = gene_names\n",
    "lb_acf_allgenes = pd.DataFrame(np.zeros((len(gene_names), 9)))\n",
    "lb_acf_allgenes.index = gene_names\n",
    "ub_acf_allgenes = pd.DataFrame(np.zeros((len(gene_names), 9)))\n",
    "ub_acf_allgenes.index = gene_names\n",
    "pval_acf_allgenes = pd.DataFrame(np.zeros((len(gene_names), 9)))\n",
    "pval_acf_allgenes.index = gene_names"
   ],
   "id": "168b1cd826f0a602",
   "outputs": [],
   "execution_count": 56
  },
  {
   "metadata": {
    "ExecuteTime": {
     "end_time": "2025-02-07T02:56:17.729333Z",
     "start_time": "2025-02-07T02:33:39.124988Z"
    }
   },
   "cell_type": "code",
   "source": [
    "for i in range(len(gene_names)):\n",
    "    if (i % 100 == 0):\n",
    "        print(f\"Processing gene {i}\")\n",
    "    gname = gene_names[i]\n",
    "    selected_gene_expression = expression_df_long.loc[expression_df_long[\"Gene\"] == gname, :]\n",
    "    acf_mat = np.zeros((100, 9))\n",
    "    for j in range(100):\n",
    "        sample_selected_gene_expression = selected_gene_expression.groupby(\"Month\").sample(n=1)\n",
    "        sample_acfs = acf(sample_selected_gene_expression[\"Log_TPM\"], nlags=9)\n",
    "        acf_mat[j, :] = sample_acfs[1:10]\n",
    "    prob_gt0 = np.mean(acf_mat > 0, axis=0)\n",
    "    prob_lt0 = np.mean(acf_mat < 0, axis=0)\n",
    "    pval_acf_allgenes.loc[gname, :] = np.minimum(prob_gt0, prob_lt0) * 2\n",
    "    mean_acf_allgenes.loc[gname, :] = np.mean(acf_mat, axis=0)\n",
    "    sd_acf_allgenes.loc[gname, :] = np.std(acf_mat, axis=0)\n",
    "    lb_acf_allgenes.loc[gname, :] = np.quantile(acf_mat, q=0.025, axis=0)\n",
    "    ub_acf_allgenes.loc[gname, :] = np.quantile(acf_mat, q=0.975, axis=0)\n"
   ],
   "id": "775bb817f30259cf",
   "outputs": [
    {
     "name": "stdout",
     "output_type": "stream",
     "text": [
      "Processing gene 0\n",
      "Processing gene 100\n",
      "Processing gene 200\n",
      "Processing gene 300\n",
      "Processing gene 400\n",
      "Processing gene 500\n",
      "Processing gene 600\n",
      "Processing gene 700\n",
      "Processing gene 800\n",
      "Processing gene 900\n",
      "Processing gene 1000\n",
      "Processing gene 1100\n",
      "Processing gene 1200\n",
      "Processing gene 1300\n",
      "Processing gene 1400\n",
      "Processing gene 1500\n",
      "Processing gene 1600\n",
      "Processing gene 1700\n",
      "Processing gene 1800\n",
      "Processing gene 1900\n",
      "Processing gene 2000\n",
      "Processing gene 2100\n",
      "Processing gene 2200\n",
      "Processing gene 2300\n",
      "Processing gene 2400\n",
      "Processing gene 2500\n",
      "Processing gene 2600\n",
      "Processing gene 2700\n",
      "Processing gene 2800\n",
      "Processing gene 2900\n",
      "Processing gene 3000\n",
      "Processing gene 3100\n",
      "Processing gene 3200\n",
      "Processing gene 3300\n",
      "Processing gene 3400\n",
      "Processing gene 3500\n",
      "Processing gene 3600\n",
      "Processing gene 3700\n",
      "Processing gene 3800\n",
      "Processing gene 3900\n",
      "Processing gene 4000\n",
      "Processing gene 4100\n",
      "Processing gene 4200\n",
      "Processing gene 4300\n",
      "Processing gene 4400\n",
      "Processing gene 4500\n",
      "Processing gene 4600\n",
      "Processing gene 4700\n",
      "Processing gene 4800\n",
      "Processing gene 4900\n",
      "Processing gene 5000\n",
      "Processing gene 5100\n",
      "Processing gene 5200\n",
      "Processing gene 5300\n",
      "Processing gene 5400\n",
      "Processing gene 5500\n",
      "Processing gene 5600\n",
      "Processing gene 5700\n",
      "Processing gene 5800\n",
      "Processing gene 5900\n",
      "Processing gene 6000\n",
      "Processing gene 6100\n",
      "Processing gene 6200\n",
      "Processing gene 6300\n",
      "Processing gene 6400\n",
      "Processing gene 6500\n",
      "Processing gene 6600\n",
      "Processing gene 6700\n",
      "Processing gene 6800\n",
      "Processing gene 6900\n",
      "Processing gene 7000\n",
      "Processing gene 7100\n",
      "Processing gene 7200\n",
      "Processing gene 7300\n",
      "Processing gene 7400\n",
      "Processing gene 7500\n",
      "Processing gene 7600\n",
      "Processing gene 7700\n",
      "Processing gene 7800\n",
      "Processing gene 7900\n",
      "Processing gene 8000\n",
      "Processing gene 8100\n",
      "Processing gene 8200\n",
      "Processing gene 8300\n",
      "Processing gene 8400\n",
      "Processing gene 8500\n",
      "Processing gene 8600\n",
      "Processing gene 8700\n",
      "Processing gene 8800\n",
      "Processing gene 8900\n",
      "Processing gene 9000\n",
      "Processing gene 9100\n",
      "Processing gene 9200\n",
      "Processing gene 9300\n",
      "Processing gene 9400\n",
      "Processing gene 9500\n",
      "Processing gene 9600\n",
      "Processing gene 9700\n",
      "Processing gene 9800\n",
      "Processing gene 9900\n",
      "Processing gene 10000\n",
      "Processing gene 10100\n",
      "Processing gene 10200\n",
      "Processing gene 10300\n",
      "Processing gene 10400\n",
      "Processing gene 10500\n",
      "Processing gene 10600\n",
      "Processing gene 10700\n",
      "Processing gene 10800\n",
      "Processing gene 10900\n",
      "Processing gene 11000\n",
      "Processing gene 11100\n",
      "Processing gene 11200\n",
      "Processing gene 11300\n",
      "Processing gene 11400\n",
      "Processing gene 11500\n",
      "Processing gene 11600\n",
      "Processing gene 11700\n",
      "Processing gene 11800\n",
      "Processing gene 11900\n",
      "Processing gene 12000\n",
      "Processing gene 12100\n",
      "Processing gene 12200\n",
      "Processing gene 12300\n",
      "Processing gene 12400\n",
      "Processing gene 12500\n",
      "Processing gene 12600\n",
      "Processing gene 12700\n",
      "Processing gene 12800\n",
      "Processing gene 12900\n",
      "Processing gene 13000\n",
      "Processing gene 13100\n",
      "Processing gene 13200\n",
      "Processing gene 13300\n",
      "Processing gene 13400\n",
      "Processing gene 13500\n",
      "Processing gene 13600\n",
      "Processing gene 13700\n",
      "Processing gene 13800\n",
      "Processing gene 13900\n",
      "Processing gene 14000\n",
      "Processing gene 14100\n",
      "Processing gene 14200\n",
      "Processing gene 14300\n",
      "Processing gene 14400\n",
      "Processing gene 14500\n",
      "Processing gene 14600\n",
      "Processing gene 14700\n",
      "Processing gene 14800\n",
      "Processing gene 14900\n",
      "Processing gene 15000\n",
      "Processing gene 15100\n",
      "Processing gene 15200\n",
      "Processing gene 15300\n",
      "Processing gene 15400\n",
      "Processing gene 15500\n",
      "Processing gene 15600\n",
      "Processing gene 15700\n",
      "Processing gene 15800\n",
      "Processing gene 15900\n",
      "Processing gene 16000\n"
     ]
    }
   ],
   "execution_count": 58
  },
  {
   "metadata": {
    "ExecuteTime": {
     "end_time": "2025-02-07T02:57:40.514975Z",
     "start_time": "2025-02-07T02:57:40.511601Z"
    }
   },
   "cell_type": "code",
   "source": [
    "pval_acf_allgenes.columns = [f'Pval_{i}' for i in np.arange(1, 10)]\n",
    "mean_acf_allgenes.columns = [f\"Mean_{i}\" for i in np.arange(1, 10)]\n",
    "sd_acf_allgenes.columns = [f\"SD_{i}\" for i in np.arange(1, 10)]\n",
    "lb_acf_allgenes.columns = [f\"LB_{i}\" for i in np.arange(1, 10)]\n",
    "ub_acf_allgenes.columns = [f\"UB_{i}\" for i in np.arange(1, 10)]\n"
   ],
   "id": "8362996d25a2f370",
   "outputs": [],
   "execution_count": 61
  },
  {
   "metadata": {
    "ExecuteTime": {
     "end_time": "2025-02-07T02:57:43.286495Z",
     "start_time": "2025-02-07T02:57:43.275957Z"
    }
   },
   "cell_type": "code",
   "source": "acf_full_results = pd.concat([pval_acf_allgenes, mean_acf_allgenes, sd_acf_allgenes, lb_acf_allgenes, ub_acf_allgenes], axis=1)",
   "id": "4fd4820445154d67",
   "outputs": [],
   "execution_count": 62
  },
  {
   "metadata": {
    "ExecuteTime": {
     "end_time": "2025-02-07T02:57:48.634571Z",
     "start_time": "2025-02-07T02:57:48.188128Z"
    }
   },
   "cell_type": "code",
   "source": "acf_full_results.to_csv(\"acf_full_results.tsv\", sep='\\t')",
   "id": "e07ff2f3a890371b",
   "outputs": [],
   "execution_count": 64
  }
 ],
 "metadata": {
  "kernelspec": {
   "display_name": "Python 3",
   "language": "python",
   "name": "python3"
  },
  "language_info": {
   "codemirror_mode": {
    "name": "ipython",
    "version": 2
   },
   "file_extension": ".py",
   "mimetype": "text/x-python",
   "name": "python",
   "nbconvert_exporter": "python",
   "pygments_lexer": "ipython2",
   "version": "2.7.6"
  }
 },
 "nbformat": 4,
 "nbformat_minor": 5
}
