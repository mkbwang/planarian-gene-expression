{
 "cells": [
  {
   "metadata": {},
   "cell_type": "markdown",
   "source": "# Elastic Net Models",
   "id": "f21f89f544f52972"
  },
  {
   "metadata": {
    "ExecuteTime": {
     "end_time": "2025-02-22T16:12:02.408687Z",
     "start_time": "2025-02-22T16:12:02.108392Z"
    }
   },
   "cell_type": "code",
   "source": [
    "import pandas as pd\n",
    "import numpy as np\n",
    "from sklearn.preprocessing import StandardScaler\n"
   ],
   "id": "3fc8f230c901a408",
   "outputs": [],
   "execution_count": 1
  },
  {
   "metadata": {
    "ExecuteTime": {
     "end_time": "2025-02-22T16:13:00.238066Z",
     "start_time": "2025-02-22T16:13:00.055233Z"
    }
   },
   "cell_type": "code",
   "source": "geneexp = pd.read_csv(\"gene_expression_original.csv\", sep='\\t', index_col=0)",
   "id": "bf4166f3476a62a7",
   "outputs": [],
   "execution_count": 2
  },
  {
   "metadata": {
    "ExecuteTime": {
     "end_time": "2025-02-22T16:37:21.264561Z",
     "start_time": "2025-02-22T16:37:21.246831Z"
    }
   },
   "cell_type": "code",
   "source": [
    "selected_genes = pd.read_csv(\"linear_model/topgenes.tsv\", sep='\\t', index_col=0)\n",
    "selected_genes.head()"
   ],
   "id": "9434633bf936ef93",
   "outputs": [
    {
     "data": {
      "text/plain": [
       "                 TSS  SSwithin  SSbetween    SEProp\n",
       "SSMa114640  2.976327  0.406906   2.569420  0.863286\n",
       "SSMa019120  3.158486  0.508415   2.650071  0.839032\n",
       "SSMd291000  2.447368  0.449332   1.998036  0.816402\n",
       "SSMb152060  0.305430  0.056249   0.249181  0.815836\n",
       "SSMb194180  8.265961  1.534264   6.731697  0.814388"
      ],
      "text/html": [
       "<div>\n",
       "<style scoped>\n",
       "    .dataframe tbody tr th:only-of-type {\n",
       "        vertical-align: middle;\n",
       "    }\n",
       "\n",
       "    .dataframe tbody tr th {\n",
       "        vertical-align: top;\n",
       "    }\n",
       "\n",
       "    .dataframe thead th {\n",
       "        text-align: right;\n",
       "    }\n",
       "</style>\n",
       "<table border=\"1\" class=\"dataframe\">\n",
       "  <thead>\n",
       "    <tr style=\"text-align: right;\">\n",
       "      <th></th>\n",
       "      <th>TSS</th>\n",
       "      <th>SSwithin</th>\n",
       "      <th>SSbetween</th>\n",
       "      <th>SEProp</th>\n",
       "    </tr>\n",
       "  </thead>\n",
       "  <tbody>\n",
       "    <tr>\n",
       "      <th>SSMa114640</th>\n",
       "      <td>2.976327</td>\n",
       "      <td>0.406906</td>\n",
       "      <td>2.569420</td>\n",
       "      <td>0.863286</td>\n",
       "    </tr>\n",
       "    <tr>\n",
       "      <th>SSMa019120</th>\n",
       "      <td>3.158486</td>\n",
       "      <td>0.508415</td>\n",
       "      <td>2.650071</td>\n",
       "      <td>0.839032</td>\n",
       "    </tr>\n",
       "    <tr>\n",
       "      <th>SSMd291000</th>\n",
       "      <td>2.447368</td>\n",
       "      <td>0.449332</td>\n",
       "      <td>1.998036</td>\n",
       "      <td>0.816402</td>\n",
       "    </tr>\n",
       "    <tr>\n",
       "      <th>SSMb152060</th>\n",
       "      <td>0.305430</td>\n",
       "      <td>0.056249</td>\n",
       "      <td>0.249181</td>\n",
       "      <td>0.815836</td>\n",
       "    </tr>\n",
       "    <tr>\n",
       "      <th>SSMb194180</th>\n",
       "      <td>8.265961</td>\n",
       "      <td>1.534264</td>\n",
       "      <td>6.731697</td>\n",
       "      <td>0.814388</td>\n",
       "    </tr>\n",
       "  </tbody>\n",
       "</table>\n",
       "</div>"
      ]
     },
     "execution_count": 5,
     "metadata": {},
     "output_type": "execute_result"
    }
   ],
   "execution_count": 5
  },
  {
   "metadata": {
    "ExecuteTime": {
     "end_time": "2025-02-22T16:37:54.273367Z",
     "start_time": "2025-02-22T16:37:54.269170Z"
    }
   },
   "cell_type": "code",
   "source": [
    "import re\n",
    "# extract the month numbers\n",
    "def extract_number(mystring):\n",
    "    numbers = re.findall(\"^\\d+\", mystring)\n",
    "    return int(numbers[0])"
   ],
   "id": "48583b55fbaa06bc",
   "outputs": [],
   "execution_count": 6
  },
  {
   "metadata": {
    "ExecuteTime": {
     "end_time": "2025-02-22T19:05:54.196660Z",
     "start_time": "2025-02-22T19:05:54.187687Z"
    }
   },
   "cell_type": "code",
   "source": [
    "# get the ages\n",
    "ages = np.array([extract_number(timestring) for timestring in geneexp.columns.tolist()]).reshape(-1, 1)\n",
    "top_genes = selected_genes.index.tolist()\n",
    "selected_geneexp_mat = np.array(geneexp.loc[top_genes, :]).transpose()\n",
    "log_geneexp_mat = np.log(selected_geneexp_mat)"
   ],
   "id": "41c1baec7eff76bb",
   "outputs": [],
   "execution_count": 25
  },
  {
   "metadata": {},
   "cell_type": "markdown",
   "source": "Fit Elastic Net Regression",
   "id": "5ca98f25eb8dad82"
  },
  {
   "metadata": {
    "ExecuteTime": {
     "end_time": "2025-02-22T22:11:32.209372Z",
     "start_time": "2025-02-22T22:11:32.204862Z"
    }
   },
   "cell_type": "code",
   "source": [
    "from sklearn.model_selection import LeaveOneOut, GridSearchCV\n",
    "from sklearn.linear_model import ElasticNet\n",
    "from sklearn.datasets import make_regression\n",
    "from sklearn.preprocessing import StandardScaler\n",
    "from sklearn.metrics import mean_squared_error, mean_absolute_error\n",
    "from sklearn.pipeline import Pipeline"
   ],
   "id": "9a49ce9e765e9d6b",
   "outputs": [],
   "execution_count": 200
  },
  {
   "metadata": {},
   "cell_type": "markdown",
   "source": "Set up parameters that are worth tuning: number of features to start from, regularization parameter and the proportion of l2 and l1 penalty.",
   "id": "ff6a226b3ed0a8c9"
  },
  {
   "metadata": {
    "ExecuteTime": {
     "end_time": "2025-02-23T03:48:59.829603Z",
     "start_time": "2025-02-23T03:48:59.823928Z"
    }
   },
   "cell_type": "code",
   "source": [
    "num_features = np.array([50, 100, 200, 300, 400, 500])\n",
    "# each entry in the dictionary is a matrix of values\n",
    "loo_mae = {num_feature: [] for num_feature in num_features} # leave one out MAE\n",
    "loo_instability = {num_feature: [] for num_feature in num_features} # leave one out instability\n",
    "agefold_mae = {num_feature: [] for num_feature in num_features}\n",
    "agefold_instability = {num_feature: [] for num_feature in num_features}\n",
    "# optimal_param = {num_feature: [] for num_feature in num_features}\n",
    "penalties = 0.05*(2**np.arange(0, 6))\n",
    "l1ratios = np.arange(0.25, 1, 0.25)"
   ],
   "id": "a13210b9530202c8",
   "outputs": [],
   "execution_count": 251
  },
  {
   "metadata": {},
   "cell_type": "markdown",
   "source": "Set up",
   "id": "5060833dc9e9bf59"
  },
  {
   "metadata": {
    "ExecuteTime": {
     "end_time": "2025-02-23T04:00:12.490466Z",
     "start_time": "2025-02-23T04:00:12.479907Z"
    }
   },
   "cell_type": "code",
   "source": [
    "def enet_fit(X, Y, nfeature=50, penalty=0.2, l1ratio=0.5, folds = None):\n",
    "    \"\"\"\n",
    "    :param X: predictor matrix, nsample * ngene\n",
    "    :param Y: age to be predicted, nsamples\n",
    "    :param nfeature: number of top features in X to be preserved\n",
    "    :param penalty: penalty parameter\n",
    "    :param l1ratio: proportion of L1 penalty\n",
    "    :param folds: a list of indices\n",
    "    :return: mean absolute error and instability statistics\n",
    "    \"\"\"\n",
    "    X_subset = X[:, 0:nfeature]\n",
    "    model = Pipeline([\n",
    "        ('scaler', StandardScaler()),\n",
    "        ('elasticnet', ElasticNet(alpha=penalty,l1_ratio=l1ratio,max_iter=20000))\n",
    "    ])\n",
    "    absolute_error = np.zeros(X_subset.shape[0])\n",
    "    coefficients = np.zeros((len(folds), nfeature))\n",
    "\n",
    "    if folds is None:\n",
    "        folds = np.arange(0, X.shape[0])\n",
    "\n",
    "    for j, fold in enumerate(folds):\n",
    "\n",
    "        X_train = np.delete(X_subset, fold, axis=0)\n",
    "        Y_train = np.delete(Y, fold, axis=0)\n",
    "        X_test = X_subset[fold, :].reshape(-1, nfeature)\n",
    "        Y_test = Y[fold]\n",
    "        model.fit(X_train, Y_train)\n",
    "        coefficients[j, :] = model['elasticnet'].coef_\n",
    "        y_test_pred = model.predict(X_test)\n",
    "        absolute_error[fold] = mean_absolute_error(Y_test, y_test_pred)\n",
    "\n",
    "    mae = np.mean(absolute_error)\n",
    "    selection_prob = np.mean(coefficients !=0, axis=0)\n",
    "    instability = np.mean(selection_prob * (1-selection_prob))\n",
    "\n",
    "    return mae, instability\n"
   ],
   "id": "25b8683d9acd5e7c",
   "outputs": [],
   "execution_count": 259
  },
  {
   "metadata": {},
   "cell_type": "markdown",
   "source": "First report performance when each sample is left out one by one.",
   "id": "cfb149bf64c3cf01"
  },
  {
   "metadata": {
    "ExecuteTime": {
     "end_time": "2025-02-23T03:52:44.738919Z",
     "start_time": "2025-02-23T03:49:14.181164Z"
    }
   },
   "cell_type": "code",
   "source": [
    "for num_feature in num_features:\n",
    "    print(num_feature)\n",
    "    mae_mat = np.zeros((len(penalties), len(l1ratios)))\n",
    "    instability_mat = np.zeros((len(penalties), len(l1ratios)))\n",
    "    for i, penalty in enumerate(penalties):\n",
    "        for j, l1ratio in enumerate(l1ratios):\n",
    "            mae_mat[i, j], instability_mat[i, j] = enet_fit(X=log_geneexp_mat, Y=ages, nfeature=num_feature, penalty=penalty, l1ratio=l1ratio)\n",
    "\n",
    "    loo_mae[num_feature] = mae_mat\n",
    "    loo_instability[num_feature] = instability_mat"
   ],
   "id": "6a0b78b370380d4",
   "outputs": [
    {
     "name": "stdout",
     "output_type": "stream",
     "text": [
      "50\n",
      "100\n",
      "200\n",
      "300\n"
     ]
    },
    {
     "name": "stderr",
     "output_type": "stream",
     "text": [
      "/home/wangmk/micromamba/envs/ML/lib/python3.9/site-packages/sklearn/linear_model/_coordinate_descent.py:678: ConvergenceWarning: Objective did not converge. You might want to increase the number of iterations, check the scale of the features or consider increasing regularisation. Duality gap: 8.000e-01, tolerance: 6.652e-01\n",
      "  model = cd_fast.enet_coordinate_descent(\n",
      "/home/wangmk/micromamba/envs/ML/lib/python3.9/site-packages/sklearn/linear_model/_coordinate_descent.py:678: ConvergenceWarning: Objective did not converge. You might want to increase the number of iterations, check the scale of the features or consider increasing regularisation. Duality gap: 1.044e+00, tolerance: 6.710e-01\n",
      "  model = cd_fast.enet_coordinate_descent(\n",
      "/home/wangmk/micromamba/envs/ML/lib/python3.9/site-packages/sklearn/linear_model/_coordinate_descent.py:678: ConvergenceWarning: Objective did not converge. You might want to increase the number of iterations, check the scale of the features or consider increasing regularisation. Duality gap: 9.681e-01, tolerance: 6.710e-01\n",
      "  model = cd_fast.enet_coordinate_descent(\n",
      "/home/wangmk/micromamba/envs/ML/lib/python3.9/site-packages/sklearn/linear_model/_coordinate_descent.py:678: ConvergenceWarning: Objective did not converge. You might want to increase the number of iterations, check the scale of the features or consider increasing regularisation. Duality gap: 1.086e+00, tolerance: 6.761e-01\n",
      "  model = cd_fast.enet_coordinate_descent(\n",
      "/home/wangmk/micromamba/envs/ML/lib/python3.9/site-packages/sklearn/linear_model/_coordinate_descent.py:678: ConvergenceWarning: Objective did not converge. You might want to increase the number of iterations, check the scale of the features or consider increasing regularisation. Duality gap: 1.252e+00, tolerance: 6.804e-01\n",
      "  model = cd_fast.enet_coordinate_descent(\n",
      "/home/wangmk/micromamba/envs/ML/lib/python3.9/site-packages/sklearn/linear_model/_coordinate_descent.py:678: ConvergenceWarning: Objective did not converge. You might want to increase the number of iterations, check the scale of the features or consider increasing regularisation. Duality gap: 8.399e-01, tolerance: 6.804e-01\n",
      "  model = cd_fast.enet_coordinate_descent(\n",
      "/home/wangmk/micromamba/envs/ML/lib/python3.9/site-packages/sklearn/linear_model/_coordinate_descent.py:678: ConvergenceWarning: Objective did not converge. You might want to increase the number of iterations, check the scale of the features or consider increasing regularisation. Duality gap: 8.399e-01, tolerance: 6.804e-01\n",
      "  model = cd_fast.enet_coordinate_descent(\n",
      "/home/wangmk/micromamba/envs/ML/lib/python3.9/site-packages/sklearn/linear_model/_coordinate_descent.py:678: ConvergenceWarning: Objective did not converge. You might want to increase the number of iterations, check the scale of the features or consider increasing regularisation. Duality gap: 1.176e+00, tolerance: 6.804e-01\n",
      "  model = cd_fast.enet_coordinate_descent(\n",
      "/home/wangmk/micromamba/envs/ML/lib/python3.9/site-packages/sklearn/linear_model/_coordinate_descent.py:678: ConvergenceWarning: Objective did not converge. You might want to increase the number of iterations, check the scale of the features or consider increasing regularisation. Duality gap: 1.385e+00, tolerance: 6.838e-01\n",
      "  model = cd_fast.enet_coordinate_descent(\n",
      "/home/wangmk/micromamba/envs/ML/lib/python3.9/site-packages/sklearn/linear_model/_coordinate_descent.py:678: ConvergenceWarning: Objective did not converge. You might want to increase the number of iterations, check the scale of the features or consider increasing regularisation. Duality gap: 1.487e+00, tolerance: 6.838e-01\n",
      "  model = cd_fast.enet_coordinate_descent(\n",
      "/home/wangmk/micromamba/envs/ML/lib/python3.9/site-packages/sklearn/linear_model/_coordinate_descent.py:678: ConvergenceWarning: Objective did not converge. You might want to increase the number of iterations, check the scale of the features or consider increasing regularisation. Duality gap: 1.416e+00, tolerance: 6.864e-01\n",
      "  model = cd_fast.enet_coordinate_descent(\n",
      "/home/wangmk/micromamba/envs/ML/lib/python3.9/site-packages/sklearn/linear_model/_coordinate_descent.py:678: ConvergenceWarning: Objective did not converge. You might want to increase the number of iterations, check the scale of the features or consider increasing regularisation. Duality gap: 1.199e+00, tolerance: 6.864e-01\n",
      "  model = cd_fast.enet_coordinate_descent(\n",
      "/home/wangmk/micromamba/envs/ML/lib/python3.9/site-packages/sklearn/linear_model/_coordinate_descent.py:678: ConvergenceWarning: Objective did not converge. You might want to increase the number of iterations, check the scale of the features or consider increasing regularisation. Duality gap: 8.855e-01, tolerance: 6.864e-01\n",
      "  model = cd_fast.enet_coordinate_descent(\n",
      "/home/wangmk/micromamba/envs/ML/lib/python3.9/site-packages/sklearn/linear_model/_coordinate_descent.py:678: ConvergenceWarning: Objective did not converge. You might want to increase the number of iterations, check the scale of the features or consider increasing regularisation. Duality gap: 8.695e-01, tolerance: 6.874e-01\n",
      "  model = cd_fast.enet_coordinate_descent(\n",
      "/home/wangmk/micromamba/envs/ML/lib/python3.9/site-packages/sklearn/linear_model/_coordinate_descent.py:678: ConvergenceWarning: Objective did not converge. You might want to increase the number of iterations, check the scale of the features or consider increasing regularisation. Duality gap: 7.602e-01, tolerance: 6.874e-01\n",
      "  model = cd_fast.enet_coordinate_descent(\n",
      "/home/wangmk/micromamba/envs/ML/lib/python3.9/site-packages/sklearn/linear_model/_coordinate_descent.py:678: ConvergenceWarning: Objective did not converge. You might want to increase the number of iterations, check the scale of the features or consider increasing regularisation. Duality gap: 9.545e-01, tolerance: 6.888e-01\n",
      "  model = cd_fast.enet_coordinate_descent(\n",
      "/home/wangmk/micromamba/envs/ML/lib/python3.9/site-packages/sklearn/linear_model/_coordinate_descent.py:678: ConvergenceWarning: Objective did not converge. You might want to increase the number of iterations, check the scale of the features or consider increasing regularisation. Duality gap: 1.186e+00, tolerance: 6.888e-01\n",
      "  model = cd_fast.enet_coordinate_descent(\n",
      "/home/wangmk/micromamba/envs/ML/lib/python3.9/site-packages/sklearn/linear_model/_coordinate_descent.py:678: ConvergenceWarning: Objective did not converge. You might want to increase the number of iterations, check the scale of the features or consider increasing regularisation. Duality gap: 8.375e-01, tolerance: 6.888e-01\n",
      "  model = cd_fast.enet_coordinate_descent(\n",
      "/home/wangmk/micromamba/envs/ML/lib/python3.9/site-packages/sklearn/linear_model/_coordinate_descent.py:678: ConvergenceWarning: Objective did not converge. You might want to increase the number of iterations, check the scale of the features or consider increasing regularisation. Duality gap: 8.826e-01, tolerance: 6.894e-01\n",
      "  model = cd_fast.enet_coordinate_descent(\n",
      "/home/wangmk/micromamba/envs/ML/lib/python3.9/site-packages/sklearn/linear_model/_coordinate_descent.py:678: ConvergenceWarning: Objective did not converge. You might want to increase the number of iterations, check the scale of the features or consider increasing regularisation. Duality gap: 7.503e-01, tolerance: 6.881e-01\n",
      "  model = cd_fast.enet_coordinate_descent(\n",
      "/home/wangmk/micromamba/envs/ML/lib/python3.9/site-packages/sklearn/linear_model/_coordinate_descent.py:678: ConvergenceWarning: Objective did not converge. You might want to increase the number of iterations, check the scale of the features or consider increasing regularisation. Duality gap: 8.009e-01, tolerance: 6.862e-01\n",
      "  model = cd_fast.enet_coordinate_descent(\n",
      "/home/wangmk/micromamba/envs/ML/lib/python3.9/site-packages/sklearn/linear_model/_coordinate_descent.py:678: ConvergenceWarning: Objective did not converge. You might want to increase the number of iterations, check the scale of the features or consider increasing regularisation. Duality gap: 1.207e+00, tolerance: 6.862e-01\n",
      "  model = cd_fast.enet_coordinate_descent(\n",
      "/home/wangmk/micromamba/envs/ML/lib/python3.9/site-packages/sklearn/linear_model/_coordinate_descent.py:678: ConvergenceWarning: Objective did not converge. You might want to increase the number of iterations, check the scale of the features or consider increasing regularisation. Duality gap: 1.038e+00, tolerance: 6.542e-01\n",
      "  model = cd_fast.enet_coordinate_descent(\n",
      "/home/wangmk/micromamba/envs/ML/lib/python3.9/site-packages/sklearn/linear_model/_coordinate_descent.py:678: ConvergenceWarning: Objective did not converge. You might want to increase the number of iterations, check the scale of the features or consider increasing regularisation. Duality gap: 8.604e-01, tolerance: 6.542e-01\n",
      "  model = cd_fast.enet_coordinate_descent(\n",
      "/home/wangmk/micromamba/envs/ML/lib/python3.9/site-packages/sklearn/linear_model/_coordinate_descent.py:678: ConvergenceWarning: Objective did not converge. You might want to increase the number of iterations, check the scale of the features or consider increasing regularisation. Duality gap: 9.741e-01, tolerance: 6.542e-01\n",
      "  model = cd_fast.enet_coordinate_descent(\n",
      "/home/wangmk/micromamba/envs/ML/lib/python3.9/site-packages/sklearn/linear_model/_coordinate_descent.py:678: ConvergenceWarning: Objective did not converge. You might want to increase the number of iterations, check the scale of the features or consider increasing regularisation. Duality gap: 1.294e+00, tolerance: 6.278e-01\n",
      "  model = cd_fast.enet_coordinate_descent(\n",
      "/home/wangmk/micromamba/envs/ML/lib/python3.9/site-packages/sklearn/linear_model/_coordinate_descent.py:678: ConvergenceWarning: Objective did not converge. You might want to increase the number of iterations, check the scale of the features or consider increasing regularisation. Duality gap: 1.093e+00, tolerance: 6.278e-01\n",
      "  model = cd_fast.enet_coordinate_descent(\n",
      "/home/wangmk/micromamba/envs/ML/lib/python3.9/site-packages/sklearn/linear_model/_coordinate_descent.py:678: ConvergenceWarning: Objective did not converge. You might want to increase the number of iterations, check the scale of the features or consider increasing regularisation. Duality gap: 1.074e+00, tolerance: 6.278e-01\n",
      "  model = cd_fast.enet_coordinate_descent(\n"
     ]
    },
    {
     "name": "stdout",
     "output_type": "stream",
     "text": [
      "400\n"
     ]
    },
    {
     "name": "stderr",
     "output_type": "stream",
     "text": [
      "/home/wangmk/micromamba/envs/ML/lib/python3.9/site-packages/sklearn/linear_model/_coordinate_descent.py:678: ConvergenceWarning: Objective did not converge. You might want to increase the number of iterations, check the scale of the features or consider increasing regularisation. Duality gap: 2.025e+00, tolerance: 6.652e-01\n",
      "  model = cd_fast.enet_coordinate_descent(\n",
      "/home/wangmk/micromamba/envs/ML/lib/python3.9/site-packages/sklearn/linear_model/_coordinate_descent.py:678: ConvergenceWarning: Objective did not converge. You might want to increase the number of iterations, check the scale of the features or consider increasing regularisation. Duality gap: 1.574e+00, tolerance: 6.652e-01\n",
      "  model = cd_fast.enet_coordinate_descent(\n",
      "/home/wangmk/micromamba/envs/ML/lib/python3.9/site-packages/sklearn/linear_model/_coordinate_descent.py:678: ConvergenceWarning: Objective did not converge. You might want to increase the number of iterations, check the scale of the features or consider increasing regularisation. Duality gap: 1.491e+00, tolerance: 6.652e-01\n",
      "  model = cd_fast.enet_coordinate_descent(\n",
      "/home/wangmk/micromamba/envs/ML/lib/python3.9/site-packages/sklearn/linear_model/_coordinate_descent.py:678: ConvergenceWarning: Objective did not converge. You might want to increase the number of iterations, check the scale of the features or consider increasing regularisation. Duality gap: 1.324e+00, tolerance: 6.652e-01\n",
      "  model = cd_fast.enet_coordinate_descent(\n",
      "/home/wangmk/micromamba/envs/ML/lib/python3.9/site-packages/sklearn/linear_model/_coordinate_descent.py:678: ConvergenceWarning: Objective did not converge. You might want to increase the number of iterations, check the scale of the features or consider increasing regularisation. Duality gap: 1.680e+00, tolerance: 6.710e-01\n",
      "  model = cd_fast.enet_coordinate_descent(\n",
      "/home/wangmk/micromamba/envs/ML/lib/python3.9/site-packages/sklearn/linear_model/_coordinate_descent.py:678: ConvergenceWarning: Objective did not converge. You might want to increase the number of iterations, check the scale of the features or consider increasing regularisation. Duality gap: 1.864e+00, tolerance: 6.710e-01\n",
      "  model = cd_fast.enet_coordinate_descent(\n",
      "/home/wangmk/micromamba/envs/ML/lib/python3.9/site-packages/sklearn/linear_model/_coordinate_descent.py:678: ConvergenceWarning: Objective did not converge. You might want to increase the number of iterations, check the scale of the features or consider increasing regularisation. Duality gap: 1.363e+00, tolerance: 6.710e-01\n",
      "  model = cd_fast.enet_coordinate_descent(\n",
      "/home/wangmk/micromamba/envs/ML/lib/python3.9/site-packages/sklearn/linear_model/_coordinate_descent.py:678: ConvergenceWarning: Objective did not converge. You might want to increase the number of iterations, check the scale of the features or consider increasing regularisation. Duality gap: 1.184e+00, tolerance: 6.761e-01\n",
      "  model = cd_fast.enet_coordinate_descent(\n",
      "/home/wangmk/micromamba/envs/ML/lib/python3.9/site-packages/sklearn/linear_model/_coordinate_descent.py:678: ConvergenceWarning: Objective did not converge. You might want to increase the number of iterations, check the scale of the features or consider increasing regularisation. Duality gap: 1.104e+00, tolerance: 6.761e-01\n",
      "  model = cd_fast.enet_coordinate_descent(\n",
      "/home/wangmk/micromamba/envs/ML/lib/python3.9/site-packages/sklearn/linear_model/_coordinate_descent.py:678: ConvergenceWarning: Objective did not converge. You might want to increase the number of iterations, check the scale of the features or consider increasing regularisation. Duality gap: 1.814e+00, tolerance: 6.761e-01\n",
      "  model = cd_fast.enet_coordinate_descent(\n",
      "/home/wangmk/micromamba/envs/ML/lib/python3.9/site-packages/sklearn/linear_model/_coordinate_descent.py:678: ConvergenceWarning: Objective did not converge. You might want to increase the number of iterations, check the scale of the features or consider increasing regularisation. Duality gap: 1.640e+00, tolerance: 6.804e-01\n",
      "  model = cd_fast.enet_coordinate_descent(\n",
      "/home/wangmk/micromamba/envs/ML/lib/python3.9/site-packages/sklearn/linear_model/_coordinate_descent.py:678: ConvergenceWarning: Objective did not converge. You might want to increase the number of iterations, check the scale of the features or consider increasing regularisation. Duality gap: 1.901e+00, tolerance: 6.804e-01\n",
      "  model = cd_fast.enet_coordinate_descent(\n",
      "/home/wangmk/micromamba/envs/ML/lib/python3.9/site-packages/sklearn/linear_model/_coordinate_descent.py:678: ConvergenceWarning: Objective did not converge. You might want to increase the number of iterations, check the scale of the features or consider increasing regularisation. Duality gap: 1.212e+00, tolerance: 6.804e-01\n",
      "  model = cd_fast.enet_coordinate_descent(\n",
      "/home/wangmk/micromamba/envs/ML/lib/python3.9/site-packages/sklearn/linear_model/_coordinate_descent.py:678: ConvergenceWarning: Objective did not converge. You might want to increase the number of iterations, check the scale of the features or consider increasing regularisation. Duality gap: 1.361e+00, tolerance: 6.804e-01\n",
      "  model = cd_fast.enet_coordinate_descent(\n",
      "/home/wangmk/micromamba/envs/ML/lib/python3.9/site-packages/sklearn/linear_model/_coordinate_descent.py:678: ConvergenceWarning: Objective did not converge. You might want to increase the number of iterations, check the scale of the features or consider increasing regularisation. Duality gap: 1.329e+00, tolerance: 6.838e-01\n",
      "  model = cd_fast.enet_coordinate_descent(\n",
      "/home/wangmk/micromamba/envs/ML/lib/python3.9/site-packages/sklearn/linear_model/_coordinate_descent.py:678: ConvergenceWarning: Objective did not converge. You might want to increase the number of iterations, check the scale of the features or consider increasing regularisation. Duality gap: 1.039e+00, tolerance: 6.838e-01\n",
      "  model = cd_fast.enet_coordinate_descent(\n",
      "/home/wangmk/micromamba/envs/ML/lib/python3.9/site-packages/sklearn/linear_model/_coordinate_descent.py:678: ConvergenceWarning: Objective did not converge. You might want to increase the number of iterations, check the scale of the features or consider increasing regularisation. Duality gap: 1.243e+00, tolerance: 6.838e-01\n",
      "  model = cd_fast.enet_coordinate_descent(\n",
      "/home/wangmk/micromamba/envs/ML/lib/python3.9/site-packages/sklearn/linear_model/_coordinate_descent.py:678: ConvergenceWarning: Objective did not converge. You might want to increase the number of iterations, check the scale of the features or consider increasing regularisation. Duality gap: 1.650e+00, tolerance: 6.864e-01\n",
      "  model = cd_fast.enet_coordinate_descent(\n",
      "/home/wangmk/micromamba/envs/ML/lib/python3.9/site-packages/sklearn/linear_model/_coordinate_descent.py:678: ConvergenceWarning: Objective did not converge. You might want to increase the number of iterations, check the scale of the features or consider increasing regularisation. Duality gap: 1.528e+00, tolerance: 6.864e-01\n",
      "  model = cd_fast.enet_coordinate_descent(\n",
      "/home/wangmk/micromamba/envs/ML/lib/python3.9/site-packages/sklearn/linear_model/_coordinate_descent.py:678: ConvergenceWarning: Objective did not converge. You might want to increase the number of iterations, check the scale of the features or consider increasing regularisation. Duality gap: 1.012e+00, tolerance: 6.864e-01\n",
      "  model = cd_fast.enet_coordinate_descent(\n",
      "/home/wangmk/micromamba/envs/ML/lib/python3.9/site-packages/sklearn/linear_model/_coordinate_descent.py:678: ConvergenceWarning: Objective did not converge. You might want to increase the number of iterations, check the scale of the features or consider increasing regularisation. Duality gap: 1.043e+00, tolerance: 6.874e-01\n",
      "  model = cd_fast.enet_coordinate_descent(\n",
      "/home/wangmk/micromamba/envs/ML/lib/python3.9/site-packages/sklearn/linear_model/_coordinate_descent.py:678: ConvergenceWarning: Objective did not converge. You might want to increase the number of iterations, check the scale of the features or consider increasing regularisation. Duality gap: 1.252e+00, tolerance: 6.874e-01\n",
      "  model = cd_fast.enet_coordinate_descent(\n",
      "/home/wangmk/micromamba/envs/ML/lib/python3.9/site-packages/sklearn/linear_model/_coordinate_descent.py:678: ConvergenceWarning: Objective did not converge. You might want to increase the number of iterations, check the scale of the features or consider increasing regularisation. Duality gap: 1.234e+00, tolerance: 6.888e-01\n",
      "  model = cd_fast.enet_coordinate_descent(\n",
      "/home/wangmk/micromamba/envs/ML/lib/python3.9/site-packages/sklearn/linear_model/_coordinate_descent.py:678: ConvergenceWarning: Objective did not converge. You might want to increase the number of iterations, check the scale of the features or consider increasing regularisation. Duality gap: 1.266e+00, tolerance: 6.888e-01\n",
      "  model = cd_fast.enet_coordinate_descent(\n",
      "/home/wangmk/micromamba/envs/ML/lib/python3.9/site-packages/sklearn/linear_model/_coordinate_descent.py:678: ConvergenceWarning: Objective did not converge. You might want to increase the number of iterations, check the scale of the features or consider increasing regularisation. Duality gap: 1.852e+00, tolerance: 6.888e-01\n",
      "  model = cd_fast.enet_coordinate_descent(\n",
      "/home/wangmk/micromamba/envs/ML/lib/python3.9/site-packages/sklearn/linear_model/_coordinate_descent.py:678: ConvergenceWarning: Objective did not converge. You might want to increase the number of iterations, check the scale of the features or consider increasing regularisation. Duality gap: 1.711e+00, tolerance: 6.888e-01\n",
      "  model = cd_fast.enet_coordinate_descent(\n",
      "/home/wangmk/micromamba/envs/ML/lib/python3.9/site-packages/sklearn/linear_model/_coordinate_descent.py:678: ConvergenceWarning: Objective did not converge. You might want to increase the number of iterations, check the scale of the features or consider increasing regularisation. Duality gap: 1.398e+00, tolerance: 6.894e-01\n",
      "  model = cd_fast.enet_coordinate_descent(\n",
      "/home/wangmk/micromamba/envs/ML/lib/python3.9/site-packages/sklearn/linear_model/_coordinate_descent.py:678: ConvergenceWarning: Objective did not converge. You might want to increase the number of iterations, check the scale of the features or consider increasing regularisation. Duality gap: 1.898e+00, tolerance: 6.894e-01\n",
      "  model = cd_fast.enet_coordinate_descent(\n",
      "/home/wangmk/micromamba/envs/ML/lib/python3.9/site-packages/sklearn/linear_model/_coordinate_descent.py:678: ConvergenceWarning: Objective did not converge. You might want to increase the number of iterations, check the scale of the features or consider increasing regularisation. Duality gap: 1.047e+00, tolerance: 6.894e-01\n",
      "  model = cd_fast.enet_coordinate_descent(\n",
      "/home/wangmk/micromamba/envs/ML/lib/python3.9/site-packages/sklearn/linear_model/_coordinate_descent.py:678: ConvergenceWarning: Objective did not converge. You might want to increase the number of iterations, check the scale of the features or consider increasing regularisation. Duality gap: 1.453e+00, tolerance: 6.894e-01\n",
      "  model = cd_fast.enet_coordinate_descent(\n",
      "/home/wangmk/micromamba/envs/ML/lib/python3.9/site-packages/sklearn/linear_model/_coordinate_descent.py:678: ConvergenceWarning: Objective did not converge. You might want to increase the number of iterations, check the scale of the features or consider increasing regularisation. Duality gap: 9.779e-01, tolerance: 6.894e-01\n",
      "  model = cd_fast.enet_coordinate_descent(\n",
      "/home/wangmk/micromamba/envs/ML/lib/python3.9/site-packages/sklearn/linear_model/_coordinate_descent.py:678: ConvergenceWarning: Objective did not converge. You might want to increase the number of iterations, check the scale of the features or consider increasing regularisation. Duality gap: 1.172e+00, tolerance: 6.894e-01\n",
      "  model = cd_fast.enet_coordinate_descent(\n",
      "/home/wangmk/micromamba/envs/ML/lib/python3.9/site-packages/sklearn/linear_model/_coordinate_descent.py:678: ConvergenceWarning: Objective did not converge. You might want to increase the number of iterations, check the scale of the features or consider increasing regularisation. Duality gap: 1.401e+00, tolerance: 6.881e-01\n",
      "  model = cd_fast.enet_coordinate_descent(\n",
      "/home/wangmk/micromamba/envs/ML/lib/python3.9/site-packages/sklearn/linear_model/_coordinate_descent.py:678: ConvergenceWarning: Objective did not converge. You might want to increase the number of iterations, check the scale of the features or consider increasing regularisation. Duality gap: 1.318e+00, tolerance: 6.881e-01\n",
      "  model = cd_fast.enet_coordinate_descent(\n",
      "/home/wangmk/micromamba/envs/ML/lib/python3.9/site-packages/sklearn/linear_model/_coordinate_descent.py:678: ConvergenceWarning: Objective did not converge. You might want to increase the number of iterations, check the scale of the features or consider increasing regularisation. Duality gap: 1.183e+00, tolerance: 6.881e-01\n",
      "  model = cd_fast.enet_coordinate_descent(\n",
      "/home/wangmk/micromamba/envs/ML/lib/python3.9/site-packages/sklearn/linear_model/_coordinate_descent.py:678: ConvergenceWarning: Objective did not converge. You might want to increase the number of iterations, check the scale of the features or consider increasing regularisation. Duality gap: 1.026e+00, tolerance: 6.862e-01\n",
      "  model = cd_fast.enet_coordinate_descent(\n",
      "/home/wangmk/micromamba/envs/ML/lib/python3.9/site-packages/sklearn/linear_model/_coordinate_descent.py:678: ConvergenceWarning: Objective did not converge. You might want to increase the number of iterations, check the scale of the features or consider increasing regularisation. Duality gap: 1.231e+00, tolerance: 6.862e-01\n",
      "  model = cd_fast.enet_coordinate_descent(\n",
      "/home/wangmk/micromamba/envs/ML/lib/python3.9/site-packages/sklearn/linear_model/_coordinate_descent.py:678: ConvergenceWarning: Objective did not converge. You might want to increase the number of iterations, check the scale of the features or consider increasing regularisation. Duality gap: 1.160e+00, tolerance: 6.862e-01\n",
      "  model = cd_fast.enet_coordinate_descent(\n",
      "/home/wangmk/micromamba/envs/ML/lib/python3.9/site-packages/sklearn/linear_model/_coordinate_descent.py:678: ConvergenceWarning: Objective did not converge. You might want to increase the number of iterations, check the scale of the features or consider increasing regularisation. Duality gap: 1.499e+00, tolerance: 6.862e-01\n",
      "  model = cd_fast.enet_coordinate_descent(\n",
      "/home/wangmk/micromamba/envs/ML/lib/python3.9/site-packages/sklearn/linear_model/_coordinate_descent.py:678: ConvergenceWarning: Objective did not converge. You might want to increase the number of iterations, check the scale of the features or consider increasing regularisation. Duality gap: 1.198e+00, tolerance: 6.579e-01\n",
      "  model = cd_fast.enet_coordinate_descent(\n",
      "/home/wangmk/micromamba/envs/ML/lib/python3.9/site-packages/sklearn/linear_model/_coordinate_descent.py:678: ConvergenceWarning: Objective did not converge. You might want to increase the number of iterations, check the scale of the features or consider increasing regularisation. Duality gap: 1.051e+00, tolerance: 6.579e-01\n",
      "  model = cd_fast.enet_coordinate_descent(\n",
      "/home/wangmk/micromamba/envs/ML/lib/python3.9/site-packages/sklearn/linear_model/_coordinate_descent.py:678: ConvergenceWarning: Objective did not converge. You might want to increase the number of iterations, check the scale of the features or consider increasing regularisation. Duality gap: 1.235e+00, tolerance: 6.542e-01\n",
      "  model = cd_fast.enet_coordinate_descent(\n",
      "/home/wangmk/micromamba/envs/ML/lib/python3.9/site-packages/sklearn/linear_model/_coordinate_descent.py:678: ConvergenceWarning: Objective did not converge. You might want to increase the number of iterations, check the scale of the features or consider increasing regularisation. Duality gap: 9.507e-01, tolerance: 6.542e-01\n",
      "  model = cd_fast.enet_coordinate_descent(\n",
      "/home/wangmk/micromamba/envs/ML/lib/python3.9/site-packages/sklearn/linear_model/_coordinate_descent.py:678: ConvergenceWarning: Objective did not converge. You might want to increase the number of iterations, check the scale of the features or consider increasing regularisation. Duality gap: 8.196e-01, tolerance: 6.542e-01\n",
      "  model = cd_fast.enet_coordinate_descent(\n",
      "/home/wangmk/micromamba/envs/ML/lib/python3.9/site-packages/sklearn/linear_model/_coordinate_descent.py:678: ConvergenceWarning: Objective did not converge. You might want to increase the number of iterations, check the scale of the features or consider increasing regularisation. Duality gap: 1.146e+00, tolerance: 6.542e-01\n",
      "  model = cd_fast.enet_coordinate_descent(\n",
      "/home/wangmk/micromamba/envs/ML/lib/python3.9/site-packages/sklearn/linear_model/_coordinate_descent.py:678: ConvergenceWarning: Objective did not converge. You might want to increase the number of iterations, check the scale of the features or consider increasing regularisation. Duality gap: 1.398e+00, tolerance: 6.278e-01\n",
      "  model = cd_fast.enet_coordinate_descent(\n",
      "/home/wangmk/micromamba/envs/ML/lib/python3.9/site-packages/sklearn/linear_model/_coordinate_descent.py:678: ConvergenceWarning: Objective did not converge. You might want to increase the number of iterations, check the scale of the features or consider increasing regularisation. Duality gap: 1.375e+00, tolerance: 6.278e-01\n",
      "  model = cd_fast.enet_coordinate_descent(\n",
      "/home/wangmk/micromamba/envs/ML/lib/python3.9/site-packages/sklearn/linear_model/_coordinate_descent.py:678: ConvergenceWarning: Objective did not converge. You might want to increase the number of iterations, check the scale of the features or consider increasing regularisation. Duality gap: 1.385e+00, tolerance: 6.278e-01\n",
      "  model = cd_fast.enet_coordinate_descent(\n"
     ]
    },
    {
     "name": "stdout",
     "output_type": "stream",
     "text": [
      "500\n"
     ]
    },
    {
     "name": "stderr",
     "output_type": "stream",
     "text": [
      "/home/wangmk/micromamba/envs/ML/lib/python3.9/site-packages/sklearn/linear_model/_coordinate_descent.py:678: ConvergenceWarning: Objective did not converge. You might want to increase the number of iterations, check the scale of the features or consider increasing regularisation. Duality gap: 2.465e+00, tolerance: 6.652e-01\n",
      "  model = cd_fast.enet_coordinate_descent(\n",
      "/home/wangmk/micromamba/envs/ML/lib/python3.9/site-packages/sklearn/linear_model/_coordinate_descent.py:678: ConvergenceWarning: Objective did not converge. You might want to increase the number of iterations, check the scale of the features or consider increasing regularisation. Duality gap: 1.981e+00, tolerance: 6.652e-01\n",
      "  model = cd_fast.enet_coordinate_descent(\n",
      "/home/wangmk/micromamba/envs/ML/lib/python3.9/site-packages/sklearn/linear_model/_coordinate_descent.py:678: ConvergenceWarning: Objective did not converge. You might want to increase the number of iterations, check the scale of the features or consider increasing regularisation. Duality gap: 2.225e+00, tolerance: 6.652e-01\n",
      "  model = cd_fast.enet_coordinate_descent(\n",
      "/home/wangmk/micromamba/envs/ML/lib/python3.9/site-packages/sklearn/linear_model/_coordinate_descent.py:678: ConvergenceWarning: Objective did not converge. You might want to increase the number of iterations, check the scale of the features or consider increasing regularisation. Duality gap: 2.017e+00, tolerance: 6.652e-01\n",
      "  model = cd_fast.enet_coordinate_descent(\n",
      "/home/wangmk/micromamba/envs/ML/lib/python3.9/site-packages/sklearn/linear_model/_coordinate_descent.py:678: ConvergenceWarning: Objective did not converge. You might want to increase the number of iterations, check the scale of the features or consider increasing regularisation. Duality gap: 1.947e+00, tolerance: 6.710e-01\n",
      "  model = cd_fast.enet_coordinate_descent(\n",
      "/home/wangmk/micromamba/envs/ML/lib/python3.9/site-packages/sklearn/linear_model/_coordinate_descent.py:678: ConvergenceWarning: Objective did not converge. You might want to increase the number of iterations, check the scale of the features or consider increasing regularisation. Duality gap: 2.180e+00, tolerance: 6.710e-01\n",
      "  model = cd_fast.enet_coordinate_descent(\n",
      "/home/wangmk/micromamba/envs/ML/lib/python3.9/site-packages/sklearn/linear_model/_coordinate_descent.py:678: ConvergenceWarning: Objective did not converge. You might want to increase the number of iterations, check the scale of the features or consider increasing regularisation. Duality gap: 2.133e+00, tolerance: 6.710e-01\n",
      "  model = cd_fast.enet_coordinate_descent(\n",
      "/home/wangmk/micromamba/envs/ML/lib/python3.9/site-packages/sklearn/linear_model/_coordinate_descent.py:678: ConvergenceWarning: Objective did not converge. You might want to increase the number of iterations, check the scale of the features or consider increasing regularisation. Duality gap: 1.866e+00, tolerance: 6.761e-01\n",
      "  model = cd_fast.enet_coordinate_descent(\n",
      "/home/wangmk/micromamba/envs/ML/lib/python3.9/site-packages/sklearn/linear_model/_coordinate_descent.py:678: ConvergenceWarning: Objective did not converge. You might want to increase the number of iterations, check the scale of the features or consider increasing regularisation. Duality gap: 2.320e+00, tolerance: 6.761e-01\n",
      "  model = cd_fast.enet_coordinate_descent(\n",
      "/home/wangmk/micromamba/envs/ML/lib/python3.9/site-packages/sklearn/linear_model/_coordinate_descent.py:678: ConvergenceWarning: Objective did not converge. You might want to increase the number of iterations, check the scale of the features or consider increasing regularisation. Duality gap: 1.940e+00, tolerance: 6.761e-01\n",
      "  model = cd_fast.enet_coordinate_descent(\n",
      "/home/wangmk/micromamba/envs/ML/lib/python3.9/site-packages/sklearn/linear_model/_coordinate_descent.py:678: ConvergenceWarning: Objective did not converge. You might want to increase the number of iterations, check the scale of the features or consider increasing regularisation. Duality gap: 1.385e+00, tolerance: 6.804e-01\n",
      "  model = cd_fast.enet_coordinate_descent(\n",
      "/home/wangmk/micromamba/envs/ML/lib/python3.9/site-packages/sklearn/linear_model/_coordinate_descent.py:678: ConvergenceWarning: Objective did not converge. You might want to increase the number of iterations, check the scale of the features or consider increasing regularisation. Duality gap: 1.864e+00, tolerance: 6.804e-01\n",
      "  model = cd_fast.enet_coordinate_descent(\n",
      "/home/wangmk/micromamba/envs/ML/lib/python3.9/site-packages/sklearn/linear_model/_coordinate_descent.py:678: ConvergenceWarning: Objective did not converge. You might want to increase the number of iterations, check the scale of the features or consider increasing regularisation. Duality gap: 2.158e+00, tolerance: 6.804e-01\n",
      "  model = cd_fast.enet_coordinate_descent(\n",
      "/home/wangmk/micromamba/envs/ML/lib/python3.9/site-packages/sklearn/linear_model/_coordinate_descent.py:678: ConvergenceWarning: Objective did not converge. You might want to increase the number of iterations, check the scale of the features or consider increasing regularisation. Duality gap: 2.282e+00, tolerance: 6.804e-01\n",
      "  model = cd_fast.enet_coordinate_descent(\n",
      "/home/wangmk/micromamba/envs/ML/lib/python3.9/site-packages/sklearn/linear_model/_coordinate_descent.py:678: ConvergenceWarning: Objective did not converge. You might want to increase the number of iterations, check the scale of the features or consider increasing regularisation. Duality gap: 1.666e+00, tolerance: 6.838e-01\n",
      "  model = cd_fast.enet_coordinate_descent(\n",
      "/home/wangmk/micromamba/envs/ML/lib/python3.9/site-packages/sklearn/linear_model/_coordinate_descent.py:678: ConvergenceWarning: Objective did not converge. You might want to increase the number of iterations, check the scale of the features or consider increasing regularisation. Duality gap: 2.003e+00, tolerance: 6.838e-01\n",
      "  model = cd_fast.enet_coordinate_descent(\n",
      "/home/wangmk/micromamba/envs/ML/lib/python3.9/site-packages/sklearn/linear_model/_coordinate_descent.py:678: ConvergenceWarning: Objective did not converge. You might want to increase the number of iterations, check the scale of the features or consider increasing regularisation. Duality gap: 1.447e+00, tolerance: 6.838e-01\n",
      "  model = cd_fast.enet_coordinate_descent(\n",
      "/home/wangmk/micromamba/envs/ML/lib/python3.9/site-packages/sklearn/linear_model/_coordinate_descent.py:678: ConvergenceWarning: Objective did not converge. You might want to increase the number of iterations, check the scale of the features or consider increasing regularisation. Duality gap: 2.108e+00, tolerance: 6.864e-01\n",
      "  model = cd_fast.enet_coordinate_descent(\n",
      "/home/wangmk/micromamba/envs/ML/lib/python3.9/site-packages/sklearn/linear_model/_coordinate_descent.py:678: ConvergenceWarning: Objective did not converge. You might want to increase the number of iterations, check the scale of the features or consider increasing regularisation. Duality gap: 2.022e+00, tolerance: 6.864e-01\n",
      "  model = cd_fast.enet_coordinate_descent(\n",
      "/home/wangmk/micromamba/envs/ML/lib/python3.9/site-packages/sklearn/linear_model/_coordinate_descent.py:678: ConvergenceWarning: Objective did not converge. You might want to increase the number of iterations, check the scale of the features or consider increasing regularisation. Duality gap: 1.673e+00, tolerance: 6.864e-01\n",
      "  model = cd_fast.enet_coordinate_descent(\n",
      "/home/wangmk/micromamba/envs/ML/lib/python3.9/site-packages/sklearn/linear_model/_coordinate_descent.py:678: ConvergenceWarning: Objective did not converge. You might want to increase the number of iterations, check the scale of the features or consider increasing regularisation. Duality gap: 1.943e+00, tolerance: 6.874e-01\n",
      "  model = cd_fast.enet_coordinate_descent(\n",
      "/home/wangmk/micromamba/envs/ML/lib/python3.9/site-packages/sklearn/linear_model/_coordinate_descent.py:678: ConvergenceWarning: Objective did not converge. You might want to increase the number of iterations, check the scale of the features or consider increasing regularisation. Duality gap: 1.857e+00, tolerance: 6.874e-01\n",
      "  model = cd_fast.enet_coordinate_descent(\n",
      "/home/wangmk/micromamba/envs/ML/lib/python3.9/site-packages/sklearn/linear_model/_coordinate_descent.py:678: ConvergenceWarning: Objective did not converge. You might want to increase the number of iterations, check the scale of the features or consider increasing regularisation. Duality gap: 1.312e+00, tolerance: 6.874e-01\n",
      "  model = cd_fast.enet_coordinate_descent(\n",
      "/home/wangmk/micromamba/envs/ML/lib/python3.9/site-packages/sklearn/linear_model/_coordinate_descent.py:678: ConvergenceWarning: Objective did not converge. You might want to increase the number of iterations, check the scale of the features or consider increasing regularisation. Duality gap: 1.223e+00, tolerance: 6.888e-01\n",
      "  model = cd_fast.enet_coordinate_descent(\n",
      "/home/wangmk/micromamba/envs/ML/lib/python3.9/site-packages/sklearn/linear_model/_coordinate_descent.py:678: ConvergenceWarning: Objective did not converge. You might want to increase the number of iterations, check the scale of the features or consider increasing regularisation. Duality gap: 1.794e+00, tolerance: 6.888e-01\n",
      "  model = cd_fast.enet_coordinate_descent(\n",
      "/home/wangmk/micromamba/envs/ML/lib/python3.9/site-packages/sklearn/linear_model/_coordinate_descent.py:678: ConvergenceWarning: Objective did not converge. You might want to increase the number of iterations, check the scale of the features or consider increasing regularisation. Duality gap: 2.057e+00, tolerance: 6.888e-01\n",
      "  model = cd_fast.enet_coordinate_descent(\n",
      "/home/wangmk/micromamba/envs/ML/lib/python3.9/site-packages/sklearn/linear_model/_coordinate_descent.py:678: ConvergenceWarning: Objective did not converge. You might want to increase the number of iterations, check the scale of the features or consider increasing regularisation. Duality gap: 2.304e+00, tolerance: 6.888e-01\n",
      "  model = cd_fast.enet_coordinate_descent(\n",
      "/home/wangmk/micromamba/envs/ML/lib/python3.9/site-packages/sklearn/linear_model/_coordinate_descent.py:678: ConvergenceWarning: Objective did not converge. You might want to increase the number of iterations, check the scale of the features or consider increasing regularisation. Duality gap: 1.901e+00, tolerance: 6.894e-01\n",
      "  model = cd_fast.enet_coordinate_descent(\n",
      "/home/wangmk/micromamba/envs/ML/lib/python3.9/site-packages/sklearn/linear_model/_coordinate_descent.py:678: ConvergenceWarning: Objective did not converge. You might want to increase the number of iterations, check the scale of the features or consider increasing regularisation. Duality gap: 1.912e+00, tolerance: 6.894e-01\n",
      "  model = cd_fast.enet_coordinate_descent(\n",
      "/home/wangmk/micromamba/envs/ML/lib/python3.9/site-packages/sklearn/linear_model/_coordinate_descent.py:678: ConvergenceWarning: Objective did not converge. You might want to increase the number of iterations, check the scale of the features or consider increasing regularisation. Duality gap: 1.689e+00, tolerance: 6.894e-01\n",
      "  model = cd_fast.enet_coordinate_descent(\n",
      "/home/wangmk/micromamba/envs/ML/lib/python3.9/site-packages/sklearn/linear_model/_coordinate_descent.py:678: ConvergenceWarning: Objective did not converge. You might want to increase the number of iterations, check the scale of the features or consider increasing regularisation. Duality gap: 1.221e+00, tolerance: 6.894e-01\n",
      "  model = cd_fast.enet_coordinate_descent(\n",
      "/home/wangmk/micromamba/envs/ML/lib/python3.9/site-packages/sklearn/linear_model/_coordinate_descent.py:678: ConvergenceWarning: Objective did not converge. You might want to increase the number of iterations, check the scale of the features or consider increasing regularisation. Duality gap: 1.669e+00, tolerance: 6.894e-01\n",
      "  model = cd_fast.enet_coordinate_descent(\n",
      "/home/wangmk/micromamba/envs/ML/lib/python3.9/site-packages/sklearn/linear_model/_coordinate_descent.py:678: ConvergenceWarning: Objective did not converge. You might want to increase the number of iterations, check the scale of the features or consider increasing regularisation. Duality gap: 1.413e+00, tolerance: 6.894e-01\n",
      "  model = cd_fast.enet_coordinate_descent(\n",
      "/home/wangmk/micromamba/envs/ML/lib/python3.9/site-packages/sklearn/linear_model/_coordinate_descent.py:678: ConvergenceWarning: Objective did not converge. You might want to increase the number of iterations, check the scale of the features or consider increasing regularisation. Duality gap: 1.370e+00, tolerance: 6.881e-01\n",
      "  model = cd_fast.enet_coordinate_descent(\n",
      "/home/wangmk/micromamba/envs/ML/lib/python3.9/site-packages/sklearn/linear_model/_coordinate_descent.py:678: ConvergenceWarning: Objective did not converge. You might want to increase the number of iterations, check the scale of the features or consider increasing regularisation. Duality gap: 1.842e+00, tolerance: 6.881e-01\n",
      "  model = cd_fast.enet_coordinate_descent(\n",
      "/home/wangmk/micromamba/envs/ML/lib/python3.9/site-packages/sklearn/linear_model/_coordinate_descent.py:678: ConvergenceWarning: Objective did not converge. You might want to increase the number of iterations, check the scale of the features or consider increasing regularisation. Duality gap: 1.812e+00, tolerance: 6.881e-01\n",
      "  model = cd_fast.enet_coordinate_descent(\n",
      "/home/wangmk/micromamba/envs/ML/lib/python3.9/site-packages/sklearn/linear_model/_coordinate_descent.py:678: ConvergenceWarning: Objective did not converge. You might want to increase the number of iterations, check the scale of the features or consider increasing regularisation. Duality gap: 2.201e+00, tolerance: 6.862e-01\n",
      "  model = cd_fast.enet_coordinate_descent(\n",
      "/home/wangmk/micromamba/envs/ML/lib/python3.9/site-packages/sklearn/linear_model/_coordinate_descent.py:678: ConvergenceWarning: Objective did not converge. You might want to increase the number of iterations, check the scale of the features or consider increasing regularisation. Duality gap: 2.079e+00, tolerance: 6.862e-01\n",
      "  model = cd_fast.enet_coordinate_descent(\n",
      "/home/wangmk/micromamba/envs/ML/lib/python3.9/site-packages/sklearn/linear_model/_coordinate_descent.py:678: ConvergenceWarning: Objective did not converge. You might want to increase the number of iterations, check the scale of the features or consider increasing regularisation. Duality gap: 1.296e+00, tolerance: 6.862e-01\n",
      "  model = cd_fast.enet_coordinate_descent(\n",
      "/home/wangmk/micromamba/envs/ML/lib/python3.9/site-packages/sklearn/linear_model/_coordinate_descent.py:678: ConvergenceWarning: Objective did not converge. You might want to increase the number of iterations, check the scale of the features or consider increasing regularisation. Duality gap: 1.400e+00, tolerance: 6.862e-01\n",
      "  model = cd_fast.enet_coordinate_descent(\n",
      "/home/wangmk/micromamba/envs/ML/lib/python3.9/site-packages/sklearn/linear_model/_coordinate_descent.py:678: ConvergenceWarning: Objective did not converge. You might want to increase the number of iterations, check the scale of the features or consider increasing regularisation. Duality gap: 2.250e+00, tolerance: 6.579e-01\n",
      "  model = cd_fast.enet_coordinate_descent(\n",
      "/home/wangmk/micromamba/envs/ML/lib/python3.9/site-packages/sklearn/linear_model/_coordinate_descent.py:678: ConvergenceWarning: Objective did not converge. You might want to increase the number of iterations, check the scale of the features or consider increasing regularisation. Duality gap: 1.216e+00, tolerance: 6.579e-01\n",
      "  model = cd_fast.enet_coordinate_descent(\n",
      "/home/wangmk/micromamba/envs/ML/lib/python3.9/site-packages/sklearn/linear_model/_coordinate_descent.py:678: ConvergenceWarning: Objective did not converge. You might want to increase the number of iterations, check the scale of the features or consider increasing regularisation. Duality gap: 1.046e+00, tolerance: 6.542e-01\n",
      "  model = cd_fast.enet_coordinate_descent(\n",
      "/home/wangmk/micromamba/envs/ML/lib/python3.9/site-packages/sklearn/linear_model/_coordinate_descent.py:678: ConvergenceWarning: Objective did not converge. You might want to increase the number of iterations, check the scale of the features or consider increasing regularisation. Duality gap: 2.018e+00, tolerance: 6.542e-01\n",
      "  model = cd_fast.enet_coordinate_descent(\n",
      "/home/wangmk/micromamba/envs/ML/lib/python3.9/site-packages/sklearn/linear_model/_coordinate_descent.py:678: ConvergenceWarning: Objective did not converge. You might want to increase the number of iterations, check the scale of the features or consider increasing regularisation. Duality gap: 1.275e+00, tolerance: 6.542e-01\n",
      "  model = cd_fast.enet_coordinate_descent(\n",
      "/home/wangmk/micromamba/envs/ML/lib/python3.9/site-packages/sklearn/linear_model/_coordinate_descent.py:678: ConvergenceWarning: Objective did not converge. You might want to increase the number of iterations, check the scale of the features or consider increasing regularisation. Duality gap: 2.235e+00, tolerance: 6.542e-01\n",
      "  model = cd_fast.enet_coordinate_descent(\n",
      "/home/wangmk/micromamba/envs/ML/lib/python3.9/site-packages/sklearn/linear_model/_coordinate_descent.py:678: ConvergenceWarning: Objective did not converge. You might want to increase the number of iterations, check the scale of the features or consider increasing regularisation. Duality gap: 1.816e+00, tolerance: 6.542e-01\n",
      "  model = cd_fast.enet_coordinate_descent(\n",
      "/home/wangmk/micromamba/envs/ML/lib/python3.9/site-packages/sklearn/linear_model/_coordinate_descent.py:678: ConvergenceWarning: Objective did not converge. You might want to increase the number of iterations, check the scale of the features or consider increasing regularisation. Duality gap: 2.003e+00, tolerance: 6.278e-01\n",
      "  model = cd_fast.enet_coordinate_descent(\n",
      "/home/wangmk/micromamba/envs/ML/lib/python3.9/site-packages/sklearn/linear_model/_coordinate_descent.py:678: ConvergenceWarning: Objective did not converge. You might want to increase the number of iterations, check the scale of the features or consider increasing regularisation. Duality gap: 1.910e+00, tolerance: 6.278e-01\n",
      "  model = cd_fast.enet_coordinate_descent(\n",
      "/home/wangmk/micromamba/envs/ML/lib/python3.9/site-packages/sklearn/linear_model/_coordinate_descent.py:678: ConvergenceWarning: Objective did not converge. You might want to increase the number of iterations, check the scale of the features or consider increasing regularisation. Duality gap: 1.727e+00, tolerance: 6.278e-01\n",
      "  model = cd_fast.enet_coordinate_descent(\n"
     ]
    }
   ],
   "execution_count": 252
  },
  {
   "metadata": {
    "ExecuteTime": {
     "end_time": "2025-02-23T04:20:18.710693Z",
     "start_time": "2025-02-23T04:20:18.707570Z"
    }
   },
   "cell_type": "code",
   "source": [
    "import pickle\n",
    "with open(\"linear_model/loo_mae.pkl\", 'wb') as f:\n",
    "    pickle.dump(loo_mae, f)\n",
    "with open(\"linear_model/loo_instability.pkl\", 'wb') as f:\n",
    "    pickle.dump(loo_instability, f)"
   ],
   "id": "66a6c07631861596",
   "outputs": [],
   "execution_count": 289
  },
  {
   "metadata": {
    "ExecuteTime": {
     "end_time": "2025-02-23T04:00:27.092771Z",
     "start_time": "2025-02-23T04:00:27.086972Z"
    }
   },
   "cell_type": "code",
   "source": [
    "unique_ages = np.unique(ages)\n",
    "age_folds = [np.where(ages == age)[0] for age in unique_ages]\n"
   ],
   "id": "4697881037eabea8",
   "outputs": [],
   "execution_count": 260
  },
  {
   "metadata": {},
   "cell_type": "markdown",
   "source": "I also check the performance when samples of a specific age are taken altogether as the test set.",
   "id": "dae1396c1e0dd479"
  },
  {
   "metadata": {
    "ExecuteTime": {
     "end_time": "2025-02-23T04:03:09.346826Z",
     "start_time": "2025-02-23T04:01:52.545846Z"
    }
   },
   "cell_type": "code",
   "source": [
    "for num_feature in num_features:\n",
    "    print(num_feature)\n",
    "    mae_mat = np.zeros((len(penalties), len(l1ratios)))\n",
    "    instability_mat = np.zeros((len(penalties), len(l1ratios)))\n",
    "    for i, penalty in enumerate(penalties):\n",
    "        for j, l1ratio in enumerate(l1ratios):\n",
    "            mae_mat[i, j], instability_mat[i, j] = enet_fit(X=log_geneexp_mat, Y=ages, nfeature=num_feature, penalty=penalty, l1ratio=l1ratio, folds=age_folds)\n",
    "\n",
    "    agefold_mae[num_feature] = mae_mat\n",
    "    agefold_instability[num_feature] = instability_mat"
   ],
   "id": "679c6188cb31d53b",
   "outputs": [
    {
     "name": "stdout",
     "output_type": "stream",
     "text": [
      "50\n",
      "100\n",
      "200\n",
      "300\n",
      "400\n",
      "500\n"
     ]
    }
   ],
   "execution_count": 261
  },
  {
   "metadata": {
    "ExecuteTime": {
     "end_time": "2025-02-23T04:20:55.924877Z",
     "start_time": "2025-02-23T04:20:55.918984Z"
    }
   },
   "cell_type": "code",
   "source": [
    "import pickle\n",
    "with open(\"linear_model/age_mae.pkl\", 'wb') as f:\n",
    "    pickle.dump(agefold_mae, f)\n",
    "with open(\"linear_model/age_instability.pkl\", 'wb') as f:\n",
    "    pickle.dump(agefold_instability, f)"
   ],
   "id": "cbb65b272c39c366",
   "outputs": [],
   "execution_count": 290
  }
 ],
 "metadata": {
  "kernelspec": {
   "display_name": "Python 3",
   "language": "python",
   "name": "python3"
  },
  "language_info": {
   "codemirror_mode": {
    "name": "ipython",
    "version": 2
   },
   "file_extension": ".py",
   "mimetype": "text/x-python",
   "name": "python",
   "nbconvert_exporter": "python",
   "pygments_lexer": "ipython2",
   "version": "2.7.6"
  }
 },
 "nbformat": 4,
 "nbformat_minor": 5
}
