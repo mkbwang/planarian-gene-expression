{
 "cells": [
  {
   "metadata": {},
   "cell_type": "markdown",
   "source": [
    "# Deconvolution\n",
    "Evaluate the performance of deconvolution for age prediction."
   ],
   "id": "159856b8aa0c1b92"
  },
  {
   "metadata": {},
   "cell_type": "code",
   "source": [
    "from utils.variation import meanexp, group_counts, sum_squares, var_comp\n",
    "from utils.misc import extract_number, mae\n",
    "import pandas as pd\n",
    "import numpy as np\n",
    "from scipy.stats import rankdata\n",
    "import os\n",
    "import matplotlib.pyplot as plt\n",
    "from utils.viz import single_line_plot, single_scatter_plot, multi_scatter_plot"
   ],
   "id": "62ed2c4c896518f1",
   "outputs": [],
   "execution_count": null
  },
  {
   "metadata": {},
   "cell_type": "markdown",
   "source": "## Load Data",
   "id": "f76101916adf33f"
  },
  {
   "metadata": {},
   "cell_type": "code",
   "source": [
    "gene_expressions = pd.read_csv(\"data/train_data.csv\", index_col=0)\n",
    "gene_expressions_mat = gene_expressions.to_numpy()\n",
    "genenames = np.array(gene_expressions.index.tolist())\n",
    "samples = gene_expressions.columns.tolist()\n",
    "\n",
    "# extract ages\n",
    "ages = np.array([extract_number(timestring) for timestring in samples])\n",
    "unique_ages=np.unique(ages)\n",
    "\n",
    "# retain genes that are present in all samples\n",
    "prevalence = np.mean(gene_expressions_mat > 0, axis=1)\n",
    "subset_gene_id = np.where(prevalence == 1)[0]\n",
    "subset_genenames = genenames[subset_gene_id]\n",
    "gene_expressions = gene_expressions.loc[subset_genenames, :]\n",
    "gene_expressions_mat = gene_expressions_mat[subset_gene_id, :]\n",
    "\n",
    "# get log expressions\n",
    "log_gene_expressions = np.log(gene_expressions)\n",
    "log_gene_expressions_mat = np.log(gene_expressions_mat)\n",
    "\n",
    "# transpose count tables to samples by genes\n",
    "gene_expressions = gene_expressions.T\n",
    "gene_expressions_mat = gene_expressions_mat.T\n",
    "log_gene_expressions = log_gene_expressions.T\n",
    "log_gene_expressions_mat = log_gene_expressions_mat.T\n",
    "\n",
    "# get rankings of samples for each gene expression\n",
    "gene_expressions_rank = log_gene_expressions.rank()\n"
   ],
   "id": "44e79715f67f8928",
   "outputs": [],
   "execution_count": null
  },
  {
   "metadata": {},
   "cell_type": "markdown",
   "source": [
    "# Visualizing Genes\n",
    "Plot the genes that have the most distinct expressions between samples of different ages."
   ],
   "id": "f496100c4c712"
  },
  {
   "metadata": {},
   "cell_type": "code",
   "source": [
    "def plot_top_genes(expressions_df, ages, age_min, age_max, type=\"raw\", num_genes=50):\n",
    "\n",
    "    if type not in [\"raw\", \"log\", \"rank\"]:\n",
    "        raise ValueError(\"Argument must be one of 'raw', 'log', 'rank'\")\n",
    "\n",
    "    if type == \"raw\":\n",
    "        input_df = expressions_df\n",
    "    elif type == \"log\":\n",
    "        input_df = np.log(expressions_df)\n",
    "    else:\n",
    "        input_df = expressions_df.rank()\n",
    "\n",
    "    mask = np.logical_and(ages >= age_min, ages <= age_max)\n",
    "    input_df = input_df.loc[mask, :]\n",
    "    ages = ages[mask]\n",
    "    unique_ages = np.unique(ages)\n",
    "    age_rank = rankdata(ages, method='min').astype(int)\n",
    "    unique_ranks = np.unique(age_rank)\n",
    "\n",
    "    varcomp_sorted = var_comp(geneexp_df=input_df, groups=ages)\n",
    "    varcomp_sorted = varcomp_sorted.sort_values(by='R2', ascending=False)\n",
    "    sorted_genes = varcomp_sorted.index.tolist()\n",
    "\n",
    "    for id in range(num_genes):\n",
    "\n",
    "        genename = sorted_genes[id]\n",
    "        values = input_df.loc[:, genename].to_numpy()\n",
    "        values = values.reshape(1, -1)\n",
    "        if type==\"raw\":\n",
    "            fig = single_scatter_plot(ymat=values, xmat=age_rank.reshape(1, -1),\n",
    "                                    xticks=unique_ranks, xticknames=unique_ages.astype(str),\n",
    "                                    xname=\"Age (Month)\", yname=\"Raw Expression\", title=genename)\n",
    "        elif type == \"log\":\n",
    "            fig = single_scatter_plot(ymat=values, xmat=age_rank.reshape(1, -1),\n",
    "                                    xticks=unique_ranks, xticknames=unique_ages.astype(str),\n",
    "                                    xname=\"Age (Month)\", yname=\"Log Expression\", title=genename)\n",
    "        else:\n",
    "            fig = single_scatter_plot(ymat=values, xmat=age_rank.reshape(1, -1),\n",
    "                                    xticks=unique_ranks, xticknames=unique_ages.astype(str),\n",
    "                                    xname=\"Age (Month)\", yname=\"Rank of Expression\", title=genename)\n",
    "        filename = f\"{id}_{genename}_{age_min}_{age_max}_{type}.png\"\n",
    "        fig.savefig(os.path.join(\"gene_plots\", type, f\"age_{age_min}_{age_max}\", filename), bbox_inches=\"tight\")\n",
    "        plt.close(fig)\n"
   ],
   "id": "4fda54dd8e1e9eb4",
   "outputs": [],
   "execution_count": null
  },
  {
   "metadata": {},
   "cell_type": "code",
   "source": [
    "plot_top_genes(expressions_df=gene_expressions, ages=ages, age_min=2, age_max=42, type=\"raw\")\n",
    "plot_top_genes(expressions_df=gene_expressions, ages=ages, age_min=2, age_max=42, type=\"log\")\n",
    "plot_top_genes(expressions_df=gene_expressions, ages=ages, age_min=2, age_max=42, type=\"rank\")"
   ],
   "id": "4af43b0fc2c13448",
   "outputs": [],
   "execution_count": null
  },
  {
   "metadata": {},
   "cell_type": "code",
   "source": [
    "plot_top_genes(expressions_df=gene_expressions, ages=ages, age_min=4, age_max=23, type=\"raw\")\n",
    "plot_top_genes(expressions_df=gene_expressions, ages=ages, age_min=4, age_max=23, type=\"log\")\n",
    "plot_top_genes(expressions_df=gene_expressions, ages=ages, age_min=4, age_max=23, type=\"rank\")"
   ],
   "id": "23d253182396af4c",
   "outputs": [],
   "execution_count": null
  },
  {
   "metadata": {},
   "cell_type": "code",
   "source": [
    "plot_top_genes(expressions_df=gene_expressions, ages=ages, age_min=4, age_max=42, type=\"raw\")\n",
    "plot_top_genes(expressions_df=gene_expressions, ages=ages, age_min=4, age_max=42, type=\"log\")\n",
    "plot_top_genes(expressions_df=gene_expressions, ages=ages, age_min=4, age_max=42, type=\"rank\")"
   ],
   "id": "e64bdff0fc18b833",
   "outputs": [],
   "execution_count": null
  },
  {
   "metadata": {},
   "cell_type": "code",
   "source": [
    "plot_top_genes(expressions_df=gene_expressions, ages=ages, age_min=6, age_max=18, type=\"raw\")\n",
    "plot_top_genes(expressions_df=gene_expressions, ages=ages, age_min=6, age_max=18, type=\"log\")\n",
    "plot_top_genes(expressions_df=gene_expressions, ages=ages, age_min=6, age_max=18, type=\"rank\")"
   ],
   "id": "64229e1045b74b88",
   "outputs": [],
   "execution_count": null
  },
  {
   "metadata": {},
   "cell_type": "markdown",
   "source": "## Deconvolution",
   "id": "2e3b60fcfb7401f2"
  },
  {
   "metadata": {},
   "cell_type": "markdown",
   "source": [
    "I attempted deconvolution with different:\n",
    "* Input: raw gene expression, log gene expression or ranks of gene expression\n",
    "* Number of genes included\n",
    "* Weight of the genes"
   ],
   "id": "f2a65a0bbff85041"
  },
  {
   "metadata": {},
   "cell_type": "code",
   "source": "from utils.deconvolution import loo_predict",
   "id": "f0d897cde2287371",
   "outputs": [],
   "execution_count": null
  },
  {
   "metadata": {},
   "cell_type": "code",
   "source": [
    "def mae_tune(input_expression, labels, label_min=2, label_max=50, filter=\"raw\", deconv=\"raw\",\n",
    "             numgenes=np.array([50, 100, 200, 400, 600, 800, 1000, 2000, 5000, 10000, 16000])):\n",
    "\n",
    "    if filter not in [\"raw\", \"log\", \"rank\"]:\n",
    "        raise ValueError(\"'filter' Argument must be one of 'raw', 'log', 'rank'\")\n",
    "\n",
    "    if deconv not in [\"raw\", \"log\", \"rank\"]:\n",
    "        raise ValueError(\"'deconv' Argument must be one of 'raw', 'log', 'rank'\")\n",
    "\n",
    "\n",
    "    expressions = input_expression.copy()\n",
    "\n",
    "    targets = labels.copy()\n",
    "    mask = np.logical_and(targets >= label_min, targets <= label_max)\n",
    "    expressions = expressions.loc[mask, :]\n",
    "    log_expressions = np.log(expressions)\n",
    "    expressions_rank = expressions.rank()\n",
    "    targets = targets[mask]\n",
    "\n",
    "\n",
    "    if filter == \"raw\":\n",
    "        varcomp_sorted = var_comp(geneexp_df=expressions, groups=targets)\n",
    "    elif filter == \"log\":\n",
    "        varcomp_sorted = var_comp(geneexp_df=log_expressions, groups=targets)\n",
    "    else:\n",
    "        varcomp_sorted = var_comp(geneexp_df=expressions_rank, groups=targets)\n",
    "\n",
    "\n",
    "    varcomp_sorted = varcomp_sorted.sort_values(by='R2', ascending=False)\n",
    "    sorted_genes = varcomp_sorted.index.tolist()\n",
    "\n",
    "    results_df = pd.DataFrame({\"NumGene\": numgenes,\n",
    "                            \"MAE\": 0})\n",
    "\n",
    "    if deconv == \"raw\":\n",
    "        input = expressions\n",
    "    elif deconv == \"log\":\n",
    "        input = log_expressions\n",
    "    else:\n",
    "        input = expressions_rank\n",
    "\n",
    "    best_mae = 20\n",
    "    best_predictions = np.zeros_like(targets)\n",
    "\n",
    "    for j in range(len(results_df)):\n",
    "        num_genes = results_df[\"NumGene\"][j]\n",
    "        selected_genes = sorted_genes[0:num_genes]\n",
    "        # weighed by R square\n",
    "        output = loo_predict(expression_df=input.loc[:, selected_genes],\n",
    "                                labels=targets, weighted=\"None\", normalize=True)\n",
    "        latest_mae = mae(output[0][\"Truth\"], output[0][\"Predicted\"], type=\"mean\")\n",
    "        if latest_mae < best_mae:\n",
    "            best_mae = latest_mae\n",
    "            best_predictions = output[0][\"Predicted\"]\n",
    "\n",
    "        results_df[\"MAE\"][j] = latest_mae\n",
    "\n",
    "    prediction_df = pd.DataFrame({\"Truth\": targets,\n",
    "                                  \"Predicted\": best_predictions})\n",
    "\n",
    "    return results_df, prediction_df\n"
   ],
   "id": "d43ea10b8505bcc4",
   "outputs": [],
   "execution_count": null
  },
  {
   "metadata": {},
   "cell_type": "code",
   "source": [
    "def aggregate_performance_report(expressions, ages, min_age=2, max_age=42, ngenes_tune = None):\n",
    "\n",
    "    if ngenes_tune is None:\n",
    "        ngenes_tune = [50, 100, 200, 400, 600, 800, 1000, 2000, 5000, 10000, 16000]\n",
    "\n",
    "    mae_summary = dict({})\n",
    "    prediction_summary = dict({})\n",
    "    optimal_filter_base=None\n",
    "    optimal_deconv_base=None\n",
    "    optimal_ngene = 0\n",
    "\n",
    "    best_mae = 40\n",
    "\n",
    "    for filter_base in [\"raw\", \"log\", \"rank\"]:\n",
    "        for deconv_base in [\"raw\", \"log\", \"rank\"]:\n",
    "            mae_df, prediction = mae_tune(input_expression=expressions, labels=ages, label_min=min_age, label_max=max_age,\n",
    "                                         filter=filter_base, deconv=deconv_base, numgenes=ngenes_tune)\n",
    "            if np.min(mae_df[\"MAE\"]) < best_mae:\n",
    "                best_mae = np.min(mae_df[\"MAE\"])\n",
    "                optimal_filter_base = filter_base\n",
    "                optimal_deconv_base = deconv_base\n",
    "                optimal_ngene = ngenes_tune[np.argmin(mae_df[\"MAE\"])]\n",
    "            mae_summary[f\"{filter_base}_{deconv_base}\"] = mae_df\n",
    "            prediction_summary[f\"{filter_base}_{deconv_base}\"] = prediction\n",
    "\n",
    "    maes_mat = np.zeros((9, len(ngenes_tune)))\n",
    "    j=0\n",
    "    for filter_base in [\"raw\", \"log\", \"rank\"]:\n",
    "        for deconv_base in [\"raw\", \"log\", \"rank\"]:\n",
    "            maes_mat[j, :] = mae_summary[f\"{filter_base}_{deconv_base}\"][\"MAE\"].to_numpy()\n",
    "            j = j+1\n",
    "\n",
    "    best_prediction = prediction_summary[f\"{optimal_filter_base}_{optimal_deconv_base}\"]\n",
    "    truth = best_prediction[\"Truth\"].to_numpy()\n",
    "    predictions = best_prediction[\"Predicted\"].to_numpy()\n",
    "\n",
    "    performance_title = f\"{min_age}-{max_age} Months old\"\n",
    "\n",
    "    colors_map = {\"Raw-GeneSelect\": \"#344885\", \"Log-GeneSelect\": \"#db382c\",\n",
    "                  \"Rank-GeneSelect\": \"#2f7028\"}\n",
    "\n",
    "    linetypes_map = {\"Raw-Deconv\": '-', \"Log-Deconv\": '-.', \"Rank-Deconv\": ':'}\n",
    "\n",
    "    performance_plot = single_line_plot(ymat=maes_mat, xticks=np.arange(len(ngenes_tune)),\n",
    "                                 xticknames=ngenes_tune,\n",
    "                                 colors=np.repeat([\"#344885\", \"#db382c\", \"#2f7028\"], 3),\n",
    "                                 linetypes=np.tile(['-o', '-.o', ':o'], 3),\n",
    "                                 xname=\"Number of Genes\", yname=\"Mean Absolute Error\",\n",
    "                                 colors_map=colors_map, linetypes_map=linetypes_map,\n",
    "                                 title=performance_title, size=(6.5, 4))\n",
    "    performance_plot.savefig(f\"deconvolution/plots/MAEs/MAE_{min_age}_{max_age}_perm.png\", bbox_inches=\"tight\")\n",
    "\n",
    "    prediction_plot = single_scatter_plot(ymat=predictions.reshape(1, -1), xticks=truth, xticknames=truth.astype(str),\n",
    "                                         xname=\"True Age (Month)\", yname=\"Predicted Age (Month)\",\n",
    "                                         size=(6, 4), diag_line=True)\n",
    "    prediction_plot.savefig(f\"deconvolution/plots/scatterplots/prediction_{min_age}_{max_age}_optimal.png\", bbox_inches=\"tight\")\n",
    "\n",
    "    return mae_summary, prediction_summary, (optimal_filter_base, optimal_deconv_base, optimal_ngene)\n"
   ],
   "id": "936ea92cfa70743b",
   "outputs": [],
   "execution_count": null
  },
  {
   "metadata": {},
   "cell_type": "code",
   "source": [
    "mae_summary, prediction_summary, best_param_choice = aggregate_performance_report(expressions=gene_expressions, ages=ages,\n",
    "                                                                                    min_age=2, max_age=42,\n",
    "                                                                                    ngenes_tune = [50, 100, 200, 400, 600, 800, 1000, 2000])"
   ],
   "id": "dda17f8de1c5b8c0",
   "outputs": [],
   "execution_count": null
  },
  {
   "metadata": {},
   "cell_type": "code",
   "source": "mae_summary, prediction_summary, best_param_choice = aggregate_performance_report(expressions=gene_expressions, ages=ages, min_age=4, max_age=42, ngenes_tune = [50, 100, 200, 400, 600, 800, 1000, 2000])",
   "id": "8f14f951094ac0b7",
   "outputs": [],
   "execution_count": null
  },
  {
   "metadata": {},
   "cell_type": "code",
   "source": [
    "mae_summary, prediction_summary, best_param_choice = aggregate_performance_report(expressions=gene_expressions, ages=ages,\n",
    "                                                                                  min_age=4, max_age=23, ngenes_tune = [50, 100, 200, 400, 600, 800, 1000, 2000])"
   ],
   "id": "dfcc5c457c70582b",
   "outputs": [],
   "execution_count": null
  },
  {
   "metadata": {},
   "cell_type": "code",
   "source": [
    "mae_summary, prediction_summary, best_param_choice = aggregate_performance_report(expressions=gene_expressions, ages=ages,\n",
    "                                                                                  min_age=6, max_age=18, ngenes_tune = [50, 100, 200, 400, 600, 800, 1000, 2000])"
   ],
   "id": "ca17a4a9da57c173",
   "outputs": [],
   "execution_count": null
  }
 ],
 "metadata": {
  "kernelspec": {
   "display_name": "Python 3",
   "language": "python",
   "name": "python3"
  },
  "language_info": {
   "codemirror_mode": {
    "name": "ipython",
    "version": 2
   },
   "file_extension": ".py",
   "mimetype": "text/x-python",
   "name": "python",
   "nbconvert_exporter": "python",
   "pygments_lexer": "ipython2",
   "version": "2.7.6"
  }
 },
 "nbformat": 4,
 "nbformat_minor": 5
}
