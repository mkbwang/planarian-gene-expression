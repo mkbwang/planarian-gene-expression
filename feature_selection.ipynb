{
 "cells": [
  {
   "metadata": {},
   "cell_type": "markdown",
   "source": [
    "# Gene Selection\n",
    "Select genes that have strong time trend and small variance."
   ],
   "id": "665beab1655be249"
  },
  {
   "metadata": {
    "ExecuteTime": {
     "end_time": "2025-02-07T02:57:54.994516Z",
     "start_time": "2025-02-07T02:57:54.992111Z"
    }
   },
   "cell_type": "code",
   "source": [
    "import pandas as pd\n",
    "import numpy as np"
   ],
   "id": "fa9646d0662c2c86",
   "outputs": [],
   "execution_count": 112
  },
  {
   "metadata": {
    "ExecuteTime": {
     "end_time": "2025-02-07T02:57:56.863853Z",
     "start_time": "2025-02-07T02:57:56.783251Z"
    }
   },
   "cell_type": "code",
   "source": "acf_full_result = pd.read_csv(\"acf_full_results.tsv\", sep='\\t', index_col=0)",
   "id": "c71519956be4aa3",
   "outputs": [],
   "execution_count": 113
  },
  {
   "metadata": {
    "ExecuteTime": {
     "end_time": "2025-02-07T02:57:58.779994Z",
     "start_time": "2025-02-07T02:57:58.765594Z"
    }
   },
   "cell_type": "code",
   "source": "acf_full_result.head()",
   "id": "47edb040c20d2932",
   "outputs": [
    {
     "data": {
      "text/plain": [
       "            Pval_1  Pval_2  Pval_3  Pval_4  Pval_5  Pval_6  Pval_7  Pval_8  \\\n",
       "SSMa000210    0.72    1.00    0.70    0.26    1.00    0.74    0.16    0.98   \n",
       "SSMa000220    0.06    0.00    0.16    0.06    0.32    0.20    0.08    0.66   \n",
       "SSMa000230    0.52    0.30    0.00    0.56    0.24    0.52    0.10    0.44   \n",
       "SSMa000260    0.68    0.84    0.04    0.44    0.04    0.76    0.64    0.98   \n",
       "SSMa000270    0.96    0.42    0.24    0.84    0.30    0.74    0.44    0.98   \n",
       "\n",
       "            Pval_9    Mean_1  ...      LB_9      UB_1      UB_2      UB_3  \\\n",
       "SSMa000210    0.86 -0.065487  ... -0.170298  0.351926  0.252192  0.389373   \n",
       "SSMa000220    0.40  0.239587  ... -0.374807  0.436202 -0.062070  0.105105   \n",
       "SSMa000230    0.92  0.091750  ... -0.227515  0.302227  0.088562 -0.046056   \n",
       "SSMa000260    0.84  0.119879  ... -0.337034  0.467024  0.161834 -0.026755   \n",
       "SSMa000270    0.96  0.012639  ... -0.324155  0.377218  0.226754  0.167120   \n",
       "\n",
       "                UB_4      UB_5      UB_6      UB_7      UB_8      UB_9  \n",
       "SSMa000210  0.174376  0.336367  0.173388  0.079048  0.239542  0.210010  \n",
       "SSMa000220  0.005555  0.046148  0.320359  0.419510  0.161087  0.103147  \n",
       "SSMa000230  0.196136  0.034833  0.191245  0.307431  0.292873  0.181350  \n",
       "SSMa000260  0.267943 -0.020589  0.184505  0.271071  0.182817  0.139403  \n",
       "SSMa000270  0.314854  0.155841  0.274730  0.408502  0.276437  0.202365  \n",
       "\n",
       "[5 rows x 45 columns]"
      ],
      "text/html": [
       "<div>\n",
       "<style scoped>\n",
       "    .dataframe tbody tr th:only-of-type {\n",
       "        vertical-align: middle;\n",
       "    }\n",
       "\n",
       "    .dataframe tbody tr th {\n",
       "        vertical-align: top;\n",
       "    }\n",
       "\n",
       "    .dataframe thead th {\n",
       "        text-align: right;\n",
       "    }\n",
       "</style>\n",
       "<table border=\"1\" class=\"dataframe\">\n",
       "  <thead>\n",
       "    <tr style=\"text-align: right;\">\n",
       "      <th></th>\n",
       "      <th>Pval_1</th>\n",
       "      <th>Pval_2</th>\n",
       "      <th>Pval_3</th>\n",
       "      <th>Pval_4</th>\n",
       "      <th>Pval_5</th>\n",
       "      <th>Pval_6</th>\n",
       "      <th>Pval_7</th>\n",
       "      <th>Pval_8</th>\n",
       "      <th>Pval_9</th>\n",
       "      <th>Mean_1</th>\n",
       "      <th>...</th>\n",
       "      <th>LB_9</th>\n",
       "      <th>UB_1</th>\n",
       "      <th>UB_2</th>\n",
       "      <th>UB_3</th>\n",
       "      <th>UB_4</th>\n",
       "      <th>UB_5</th>\n",
       "      <th>UB_6</th>\n",
       "      <th>UB_7</th>\n",
       "      <th>UB_8</th>\n",
       "      <th>UB_9</th>\n",
       "    </tr>\n",
       "  </thead>\n",
       "  <tbody>\n",
       "    <tr>\n",
       "      <th>SSMa000210</th>\n",
       "      <td>0.72</td>\n",
       "      <td>1.00</td>\n",
       "      <td>0.70</td>\n",
       "      <td>0.26</td>\n",
       "      <td>1.00</td>\n",
       "      <td>0.74</td>\n",
       "      <td>0.16</td>\n",
       "      <td>0.98</td>\n",
       "      <td>0.86</td>\n",
       "      <td>-0.065487</td>\n",
       "      <td>...</td>\n",
       "      <td>-0.170298</td>\n",
       "      <td>0.351926</td>\n",
       "      <td>0.252192</td>\n",
       "      <td>0.389373</td>\n",
       "      <td>0.174376</td>\n",
       "      <td>0.336367</td>\n",
       "      <td>0.173388</td>\n",
       "      <td>0.079048</td>\n",
       "      <td>0.239542</td>\n",
       "      <td>0.210010</td>\n",
       "    </tr>\n",
       "    <tr>\n",
       "      <th>SSMa000220</th>\n",
       "      <td>0.06</td>\n",
       "      <td>0.00</td>\n",
       "      <td>0.16</td>\n",
       "      <td>0.06</td>\n",
       "      <td>0.32</td>\n",
       "      <td>0.20</td>\n",
       "      <td>0.08</td>\n",
       "      <td>0.66</td>\n",
       "      <td>0.40</td>\n",
       "      <td>0.239587</td>\n",
       "      <td>...</td>\n",
       "      <td>-0.374807</td>\n",
       "      <td>0.436202</td>\n",
       "      <td>-0.062070</td>\n",
       "      <td>0.105105</td>\n",
       "      <td>0.005555</td>\n",
       "      <td>0.046148</td>\n",
       "      <td>0.320359</td>\n",
       "      <td>0.419510</td>\n",
       "      <td>0.161087</td>\n",
       "      <td>0.103147</td>\n",
       "    </tr>\n",
       "    <tr>\n",
       "      <th>SSMa000230</th>\n",
       "      <td>0.52</td>\n",
       "      <td>0.30</td>\n",
       "      <td>0.00</td>\n",
       "      <td>0.56</td>\n",
       "      <td>0.24</td>\n",
       "      <td>0.52</td>\n",
       "      <td>0.10</td>\n",
       "      <td>0.44</td>\n",
       "      <td>0.92</td>\n",
       "      <td>0.091750</td>\n",
       "      <td>...</td>\n",
       "      <td>-0.227515</td>\n",
       "      <td>0.302227</td>\n",
       "      <td>0.088562</td>\n",
       "      <td>-0.046056</td>\n",
       "      <td>0.196136</td>\n",
       "      <td>0.034833</td>\n",
       "      <td>0.191245</td>\n",
       "      <td>0.307431</td>\n",
       "      <td>0.292873</td>\n",
       "      <td>0.181350</td>\n",
       "    </tr>\n",
       "    <tr>\n",
       "      <th>SSMa000260</th>\n",
       "      <td>0.68</td>\n",
       "      <td>0.84</td>\n",
       "      <td>0.04</td>\n",
       "      <td>0.44</td>\n",
       "      <td>0.04</td>\n",
       "      <td>0.76</td>\n",
       "      <td>0.64</td>\n",
       "      <td>0.98</td>\n",
       "      <td>0.84</td>\n",
       "      <td>0.119879</td>\n",
       "      <td>...</td>\n",
       "      <td>-0.337034</td>\n",
       "      <td>0.467024</td>\n",
       "      <td>0.161834</td>\n",
       "      <td>-0.026755</td>\n",
       "      <td>0.267943</td>\n",
       "      <td>-0.020589</td>\n",
       "      <td>0.184505</td>\n",
       "      <td>0.271071</td>\n",
       "      <td>0.182817</td>\n",
       "      <td>0.139403</td>\n",
       "    </tr>\n",
       "    <tr>\n",
       "      <th>SSMa000270</th>\n",
       "      <td>0.96</td>\n",
       "      <td>0.42</td>\n",
       "      <td>0.24</td>\n",
       "      <td>0.84</td>\n",
       "      <td>0.30</td>\n",
       "      <td>0.74</td>\n",
       "      <td>0.44</td>\n",
       "      <td>0.98</td>\n",
       "      <td>0.96</td>\n",
       "      <td>0.012639</td>\n",
       "      <td>...</td>\n",
       "      <td>-0.324155</td>\n",
       "      <td>0.377218</td>\n",
       "      <td>0.226754</td>\n",
       "      <td>0.167120</td>\n",
       "      <td>0.314854</td>\n",
       "      <td>0.155841</td>\n",
       "      <td>0.274730</td>\n",
       "      <td>0.408502</td>\n",
       "      <td>0.276437</td>\n",
       "      <td>0.202365</td>\n",
       "    </tr>\n",
       "  </tbody>\n",
       "</table>\n",
       "<p>5 rows × 45 columns</p>\n",
       "</div>"
      ]
     },
     "execution_count": 114,
     "metadata": {},
     "output_type": "execute_result"
    }
   ],
   "execution_count": 114
  },
  {
   "metadata": {},
   "cell_type": "markdown",
   "source": "I limit the selection of representative genes to those that has at least one p value being zero.",
   "id": "97263e5403d280ba"
  },
  {
   "metadata": {
    "ExecuteTime": {
     "end_time": "2025-02-07T02:58:10.132517Z",
     "start_time": "2025-02-07T02:58:10.126317Z"
    }
   },
   "cell_type": "code",
   "source": "pval_mat = acf_full_result.loc[:, [f'Pval_{j}' for j in np.arange(1, 10)]].to_numpy()",
   "id": "de6db2ebd64d7a74",
   "outputs": [],
   "execution_count": 115
  },
  {
   "metadata": {
    "ExecuteTime": {
     "end_time": "2025-02-07T02:58:16.679293Z",
     "start_time": "2025-02-07T02:58:16.672546Z"
    }
   },
   "cell_type": "code",
   "source": "significant_filter = np.any(pval_mat == 0, axis=1)",
   "id": "bdeb655ae452cc2f",
   "outputs": [],
   "execution_count": 116
  },
  {
   "metadata": {
    "ExecuteTime": {
     "end_time": "2025-02-07T02:58:19.560704Z",
     "start_time": "2025-02-07T02:58:19.554412Z"
    }
   },
   "cell_type": "code",
   "source": "acf_subset_result = acf_full_result.loc[significant_filter, :]",
   "id": "17996378ae90aa6a",
   "outputs": [],
   "execution_count": 117
  },
  {
   "metadata": {
    "ExecuteTime": {
     "end_time": "2025-02-07T02:58:22.891925Z",
     "start_time": "2025-02-07T02:58:22.888796Z"
    }
   },
   "cell_type": "code",
   "source": "acf_subset_result.shape",
   "id": "e636db0682184626",
   "outputs": [
    {
     "data": {
      "text/plain": [
       "(2040, 45)"
      ]
     },
     "execution_count": 118,
     "metadata": {},
     "output_type": "execute_result"
    }
   ],
   "execution_count": 118
  },
  {
   "metadata": {
    "ExecuteTime": {
     "end_time": "2025-02-07T02:59:45.808798Z",
     "start_time": "2025-02-07T02:59:45.801045Z"
    }
   },
   "cell_type": "code",
   "source": [
    "lower_bound = acf_subset_result.loc[:, [f'LB_{j}' for j in np.arange(1, 10)]]\n",
    "upper_bound = acf_subset_result.loc[:, [f'UB_{j}' for j in np.arange(1, 10)]]\n",
    "# sd = acf_full_result.loc[:, [f'SD_{j}' for j in np.arange(1, 7)]]\n",
    "mean = acf_full_result.loc[:, [f'Mean_{j}' for j in np.arange(1, 10)]]"
   ],
   "id": "dc522fa190fad933",
   "outputs": [],
   "execution_count": 128
  },
  {
   "metadata": {
    "ExecuteTime": {
     "end_time": "2025-02-07T02:59:47.661642Z",
     "start_time": "2025-02-07T02:59:47.659385Z"
    }
   },
   "cell_type": "code",
   "source": [
    "lower_bound_mat = lower_bound.to_numpy()\n",
    "upper_bound_mat = upper_bound.to_numpy()"
   ],
   "id": "54b68bd57e3e5492",
   "outputs": [],
   "execution_count": 129
  },
  {
   "metadata": {
    "ExecuteTime": {
     "end_time": "2025-02-07T02:59:53.762111Z",
     "start_time": "2025-02-07T02:59:53.758035Z"
    }
   },
   "cell_type": "code",
   "source": "significance_mat = np.zeros_like(lower_bound_mat)",
   "id": "d98bc5ad740f0e54",
   "outputs": [],
   "execution_count": 130
  },
  {
   "metadata": {
    "ExecuteTime": {
     "end_time": "2025-02-07T02:59:55.705377Z",
     "start_time": "2025-02-07T02:59:55.698790Z"
    }
   },
   "cell_type": "code",
   "source": [
    "significance_mat[lower_bound_mat > 0] = 1\n",
    "significance_mat[upper_bound_mat < 0] = -1"
   ],
   "id": "2d3d627d42a19d04",
   "outputs": [],
   "execution_count": 131
  },
  {
   "metadata": {
    "ExecuteTime": {
     "end_time": "2025-02-07T02:59:57.481380Z",
     "start_time": "2025-02-07T02:59:57.472672Z"
    }
   },
   "cell_type": "code",
   "source": [
    "sum_pos_significant = np.sum(significance_mat > 0, axis=0)\n",
    "sum_neg_significant = np.sum(significance_mat < 0, axis=0)"
   ],
   "id": "c62ae52bd26d8931",
   "outputs": [],
   "execution_count": 132
  },
  {
   "metadata": {
    "ExecuteTime": {
     "end_time": "2025-02-07T03:00:00.072431Z",
     "start_time": "2025-02-07T02:59:59.612512Z"
    }
   },
   "cell_type": "code",
   "source": [
    "import matplotlib.pyplot as plt\n",
    "gap = np.arange(1, 10)\n",
    "\n",
    "fig1, ax1 = plt.subplots(nrows=1, ncols=2, figsize=(10, 4))\n",
    "\n",
    "ax1[0].bar(gap, sum_pos_significant)\n",
    "ax1[0].set_xlabel(\"Gap\")\n",
    "ax1[0].set_xticks(gap)\n",
    "ax1[0].set_ylabel(\"Number of genes\")\n",
    "ax1[0].set_title(\"Positive Autocorrelation\")\n",
    "ax1[0].set_ylim(0, 1200)\n",
    "\n",
    "ax1[1].bar(gap, sum_neg_significant)\n",
    "ax1[1].set_xticks(gap)\n",
    "ax1[1].set_xlabel(\"Gap\")\n",
    "# ax1[1].set_ylabel(\"Number of genes\")\n",
    "ax1[1].set_title(\"Negative Autocorrelation\")\n",
    "ax1[1].set_ylim(0, 1200)\n",
    "\n",
    "fig1.savefig(\"Significant_Autocorrelation\", dpi=400, bbox_inches='tight')"
   ],
   "id": "81e3228bb3c63064",
   "outputs": [
    {
     "data": {
      "text/plain": [
       "<Figure size 1000x400 with 2 Axes>"
      ],
      "image/png": "[encoded data removed]"
     },
     "metadata": {},
     "output_type": "display_data"
    }
   ],
   "execution_count": 133
  },
  {
   "metadata": {},
   "cell_type": "markdown",
   "source": "I decide to take a look at the genes with the strongest positive autocorrelations at lag 1, 6, 7, 9 and the strongest negative autocorrelations at lag 2,3,4,5,8,9.",
   "id": "454a0f2b9d3d1134"
  },
  {
   "metadata": {
    "ExecuteTime": {
     "end_time": "2025-02-07T03:00:09.575157Z",
     "start_time": "2025-02-07T03:00:09.569196Z"
    }
   },
   "cell_type": "code",
   "source": "pos_genes = np.where(significance_mat[:, 0] > 0)[0]",
   "id": "75895927cf4384b7",
   "outputs": [],
   "execution_count": 134
  },
  {
   "metadata": {
    "ExecuteTime": {
     "end_time": "2025-02-07T03:00:24.861062Z",
     "start_time": "2025-02-07T03:00:24.855755Z"
    }
   },
   "cell_type": "code",
   "source": "lower_bound['LB_2'].nlargest(5).index.tolist()",
   "id": "387b18d934bd6eb1",
   "outputs": [
    {
     "data": {
      "text/plain": [
       "['SSMa095500', 'SSMd290070', 'SSMb227890', 'SSMb131130', 'SSMe317460']"
      ]
     },
     "execution_count": 138,
     "metadata": {},
     "output_type": "execute_result"
    }
   ],
   "execution_count": 138
  },
  {
   "metadata": {
    "ExecuteTime": {
     "end_time": "2025-02-07T03:00:27.023610Z",
     "start_time": "2025-02-07T03:00:27.008516Z"
    }
   },
   "cell_type": "code",
   "source": [
    "pos_1_gene = lower_bound['LB_1'].nlargest(5).index.tolist()\n",
    "pos_6_gene = lower_bound['LB_6'].nlargest(5).index.tolist()\n",
    "pos_7_gene = lower_bound['LB_7'].nlargest(5).index.tolist()\n",
    "pos_9_gene = lower_bound['LB_9'].nlargest(5).index.tolist()\n",
    "\n",
    "neg_1_gene = upper_bound['UB_1'].nsmallest(5).index.tolist()\n",
    "neg_2_gene = upper_bound['UB_2'].nsmallest(5).index.tolist()\n",
    "neg_3_gene = upper_bound['UB_3'].nsmallest(5).index.tolist()\n",
    "neg_4_gene = upper_bound['UB_4'].nsmallest(5).index.tolist()\n",
    "neg_5_gene = upper_bound['UB_5'].nsmallest(5).index.tolist()\n",
    "neg_6_gene = upper_bound['UB_6'].nsmallest(5).index.tolist()\n",
    "neg_7_gene = upper_bound['UB_7'].nsmallest(5).index.tolist()\n",
    "neg_8_gene = upper_bound['UB_8'].nsmallest(5).index.tolist()\n",
    "neg_9_gene = upper_bound['UB_9'].nsmallest(5).index.tolist()\n",
    "neg_9_gene = upper_bound['UB_9'].nsmallest(5).index.tolist()\n"
   ],
   "id": "58fdc7eb584c8a73",
   "outputs": [],
   "execution_count": 139
  },
  {
   "metadata": {
    "ExecuteTime": {
     "end_time": "2025-02-07T03:00:29.915236Z",
     "start_time": "2025-02-07T03:00:29.911742Z"
    }
   },
   "cell_type": "code",
   "source": [
    "iconic_genes = pd.DataFrame({'pos_1': pos_1_gene,\n",
    "                             'pos_6': pos_6_gene,\n",
    "                             'pos_7': pos_7_gene,\n",
    "                             'pos_9': pos_9_gene,\n",
    "                             'neg_1': neg_1_gene,\n",
    "                             'neg_2': neg_2_gene,\n",
    "                             'neg_3': neg_3_gene,\n",
    "                             'neg_4': neg_4_gene,\n",
    "                             'neg_5': neg_5_gene,\n",
    "                             'neg_6': neg_6_gene,\n",
    "                             'neg_7': neg_7_gene,\n",
    "                             'neg_8': neg_8_gene,\n",
    "                             'neg_9': neg_9_gene})"
   ],
   "id": "8395c60e15be9994",
   "outputs": [],
   "execution_count": 140
  },
  {
   "metadata": {},
   "cell_type": "markdown",
   "source": "Let's visualize some of the genes.",
   "id": "94d303ef586da758"
  },
  {
   "metadata": {
    "ExecuteTime": {
     "end_time": "2025-02-07T03:00:32.331094Z",
     "start_time": "2025-02-07T03:00:32.276252Z"
    }
   },
   "cell_type": "code",
   "source": [
    "gene_expression_mean = pd.read_csv(\"gene_expression_mean_cluster.csv\", sep='\\t', index_col=0)\n",
    "gene_expression_sd = pd.read_csv(\"gene_expression_std_cluster.csv\", sep='\\t', index_col=0)"
   ],
   "id": "4ab7ffea34e3b492",
   "outputs": [],
   "execution_count": 141
  },
  {
   "metadata": {
    "ExecuteTime": {
     "end_time": "2025-02-07T03:00:35.032742Z",
     "start_time": "2025-02-07T03:00:35.030300Z"
    }
   },
   "cell_type": "code",
   "source": [
    "categories = iconic_genes.columns.tolist()\n",
    "timepoints = gene_expression_mean.columns[0:12].tolist()"
   ],
   "id": "5ff443f317a3c403",
   "outputs": [],
   "execution_count": 142
  },
  {
   "metadata": {
    "ExecuteTime": {
     "end_time": "2025-02-07T03:04:12.894175Z",
     "start_time": "2025-02-07T03:03:51.210136Z"
    }
   },
   "cell_type": "code",
   "source": [
    "for category in categories:\n",
    "\n",
    "    genes = iconic_genes[category].tolist()\n",
    "    for j in range(len(genes)):\n",
    "        selected_gene = genes[j]\n",
    "        selected_mean = gene_expression_mean.loc[genes[j], timepoints].to_numpy()\n",
    "        selected_std = gene_expression_sd.loc[genes[j], timepoints].to_numpy()\n",
    "        selected_ac_mean = mean.loc[genes[j], :].to_numpy()\n",
    "        selected_ac_lb = lower_bound.loc[genes[j], :].to_numpy()\n",
    "        selected_lower_error = selected_ac_mean - selected_ac_lb\n",
    "        selected_ac_ub = upper_bound.loc[genes[j], :].to_numpy()\n",
    "        selected_upper_error = selected_ac_ub - selected_ac_mean\n",
    "\n",
    "        fig2, ax2=plt.subplots(figsize=(10, 4), nrows=1, ncols=2)\n",
    "\n",
    "        ax2[0].errorbar(np.arange(1, 13), selected_mean, yerr=selected_std,\n",
    "                        fmt='-o', color=\"#344885\", capsize=5, alpha=0.7)\n",
    "        ax2[0].set_xticks(np.arange(1, 13), labels=timepoints)\n",
    "        ax2[0].set_xlabel('Month')\n",
    "        ax2[0].set_title(selected_gene)\n",
    "        ax2[0].set_ylabel('Log Gene Expression(TPM)')\n",
    "\n",
    "        ax2[1].errorbar(np.arange(1, 10), selected_ac_mean, yerr = np.stack((selected_lower_error, selected_upper_error), axis=0), fmt='-o', color=\"#344885\", capsize=5, alpha=0.7)\n",
    "        ax2[1].set_xticks(np.arange(1, 10))\n",
    "        ax2[1].axhline(0, color='r', linestyle='--')\n",
    "        ax2[1].set_xlabel(\"Lag\")\n",
    "        ax2[1].set_ylabel(\"Autocorrelation\")\n",
    "        ax2[1].set_title(selected_gene)\n",
    "\n",
    "        filename = f'individual_plots/{category}_{j}.png'\n",
    "        fig2.savefig(filename, dpi=400, bbox_inches='tight')\n",
    "        plt.close(fig2)\n"
   ],
   "id": "c5c69988402a76bc",
   "outputs": [],
   "execution_count": 144
  },
  {
   "metadata": {
    "ExecuteTime": {
     "end_time": "2025-02-06T23:02:28.034746Z",
     "start_time": "2025-02-06T23:02:28.029338Z"
    }
   },
   "cell_type": "code",
   "source": [
    "pos_significant = [[] for _ in range(6)]\n",
    "neg_significant = [[] for _ in range(6)]"
   ],
   "id": "32341649422a9ac0",
   "outputs": [],
   "execution_count": 121
  },
  {
   "metadata": {
    "ExecuteTime": {
     "end_time": "2025-02-06T23:02:30.203641Z",
     "start_time": "2025-02-06T23:02:30.192438Z"
    }
   },
   "cell_type": "code",
   "source": [
    "for i in range(6):\n",
    "    pos_significant[i] = lower_bound.index[lower_bound[f\"LB_{i+1}\"] > 0]\n",
    "    neg_significant[i] = upper_bound.index[upper_bound[f\"UB_{i+1}\"] < 0]"
   ],
   "id": "6e61caffdde9b014",
   "outputs": [],
   "execution_count": 122
  },
  {
   "metadata": {},
   "cell_type": "markdown",
   "source": "For the genes that have significant autocorrelation at each lag, find the ones that have the smallest standard deviation.",
   "id": "8a63e2475e64546b"
  },
  {
   "metadata": {
    "ExecuteTime": {
     "end_time": "2025-02-06T23:02:34.872730Z",
     "start_time": "2025-02-06T23:02:34.863753Z"
    }
   },
   "cell_type": "code",
   "source": [
    "selected_pos_significant_mean = [[] for _ in range(6)]\n",
    "selected_neg_significant_mean = [[] for _ in range(6)]\n",
    "selected_pos_significant_sd = [[] for _ in range(6)]\n",
    "selected_neg_significant_sd = [[] for _ in range(6)]"
   ],
   "id": "910e0431585e6af",
   "outputs": [],
   "execution_count": 123
  },
  {
   "metadata": {
    "ExecuteTime": {
     "end_time": "2025-02-06T23:03:31.064581Z",
     "start_time": "2025-02-06T23:03:31.034835Z"
    }
   },
   "cell_type": "code",
   "source": [
    "for i in range(6):\n",
    "\n",
    "    # mean_subset = mean.loc[pos_significant[i], :]\n",
    "    # selected_pos_significant_mean[i] = mean_subset[f'Mean_{i+1}'].nlargest(10).index.tolist()\n",
    "    # mean_subset = mean.loc[neg_significant[i], :]\n",
    "    # selected_neg_significant_mean[i] = mean_subset[f'Mean_{i+1}'].nsmallest(10).index.tolist()\n",
    "    # sd_subset = sd.loc[pos_significant[i], :]\n",
    "    # selected_pos_significant_sd[i] = sd_subset[f'SD_{i+1}'].nsmallest(10).index.tolist()\n",
    "    # sd_subset = sd.loc[neg_significant[i], :]\n",
    "    # selected_neg_significant_sd[i] = sd_subset[f'SD_{i+1}'].nsmallest(10).index.tolist()"
   ],
   "id": "e7a963e40dcfd30e",
   "outputs": [],
   "execution_count": 124
  },
  {
   "metadata": {
    "ExecuteTime": {
     "end_time": "2025-02-06T23:03:52.320292Z",
     "start_time": "2025-02-06T23:03:52.247342Z"
    }
   },
   "cell_type": "code",
   "source": [
    "gene_expression_mean = pd.read_csv(\"gene_expression_mean_cluster.csv\", sep='\\t', index_col=0)\n",
    "gene_expression_std = pd.read_csv(\"gene_expression_mean_cluster.csv\", sep='\\t', index_col=0)"
   ],
   "id": "8bfdc4f087d5a1f",
   "outputs": [],
   "execution_count": 125
  },
  {
   "metadata": {
    "ExecuteTime": {
     "end_time": "2025-02-06T23:03:54.950818Z",
     "start_time": "2025-02-06T23:03:54.938835Z"
    }
   },
   "cell_type": "code",
   "source": "gene_expression_mean.head()",
   "id": "a39b3063d70d637c",
   "outputs": [
    {
     "data": {
      "text/plain": [
       "                   2         4         6         8        10        12  \\\n",
       "Gene                                                                     \n",
       "SSMa000210 -0.282194 -0.822954 -0.404592 -0.499344 -0.424275 -0.215400   \n",
       "SSMa000220  1.215383  1.122929  0.939383  0.926112  0.979166  0.974276   \n",
       "SSMa000230  1.660489  1.571259  1.273406  1.283803  1.385245  1.478232   \n",
       "SSMa000260  0.460906  0.229148  0.175184  0.118433  0.162328  0.088607   \n",
       "SSMa000270  1.559363  1.511788  1.227636  1.315878  1.385016  1.469393   \n",
       "\n",
       "                  13        15        17        18        21        23  \\\n",
       "Gene                                                                     \n",
       "SSMa000210 -0.414397 -0.321717 -0.201947 -0.401857 -0.421982 -0.255391   \n",
       "SSMa000220  1.018113  1.095271  1.005141  0.965978  0.968764  1.003391   \n",
       "SSMa000230  1.390275  1.558686  1.409216  1.457385  1.338564  1.380999   \n",
       "SSMa000260  0.204264  0.247905  0.217787  0.179337  0.168924  0.258668   \n",
       "SSMa000270  1.393231  1.509882  1.382213  1.385814  1.372203  1.372743   \n",
       "\n",
       "            Cluster  \n",
       "Gene                 \n",
       "SSMa000210        5  \n",
       "SSMa000220        2  \n",
       "SSMa000230        6  \n",
       "SSMa000260        2  \n",
       "SSMa000270        6  "
      ],
      "text/html": [
       "<div>\n",
       "<style scoped>\n",
       "    .dataframe tbody tr th:only-of-type {\n",
       "        vertical-align: middle;\n",
       "    }\n",
       "\n",
       "    .dataframe tbody tr th {\n",
       "        vertical-align: top;\n",
       "    }\n",
       "\n",
       "    .dataframe thead th {\n",
       "        text-align: right;\n",
       "    }\n",
       "</style>\n",
       "<table border=\"1\" class=\"dataframe\">\n",
       "  <thead>\n",
       "    <tr style=\"text-align: right;\">\n",
       "      <th></th>\n",
       "      <th>2</th>\n",
       "      <th>4</th>\n",
       "      <th>6</th>\n",
       "      <th>8</th>\n",
       "      <th>10</th>\n",
       "      <th>12</th>\n",
       "      <th>13</th>\n",
       "      <th>15</th>\n",
       "      <th>17</th>\n",
       "      <th>18</th>\n",
       "      <th>21</th>\n",
       "      <th>23</th>\n",
       "      <th>Cluster</th>\n",
       "    </tr>\n",
       "    <tr>\n",
       "      <th>Gene</th>\n",
       "      <th></th>\n",
       "      <th></th>\n",
       "      <th></th>\n",
       "      <th></th>\n",
       "      <th></th>\n",
       "      <th></th>\n",
       "      <th></th>\n",
       "      <th></th>\n",
       "      <th></th>\n",
       "      <th></th>\n",
       "      <th></th>\n",
       "      <th></th>\n",
       "      <th></th>\n",
       "    </tr>\n",
       "  </thead>\n",
       "  <tbody>\n",
       "    <tr>\n",
       "      <th>SSMa000210</th>\n",
       "      <td>-0.282194</td>\n",
       "      <td>-0.822954</td>\n",
       "      <td>-0.404592</td>\n",
       "      <td>-0.499344</td>\n",
       "      <td>-0.424275</td>\n",
       "      <td>-0.215400</td>\n",
       "      <td>-0.414397</td>\n",
       "      <td>-0.321717</td>\n",
       "      <td>-0.201947</td>\n",
       "      <td>-0.401857</td>\n",
       "      <td>-0.421982</td>\n",
       "      <td>-0.255391</td>\n",
       "      <td>5</td>\n",
       "    </tr>\n",
       "    <tr>\n",
       "      <th>SSMa000220</th>\n",
       "      <td>1.215383</td>\n",
       "      <td>1.122929</td>\n",
       "      <td>0.939383</td>\n",
       "      <td>0.926112</td>\n",
       "      <td>0.979166</td>\n",
       "      <td>0.974276</td>\n",
       "      <td>1.018113</td>\n",
       "      <td>1.095271</td>\n",
       "      <td>1.005141</td>\n",
       "      <td>0.965978</td>\n",
       "      <td>0.968764</td>\n",
       "      <td>1.003391</td>\n",
       "      <td>2</td>\n",
       "    </tr>\n",
       "    <tr>\n",
       "      <th>SSMa000230</th>\n",
       "      <td>1.660489</td>\n",
       "      <td>1.571259</td>\n",
       "      <td>1.273406</td>\n",
       "      <td>1.283803</td>\n",
       "      <td>1.385245</td>\n",
       "      <td>1.478232</td>\n",
       "      <td>1.390275</td>\n",
       "      <td>1.558686</td>\n",
       "      <td>1.409216</td>\n",
       "      <td>1.457385</td>\n",
       "      <td>1.338564</td>\n",
       "      <td>1.380999</td>\n",
       "      <td>6</td>\n",
       "    </tr>\n",
       "    <tr>\n",
       "      <th>SSMa000260</th>\n",
       "      <td>0.460906</td>\n",
       "      <td>0.229148</td>\n",
       "      <td>0.175184</td>\n",
       "      <td>0.118433</td>\n",
       "      <td>0.162328</td>\n",
       "      <td>0.088607</td>\n",
       "      <td>0.204264</td>\n",
       "      <td>0.247905</td>\n",
       "      <td>0.217787</td>\n",
       "      <td>0.179337</td>\n",
       "      <td>0.168924</td>\n",
       "      <td>0.258668</td>\n",
       "      <td>2</td>\n",
       "    </tr>\n",
       "    <tr>\n",
       "      <th>SSMa000270</th>\n",
       "      <td>1.559363</td>\n",
       "      <td>1.511788</td>\n",
       "      <td>1.227636</td>\n",
       "      <td>1.315878</td>\n",
       "      <td>1.385016</td>\n",
       "      <td>1.469393</td>\n",
       "      <td>1.393231</td>\n",
       "      <td>1.509882</td>\n",
       "      <td>1.382213</td>\n",
       "      <td>1.385814</td>\n",
       "      <td>1.372203</td>\n",
       "      <td>1.372743</td>\n",
       "      <td>6</td>\n",
       "    </tr>\n",
       "  </tbody>\n",
       "</table>\n",
       "</div>"
      ]
     },
     "execution_count": 126,
     "metadata": {},
     "output_type": "execute_result"
    }
   ],
   "execution_count": 126
  },
  {
   "metadata": {
    "ExecuteTime": {
     "end_time": "2025-02-06T23:04:11.738211Z",
     "start_time": "2025-02-06T23:04:11.731723Z"
    }
   },
   "cell_type": "code",
   "source": "pos_genes = [item for sublist in selected_pos_significant_mean for item in sublist]",
   "id": "524b17f17e97973e",
   "outputs": [
    {
     "data": {
      "text/plain": [
       "40"
      ]
     },
     "execution_count": 127,
     "metadata": {},
     "output_type": "execute_result"
    }
   ],
   "execution_count": 127
  },
  {
   "metadata": {
    "ExecuteTime": {
     "end_time": "2025-02-06T23:04:34.613270Z",
     "start_time": "2025-02-06T23:04:34.606512Z"
    }
   },
   "cell_type": "code",
   "source": [
    "pos_genes = list(set(pos_genes))\n",
    "len(pos_genes)"
   ],
   "id": "14b79557c0607d77",
   "outputs": [
    {
     "data": {
      "text/plain": [
       "40"
      ]
     },
     "execution_count": 129,
     "metadata": {},
     "output_type": "execute_result"
    }
   ],
   "execution_count": 129
  },
  {
   "metadata": {
    "ExecuteTime": {
     "end_time": "2025-02-06T22:39:45.532366Z",
     "start_time": "2025-02-06T22:39:45.526398Z"
    }
   },
   "cell_type": "code",
   "source": [
    "neg_genes = [item for sublist in selected_neg_significant_mean for item in sublist]\n",
    "len(neg_genes)"
   ],
   "id": "316921639c4ae420",
   "outputs": [
    {
     "data": {
      "text/plain": [
       "60"
      ]
     },
     "execution_count": 89,
     "metadata": {},
     "output_type": "execute_result"
    }
   ],
   "execution_count": 89
  }
 ],
 "metadata": {
  "kernelspec": {
   "display_name": "Python 3",
   "language": "python",
   "name": "python3"
  },
  "language_info": {
   "codemirror_mode": {
    "name": "ipython",
    "version": 2
   },
   "file_extension": ".py",
   "mimetype": "text/x-python",
   "name": "python",
   "nbconvert_exporter": "python",
   "pygments_lexer": "ipython2",
   "version": "2.7.6"
  }
 },
 "nbformat": 4,
 "nbformat_minor": 5
}
