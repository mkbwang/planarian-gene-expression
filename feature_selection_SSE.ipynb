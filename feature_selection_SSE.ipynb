{
 "cells": [
  {
   "metadata": {},
   "cell_type": "markdown",
   "source": "# Feature Selection based on Sum of Squares",
   "id": "65a002ae99983aee"
  },
  {
   "metadata": {
    "ExecuteTime": {
     "end_time": "2025-02-22T14:38:52.947654Z",
     "start_time": "2025-02-22T14:38:52.646679Z"
    }
   },
   "cell_type": "code",
   "source": [
    "import pandas as pd\n",
    "import numpy as np"
   ],
   "id": "345f28603f8105e3",
   "outputs": [],
   "execution_count": 1
  },
  {
   "metadata": {},
   "cell_type": "markdown",
   "source": "Load the genes and retain those that are always expressed.",
   "id": "5ec52689de2e9f2f"
  },
  {
   "metadata": {
    "ExecuteTime": {
     "end_time": "2025-02-22T14:38:54.501809Z",
     "start_time": "2025-02-22T14:38:54.298946Z"
    }
   },
   "cell_type": "code",
   "source": [
    "gene_expressions = pd.read_csv(\"gene_expression_original.csv\", sep='\\t', index_col=0)\n",
    "gene_expression_mat = gene_expressions.to_numpy()"
   ],
   "id": "44f80b8c0664a556",
   "outputs": [],
   "execution_count": 2
  },
  {
   "metadata": {
    "ExecuteTime": {
     "end_time": "2025-02-22T14:38:54.743141Z",
     "start_time": "2025-02-22T14:38:54.732822Z"
    }
   },
   "cell_type": "code",
   "source": [
    "prevalence = np.mean(gene_expression_mat > 0, axis=1)\n",
    "subset_gene_index = np.where(prevalence == 1)[0]\n",
    "gene_expressions = gene_expressions.iloc[subset_gene_index, :]\n",
    "gene_expressions_mat = gene_expressions.to_numpy()"
   ],
   "id": "ae43830f64dc23ec",
   "outputs": [],
   "execution_count": 3
  },
  {
   "metadata": {
    "ExecuteTime": {
     "end_time": "2025-02-22T14:38:55.464305Z",
     "start_time": "2025-02-22T14:38:55.458660Z"
    }
   },
   "cell_type": "code",
   "source": [
    "import re\n",
    "# extract the month numbers\n",
    "def extract_number(mystring):\n",
    "    numbers = re.findall(\"^\\d+\", mystring)\n",
    "    return int(numbers[0])"
   ],
   "id": "927def4bffda09b2",
   "outputs": [],
   "execution_count": 4
  },
  {
   "metadata": {
    "ExecuteTime": {
     "end_time": "2025-02-22T14:38:56.022783Z",
     "start_time": "2025-02-22T14:38:56.017529Z"
    }
   },
   "cell_type": "code",
   "source": [
    "sample_names = np.array(gene_expressions.columns.tolist())\n",
    "sample_ages = np.array([extract_number(sname) for sname in sample_names])"
   ],
   "id": "7206010247265842",
   "outputs": [],
   "execution_count": 5
  },
  {
   "metadata": {},
   "cell_type": "markdown",
   "source": "I exlore the genes whose within same age sum of squares are smallest compare to total sum of squares. Based on prior exploration I already notice that gene expressions at 2 months stand out from others, so I exclude the 2-month samples.",
   "id": "906a45acc44a828"
  },
  {
   "metadata": {
    "ExecuteTime": {
     "end_time": "2025-02-22T14:40:59.333618Z",
     "start_time": "2025-02-22T14:40:59.316213Z"
    }
   },
   "cell_type": "code",
   "source": [
    "log_expression = np.log(gene_expressions_mat)\n",
    "log_expression_subset = log_expression[:, sample_ages > 2]\n",
    "log_expression_subset_df = pd.DataFrame(log_expression_subset, index=gene_expressions.index,\n",
    "                                        columns=sample_names[sample_ages > 2])\n",
    "sample_ages_subset = sample_ages[sample_ages > 2]\n",
    "log_expression_mean = np.mean(log_expression_subset, axis=1)\n",
    "logexp_TSS = np.sum((log_expression_subset - log_expression_mean[:, np.newaxis])**2, axis=1)"
   ],
   "id": "15bdcdc4c3968f04",
   "outputs": [],
   "execution_count": 6
  },
  {
   "metadata": {
    "ExecuteTime": {
     "end_time": "2025-02-22T14:41:02.389255Z",
     "start_time": "2025-02-22T14:41:02.377482Z"
    }
   },
   "cell_type": "code",
   "source": [
    "unique_ages = np.unique(sample_ages)\n",
    "unique_ages = unique_ages[unique_ages != 2]\n",
    "logexp_SSwithin = np.zeros(shape=(len(subset_gene_index), len(unique_ages)))\n",
    "for index, age in enumerate(unique_ages):\n",
    "    log_expression_onegene = log_expression_subset[:, sample_ages_subset == age]\n",
    "    log_expression_onegene_mean = np.mean(log_expression_onegene, axis=1)\n",
    "    logexp_SSwithin[:, index] = np.sum((log_expression_onegene - log_expression_onegene_mean[:, np.newaxis])**2, axis=1)\n",
    "logexp_SSwithin_sum = np.sum(logexp_SSwithin, axis=1)"
   ],
   "id": "6a0b20bd2b3f5850",
   "outputs": [],
   "execution_count": 7
  },
  {
   "metadata": {
    "ExecuteTime": {
     "end_time": "2025-02-22T14:41:03.602313Z",
     "start_time": "2025-02-22T14:41:03.591764Z"
    }
   },
   "cell_type": "code",
   "source": [
    "SSdf = pd.DataFrame({\"TSS\": logexp_TSS, \"SSwithin\": logexp_SSwithin_sum,\n",
    "                     \"SSbetween\": logexp_TSS - logexp_SSwithin_sum})\n",
    "SSdf.index = gene_expressions.index.tolist()\n",
    "SSdf[\"SEProp\"] = SSdf[\"SSbetween\"] / SSdf[\"TSS\"]\n",
    "SSdf = SSdf.sort_values(by=\"SEProp\", ascending=False)"
   ],
   "id": "dca1261cb672c028",
   "outputs": [],
   "execution_count": 8
  },
  {
   "metadata": {},
   "cell_type": "markdown",
   "source": "Visualize some of the gene expressions.",
   "id": "e124586c23a78b1f"
  },
  {
   "metadata": {
    "ExecuteTime": {
     "end_time": "2025-02-22T14:41:21.923801Z",
     "start_time": "2025-02-22T14:41:21.919221Z"
    }
   },
   "cell_type": "code",
   "source": [
    "xvals = np.zeros(len(sample_ages_subset)) # for plotting\n",
    "for index, age in enumerate(unique_ages):\n",
    "    xvals[sample_ages_subset == age] =index"
   ],
   "id": "398faf6bcfcc7f39",
   "outputs": [],
   "execution_count": 10
  },
  {
   "metadata": {
    "ExecuteTime": {
     "end_time": "2025-02-22T14:41:23.038749Z",
     "start_time": "2025-02-22T14:41:22.720238Z"
    }
   },
   "cell_type": "code",
   "source": [
    "import matplotlib.pyplot as plt\n",
    "color_red=\"#db382c\"\n",
    "color_green=\"#2f7028\"\n",
    "color_brown=\"#665223\"\n",
    "color_blue=\"#344885\"\n",
    "color_magenta=\"#b538b3\""
   ],
   "id": "87885c7a772dd92e",
   "outputs": [],
   "execution_count": 11
  },
  {
   "metadata": {
    "ExecuteTime": {
     "end_time": "2025-02-22T14:51:17.787288Z",
     "start_time": "2025-02-22T14:51:17.617410Z"
    }
   },
   "cell_type": "code",
   "source": [
    "example_logexp = log_expression_subset_df.loc[SSdf.index[15], :].to_numpy()\n",
    "fig1, ax1=plt.subplots(figsize=(5, 4))\n",
    "ax1.scatter(xvals, example_logexp, color=color_red)\n",
    "ax1.set_xticks(np.arange(len(unique_ages)), labels=unique_ages)\n",
    "ax1.set_xlabel('Month')\n",
    "ax1.set_ylabel('Log Gene Expression (TPM)')\n"
   ],
   "id": "89b111aad9df2e3e",
   "outputs": [
    {
     "data": {
      "text/plain": [
       "Text(0, 0.5, 'Log Gene Expression (TPM)')"
      ]
     },
     "execution_count": 47,
     "metadata": {},
     "output_type": "execute_result"
    },
    {
     "data": {
      "text/plain": [
       "<Figure size 500x400 with 1 Axes>"
      ],
      "image/png": "[encoded data removed]"
     },
     "metadata": {},
     "output_type": "display_data"
    }
   ],
   "execution_count": 47
  },
  {
   "metadata": {},
   "cell_type": "markdown",
   "source": "Save the top 1000 genes.",
   "id": "49bd81102f8b81d6"
  },
  {
   "metadata": {
    "ExecuteTime": {
     "end_time": "2025-02-22T15:07:20.156934Z",
     "start_time": "2025-02-22T15:07:20.143993Z"
    }
   },
   "cell_type": "code",
   "source": "SSdf.iloc[0:1000, :].to_csv(\"linear_model/topgenes.tsv\", sep='\\t')",
   "id": "f1d93d29ed4d301e",
   "outputs": [],
   "execution_count": 48
  }
 ],
 "metadata": {
  "kernelspec": {
   "display_name": "Python 3",
   "language": "python",
   "name": "python3"
  },
  "language_info": {
   "codemirror_mode": {
    "name": "ipython",
    "version": 2
   },
   "file_extension": ".py",
   "mimetype": "text/x-python",
   "name": "python",
   "nbconvert_exporter": "python",
   "pygments_lexer": "ipython2",
   "version": "2.7.6"
  }
 },
 "nbformat": 4,
 "nbformat_minor": 5
}
