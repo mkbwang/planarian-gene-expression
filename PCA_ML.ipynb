{
 "cells": [
  {
   "metadata": {},
   "cell_type": "markdown",
   "source": "# PCA on Marker genes",
   "id": "becbc79c568d2191"
  },
  {
   "metadata": {
    "ExecuteTime": {
     "end_time": "2025-02-07T17:32:48.957409Z",
     "start_time": "2025-02-07T17:32:48.955159Z"
    }
   },
   "cell_type": "code",
   "source": [
    "import pandas as pd\n",
    "import pickle\n",
    "import numpy as np"
   ],
   "id": "f1f5e3f73fc12c7a",
   "outputs": [],
   "execution_count": 1
  },
  {
   "metadata": {
    "ExecuteTime": {
     "end_time": "2025-02-07T17:32:55.678475Z",
     "start_time": "2025-02-07T17:32:55.672908Z"
    }
   },
   "cell_type": "code",
   "source": [
    "with open(\"marker_genes.pkl\", 'rb') as f:\n",
    "    marker_genes = pickle.load(f)"
   ],
   "id": "59f1de42dd5e1041",
   "outputs": [],
   "execution_count": 2
  },
  {
   "metadata": {
    "ExecuteTime": {
     "end_time": "2025-02-07T17:39:42.688539Z",
     "start_time": "2025-02-07T17:39:42.607652Z"
    }
   },
   "cell_type": "code",
   "source": "expressions_df = pd.read_csv(\"gene_expression_original.csv\", sep='\\t', index_col=0)",
   "id": "1da6829a5afd8447",
   "outputs": [],
   "execution_count": 4
  },
  {
   "metadata": {
    "ExecuteTime": {
     "end_time": "2025-02-07T17:40:06.233641Z",
     "start_time": "2025-02-07T17:40:06.223492Z"
    }
   },
   "cell_type": "code",
   "source": "expressions_df = expressions_df.loc[marker_genes, :]",
   "id": "e1ccb1dd8cd10ba8",
   "outputs": [],
   "execution_count": 5
  },
  {
   "metadata": {
    "ExecuteTime": {
     "end_time": "2025-02-07T17:42:40.498853Z",
     "start_time": "2025-02-07T17:42:40.493333Z"
    }
   },
   "cell_type": "code",
   "source": "expressions_df.drop(\"Gene\", axis=1, inplace=True)",
   "id": "2863886dddc9636",
   "outputs": [],
   "execution_count": 9
  },
  {
   "metadata": {
    "ExecuteTime": {
     "end_time": "2025-02-07T17:43:20.637984Z",
     "start_time": "2025-02-07T17:43:20.634829Z"
    }
   },
   "cell_type": "code",
   "source": "expressions_df = expressions_df.transpose()",
   "id": "592416cf089de53a",
   "outputs": [],
   "execution_count": 12
  },
  {
   "metadata": {
    "ExecuteTime": {
     "end_time": "2025-02-07T17:47:43.426050Z",
     "start_time": "2025-02-07T17:47:43.422973Z"
    }
   },
   "cell_type": "code",
   "source": "expressions_df = np.log10(expressions_df)",
   "id": "5871fc1e6c202b22",
   "outputs": [],
   "execution_count": 14
  },
  {
   "metadata": {
    "ExecuteTime": {
     "end_time": "2025-02-07T17:48:10.153491Z",
     "start_time": "2025-02-07T17:48:10.150585Z"
    }
   },
   "cell_type": "code",
   "source": [
    "import re\n",
    "def extract_number(mystring):\n",
    "    numbers = re.findall(\"^\\d+\", mystring)\n",
    "    return int(numbers[0])"
   ],
   "id": "dab128b2ba8daeee",
   "outputs": [],
   "execution_count": 15
  },
  {
   "metadata": {
    "ExecuteTime": {
     "end_time": "2025-02-07T18:50:05.356639Z",
     "start_time": "2025-02-07T18:50:05.350879Z"
    }
   },
   "cell_type": "code",
   "source": "months = np.array([extract_number(timepoint) for timepoint in expressions_df.index.tolist()])",
   "id": "3c6773ecb61e3942",
   "outputs": [],
   "execution_count": 33
  },
  {
   "metadata": {
    "ExecuteTime": {
     "end_time": "2025-02-07T17:49:15.973473Z",
     "start_time": "2025-02-07T17:49:15.968388Z"
    }
   },
   "cell_type": "code",
   "source": "expressions_mat = expressions_df.to_numpy()",
   "id": "68f53adf5217af2e",
   "outputs": [],
   "execution_count": 18
  },
  {
   "metadata": {
    "ExecuteTime": {
     "end_time": "2025-02-07T18:01:32.910712Z",
     "start_time": "2025-02-07T18:01:32.862785Z"
    }
   },
   "cell_type": "code",
   "source": [
    "# standarize each column\n",
    "from sklearn.preprocessing import StandardScaler\n",
    "scaler = StandardScaler()\n",
    "scaled_expression = scaler.fit_transform(expressions_mat)"
   ],
   "id": "b2f2c1085670e172",
   "outputs": [],
   "execution_count": 19
  },
  {
   "metadata": {
    "ExecuteTime": {
     "end_time": "2025-02-07T18:01:50.091223Z",
     "start_time": "2025-02-07T18:01:50.082794Z"
    }
   },
   "cell_type": "code",
   "source": "np.std(scaled_expression, axis=0)",
   "id": "d47b4cc59ef8abc8",
   "outputs": [
    {
     "data": {
      "text/plain": [
       "array([1., 1., 1., 1., 1., 1., 1., 1., 1., 1., 1., 1., 1., 1., 1., 1., 1.,\n",
       "       1., 1., 1., 1., 1., 1., 1.])"
      ]
     },
     "execution_count": 21,
     "metadata": {},
     "output_type": "execute_result"
    }
   ],
   "execution_count": 21
  },
  {
   "metadata": {
    "ExecuteTime": {
     "end_time": "2025-02-07T18:27:49.225016Z",
     "start_time": "2025-02-07T18:27:49.163124Z"
    }
   },
   "cell_type": "code",
   "source": "from sklearn.decomposition import PCA",
   "id": "95d12b6aafb96f75",
   "outputs": [],
   "execution_count": 22
  },
  {
   "metadata": {
    "ExecuteTime": {
     "end_time": "2025-02-07T19:29:11.083818Z",
     "start_time": "2025-02-07T19:29:11.080465Z"
    }
   },
   "cell_type": "code",
   "source": [
    "pca = PCA(n_components=10)\n",
    "pca.fit(scaled_expression)\n",
    "transformed_expression = pca.transform(scaled_expression)"
   ],
   "id": "814666703d3ad166",
   "outputs": [],
   "execution_count": 57
  },
  {
   "metadata": {
    "ExecuteTime": {
     "end_time": "2025-02-07T19:29:28.297361Z",
     "start_time": "2025-02-07T19:29:28.292345Z"
    }
   },
   "cell_type": "code",
   "source": "pca.explained_variance_ratio_",
   "id": "22237a13f31a19a3",
   "outputs": [
    {
     "data": {
      "text/plain": [
       "array([0.50920119, 0.11890017, 0.10664254, 0.06420162, 0.0469697 ,\n",
       "       0.03266665, 0.0246524 , 0.01594771, 0.01417407, 0.01333329])"
      ]
     },
     "execution_count": 58,
     "metadata": {},
     "output_type": "execute_result"
    }
   ],
   "execution_count": 58
  },
  {
   "metadata": {
    "ExecuteTime": {
     "end_time": "2025-02-07T19:41:45.394198Z",
     "start_time": "2025-02-07T19:41:45.167876Z"
    }
   },
   "cell_type": "code",
   "source": [
    "import matplotlib.pyplot as plt\n",
    "fig0, ax0 = plt.subplots(figsize=(4, 4))\n",
    "ax0.bar(np.arange(1, 11), pca.explained_variance_ratio_)\n",
    "ax0.set_xticks(np.arange(1, 11))\n",
    "ax0.set_ylim([0, 0.6])\n",
    "ax0.set_xlabel('PC Number')\n",
    "ax0.set_ylabel('Explained Variance Ratio')\n",
    "fig0.savefig('modeling/PCA_variance_ratio.png', dpi=400, bbox_inches='tight')"
   ],
   "id": "7d540fb7b69c66df",
   "outputs": [
    {
     "data": {
      "text/plain": [
       "<Figure size 400x400 with 1 Axes>"
      ],
      "image/png": "[encoded data removed]"
     },
     "metadata": {},
     "output_type": "display_data"
    }
   ],
   "execution_count": 60
  },
  {
   "metadata": {
    "ExecuteTime": {
     "end_time": "2025-02-07T19:14:10.756348Z",
     "start_time": "2025-02-07T19:14:10.750745Z"
    }
   },
   "cell_type": "code",
   "source": [
    "# time_str = months.astype(str)\n",
    "unique_time = np.unique(months)"
   ],
   "id": "e2ab46b1a574f26f",
   "outputs": [],
   "execution_count": 49
  },
  {
   "metadata": {
    "ExecuteTime": {
     "end_time": "2025-02-07T19:14:13.533896Z",
     "start_time": "2025-02-07T19:14:13.527399Z"
    }
   },
   "cell_type": "code",
   "source": "unique_time",
   "id": "219d043c96513502",
   "outputs": [
    {
     "data": {
      "text/plain": [
       "array([ 2,  4,  6,  8, 10, 12, 13, 15, 17, 18, 21, 23])"
      ]
     },
     "execution_count": 50,
     "metadata": {},
     "output_type": "execute_result"
    }
   ],
   "execution_count": 50
  },
  {
   "metadata": {
    "ExecuteTime": {
     "end_time": "2025-02-07T19:14:29.981745Z",
     "start_time": "2025-02-07T19:14:29.971900Z"
    }
   },
   "cell_type": "code",
   "source": [
    "\n",
    "# color scheme\n",
    "color_map = {cat: plt.get_cmap('tab20')(i) for i, cat in enumerate(unique_time)}\n",
    "colors = [color_map[cat] for cat in months]"
   ],
   "id": "f7ff717ef33bfe8f",
   "outputs": [],
   "execution_count": 51
  },
  {
   "metadata": {
    "ExecuteTime": {
     "end_time": "2025-02-07T19:41:52.854431Z",
     "start_time": "2025-02-07T19:41:52.264792Z"
    }
   },
   "cell_type": "code",
   "source": [
    "fig1, ax1 = plt.subplots(figsize=(4, 4))\n",
    "ax1.scatter(transformed_expression[:, 0], transformed_expression[:, 1], c=colors, alpha=0.8)\n",
    "for month in unique_time:\n",
    "    plt.scatter([], [], c=color_map[month], label=str(month))\n",
    "ax1.legend(bbox_to_anchor=(1.05, 1), loc='upper left')\n",
    "ax1.set_xlabel(\"PC1\")\n",
    "ax1.set_ylabel(\"PC2\")\n",
    "fig1.savefig(\"modeling/PCA_all.png\", dpi=400, bbox_inches='tight')\n"
   ],
   "id": "643b4d12d9d9fafd",
   "outputs": [
    {
     "name": "stderr",
     "output_type": "stream",
     "text": [
      "/tmp/ipykernel_24303/3518457479.py:4: UserWarning: *c* argument looks like a single numeric RGB or RGBA sequence, which should be avoided as value-mapping will have precedence in case its length matches with *x* & *y*.  Please use the *color* keyword-argument or provide a 2D array with a single row if you intend to specify the same RGB or RGBA value for all points.\n",
      "  plt.scatter([], [], c=color_map[month], label=str(month))\n"
     ]
    },
    {
     "data": {
      "text/plain": [
       "<Figure size 400x400 with 1 Axes>"
      ],
      "image/png": "[encoded data removed]"
     },
     "metadata": {},
     "output_type": "display_data"
    }
   ],
   "execution_count": 61
  },
  {
   "metadata": {},
   "cell_type": "markdown",
   "source": "My next step is to carry out leave one out analysis.",
   "id": "56beef9d1adbef35"
  },
  {
   "metadata": {
    "ExecuteTime": {
     "end_time": "2025-02-07T19:48:19.100237Z",
     "start_time": "2025-02-07T19:48:19.088584Z"
    }
   },
   "cell_type": "code",
   "source": [
    "from sklearn.pipeline import Pipeline\n",
    "pipeline = Pipeline([\n",
    "    ('scaler', StandardScaler()),\n",
    "    ('pca', PCA())\n",
    "])"
   ],
   "id": "541b2089cced7ff3",
   "outputs": [],
   "execution_count": 63
  },
  {
   "metadata": {
    "ExecuteTime": {
     "end_time": "2025-02-07T20:08:33.704109Z",
     "start_time": "2025-02-07T20:08:33.698600Z"
    }
   },
   "cell_type": "code",
   "source": [
    "pca_prediction = np.zeros((expressions_mat.shape[0], 4))\n",
    "pca_prediction[:, 0] = months"
   ],
   "id": "e532f354de35b7ce",
   "outputs": [],
   "execution_count": 88
  },
  {
   "metadata": {
    "ExecuteTime": {
     "end_time": "2025-02-07T20:09:00.732255Z",
     "start_time": "2025-02-07T20:09:00.688807Z"
    }
   },
   "cell_type": "code",
   "source": [
    "\n",
    "for i in range(expressions_mat.shape[0]):\n",
    "    loo_index = i\n",
    "    mask = np.ones(expressions_mat.shape[0], dtype=bool)\n",
    "    mask[loo_index] = False\n",
    "    train_mat = expressions_mat[mask, :]\n",
    "    test_mat = expressions_mat[loo_index, :].reshape(1, -1)\n",
    "    months_train = months[mask]\n",
    "    true_month = months[loo_index]\n",
    "\n",
    "    pipeline.fit(train_mat)\n",
    "    train_transformed = pipeline.transform(train_mat)\n",
    "    test_transformed = pipeline.transform(test_mat)\n",
    "\n",
    "    # first two coordinates\n",
    "    train_coords = train_transformed[:, :2]\n",
    "    test_coords = test_transformed[:, :2]\n",
    "\n",
    "    distance = np.sum((train_coords - test_coords)**2, axis=1)\n",
    "\n",
    "    indices_sorted = np.argsort(distance)\n",
    "    smallest_three_indices = indices_sorted[:3]\n",
    "\n",
    "    pca_prediction[i, 1:] = months_train[smallest_three_indices]\n"
   ],
   "id": "541b08cfed7a7889",
   "outputs": [],
   "execution_count": 91
  },
  {
   "metadata": {
    "ExecuteTime": {
     "end_time": "2025-02-07T20:16:45.915528Z",
     "start_time": "2025-02-07T20:16:45.911422Z"
    }
   },
   "cell_type": "code",
   "source": "unique_time",
   "id": "8e282da6fa4fe63",
   "outputs": [
    {
     "data": {
      "text/plain": [
       "array([ 2,  4,  6,  8, 10, 12, 13, 15, 17, 18, 21, 23])"
      ]
     },
     "execution_count": 93,
     "metadata": {},
     "output_type": "execute_result"
    }
   ],
   "execution_count": 93
  },
  {
   "metadata": {
    "ExecuteTime": {
     "end_time": "2025-02-07T20:23:12.809872Z",
     "start_time": "2025-02-07T20:23:12.531210Z"
    }
   },
   "cell_type": "code",
   "source": [
    "fig3, ax3 = plt.subplots(figsize=(5, 4))\n",
    "\n",
    "xval = pca_prediction[:, 0] + np.random.normal(0, 0.2, pca_prediction.shape[0])\n",
    "yval = pca_prediction[:, 1] + np.random.normal(0, 0.2, pca_prediction.shape[0])\n",
    "\n",
    "ax3.scatter(xval, yval, s=5)\n",
    "ax3.set_xlabel(\"True Month\")\n",
    "ax3.set_ylabel(\"Predicted Month\")\n",
    "ax3.set_xticks(unique_time)\n",
    "ax3.set_yticks(unique_time)\n",
    "fig3.savefig(\"modeling/PCA_performance.png\", dpi=400, bbox_inches='tight')"
   ],
   "id": "6feb1e9bf102262e",
   "outputs": [
    {
     "data": {
      "text/plain": [
       "<Figure size 500x400 with 1 Axes>"
      ],
      "image/png": "[encoded data removed]"
     },
     "metadata": {},
     "output_type": "display_data"
    }
   ],
   "execution_count": 100
  },
  {
   "metadata": {
    "ExecuteTime": {
     "end_time": "2025-02-07T20:24:02.032330Z",
     "start_time": "2025-02-07T20:24:02.027179Z"
    }
   },
   "cell_type": "code",
   "source": "np.mean(pca_prediction[:, 0] == pca_prediction[:, 1])",
   "id": "ecb7ed23ebbc0c0",
   "outputs": [
    {
     "data": {
      "text/plain": [
       "0.4"
      ]
     },
     "execution_count": 101,
     "metadata": {},
     "output_type": "execute_result"
    }
   ],
   "execution_count": 101
  },
  {
   "metadata": {
    "ExecuteTime": {
     "end_time": "2025-02-07T20:27:24.559835Z",
     "start_time": "2025-02-07T20:27:24.556055Z"
    }
   },
   "cell_type": "code",
   "source": [
    "equal_1 = pca_prediction[:, 0] == pca_prediction[:, 1]\n",
    "equal_2 = pca_prediction[:, 0] == pca_prediction[:, 2]\n",
    "equal_3 = pca_prediction[:, 0] == pca_prediction[:, 3]"
   ],
   "id": "e36490a58b795b16",
   "outputs": [],
   "execution_count": 104
  },
  {
   "metadata": {
    "ExecuteTime": {
     "end_time": "2025-02-07T20:28:11.456225Z",
     "start_time": "2025-02-07T20:28:11.448928Z"
    }
   },
   "cell_type": "code",
   "source": "equal_1 + equal_2 + equal_3",
   "id": "fea785c61fee6085",
   "outputs": [
    {
     "data": {
      "text/plain": [
       "array([ True,  True,  True,  True,  True,  True, False,  True,  True,\n",
       "        True,  True,  True,  True,  True,  True, False,  True,  True,\n",
       "        True,  True, False, False, False,  True,  True,  True, False,\n",
       "       False, False,  True,  True,  True, False, False,  True,  True,\n",
       "        True,  True, False, False])"
      ]
     },
     "execution_count": 106,
     "metadata": {},
     "output_type": "execute_result"
    }
   ],
   "execution_count": 106
  },
  {
   "metadata": {
    "ExecuteTime": {
     "end_time": "2025-02-07T20:30:30.582988Z",
     "start_time": "2025-02-07T20:30:30.574863Z"
    }
   },
   "cell_type": "code",
   "source": [
    "pca_prediction_df = pd.DataFrame(data=pca_prediction, columns=[\"Real\", \"First\", \"Second\", \"Third\"])\n",
    "pca_prediction_df.to_csv(\"modeling/PCA_performance.csv\", index=False)"
   ],
   "id": "8be6a9d8db89842f",
   "outputs": [],
   "execution_count": 112
  }
 ],
 "metadata": {
  "kernelspec": {
   "display_name": "Python 3",
   "language": "python",
   "name": "python3"
  },
  "language_info": {
   "codemirror_mode": {
    "name": "ipython",
    "version": 2
   },
   "file_extension": ".py",
   "mimetype": "text/x-python",
   "name": "python",
   "nbconvert_exporter": "python",
   "pygments_lexer": "ipython2",
   "version": "2.7.6"
  }
 },
 "nbformat": 4,
 "nbformat_minor": 5
}
