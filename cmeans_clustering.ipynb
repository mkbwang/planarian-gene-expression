{
 "cells": [
  {
   "metadata": {},
   "cell_type": "markdown",
   "source": "# Apply K-means clustering to the gene expression time series",
   "id": "54201e9dfdf1ec76"
  },
  {
   "metadata": {},
   "cell_type": "markdown",
   "source": [
    "## Warm up: K-means\n",
    "I first do some warm up by coding up simple K-means clustering for a 2D data. Let me simulate three clusters of points, each of which are drawn from a multivariate normal distribution."
   ],
   "id": "ae454bed045c2f29"
  },
  {
   "metadata": {
    "ExecuteTime": {
     "end_time": "2025-02-05T15:10:42.075020Z",
     "start_time": "2025-02-05T15:10:42.067432Z"
    }
   },
   "cell_type": "code",
   "source": [
    "import numpy as np\n",
    "mean1 = [2,2]\n",
    "mean2 = [-2,2]\n",
    "mean3 = [0,-2]\n",
    "cov = [[0.8,0.2], [0.2, 0.8]]\n",
    "samples_1 = np.random.multivariate_normal(mean1, cov, 30)\n",
    "samples_2 = np.random.multivariate_normal(mean2, cov, 40)\n",
    "samples_3 = np.random.multivariate_normal(mean3, cov, 20)"
   ],
   "id": "14b1f33452a2ba5a",
   "outputs": [],
   "execution_count": 7
  },
  {
   "metadata": {
    "ExecuteTime": {
     "end_time": "2025-02-05T15:10:44.253066Z",
     "start_time": "2025-02-05T15:10:44.249115Z"
    }
   },
   "cell_type": "code",
   "source": [
    "color_red=\"#db382c\"\n",
    "color_green=\"#2f7028\"\n",
    "color_brown=\"#665223\"\n",
    "color_blue=\"#344885\"\n",
    "color_magenta=\"#b538b3\""
   ],
   "id": "d3cfe6e4f5d87e8a",
   "outputs": [],
   "execution_count": 8
  },
  {
   "metadata": {
    "ExecuteTime": {
     "end_time": "2025-02-05T15:10:48.519933Z",
     "start_time": "2025-02-05T15:10:48.334516Z"
    }
   },
   "cell_type": "code",
   "source": [
    "import matplotlib.pyplot as plt\n",
    "fig1, ax1 = plt.subplots(figsize=(8, 6))\n",
    "ax1.scatter(samples_1[:, 0], samples_1[:, 1], c=color_red)\n",
    "ax1.scatter(samples_2[:, 0], samples_2[:, 1], c=color_green)\n",
    "ax1.scatter(samples_3[:, 0], samples_3[:, 1], c=color_blue)\n"
   ],
   "id": "35807e4f61854831",
   "outputs": [
    {
     "data": {
      "text/plain": [
       "<matplotlib.collections.PathCollection at 0x7f47a65ce190>"
      ]
     },
     "execution_count": 9,
     "metadata": {},
     "output_type": "execute_result"
    },
    {
     "data": {
      "text/plain": [
       "<Figure size 800x600 with 1 Axes>"
      ],
      "image/png": "[encoded data removed]"
     },
     "metadata": {},
     "output_type": "display_data"
    }
   ],
   "execution_count": 9
  },
  {
   "metadata": {
    "ExecuteTime": {
     "end_time": "2025-02-05T19:56:44.523002Z",
     "start_time": "2025-02-05T19:56:44.518399Z"
    }
   },
   "cell_type": "code",
   "source": [
    "def mykmeans(points: np.ndarray, ncluster: int):\n",
    "\n",
    "    # set initial centers\n",
    "    quartiles = np.quantile(points, q=[0.25, 0.75], axis=0)\n",
    "    centers = np.array([np.random.uniform(low=quartiles[0, j], high=quartiles[1, j], size=ncluster)\n",
    "               for j in range(quartiles.shape[1])])\n",
    "    centers = centers.transpose()\n",
    "\n",
    "\n",
    "    # calculate initial distances and cluster labels\n",
    "    distances_mat = np.zeros((points.shape[0], ncluster))\n",
    "    for j in range(ncluster):\n",
    "        center = centers[j, :]\n",
    "        distances_mat[:, j] = np.sum(np.square(points - center[np.newaxis, :]), axis=1)\n",
    "    labels = np.argmin(distances_mat, axis=1)\n",
    "\n",
    "    # begin iteration\n",
    "    num_iterations = 0\n",
    "    while True:\n",
    "        # calculate new center\n",
    "        for j in range(ncluster):\n",
    "            centers[j, :] = np.mean(points[labels == j, :], axis=0)\n",
    "        # calculate new distances\n",
    "        for j in range(ncluster):\n",
    "            center = centers[j, :]\n",
    "            distances_mat[:, j] = np.sum(np.square(points - center[np.newaxis, :]), axis=1)\n",
    "        num_iterations += 1\n",
    "        new_labels = np.argmin(distances_mat, axis=1)\n",
    "        if np.all(new_labels == labels):\n",
    "            break\n",
    "        else:\n",
    "            labels=new_labels\n",
    "\n",
    "    return labels, num_iterations"
   ],
   "id": "74b8944d0f162d83",
   "outputs": [],
   "execution_count": 111
  },
  {
   "metadata": {
    "ExecuteTime": {
     "end_time": "2025-02-05T16:42:35.911241Z",
     "start_time": "2025-02-05T16:42:35.907497Z"
    }
   },
   "cell_type": "code",
   "source": "all_samples = np.concatenate((samples_1, samples_2, samples_3), axis=0)",
   "id": "41fd72a66766057d",
   "outputs": [],
   "execution_count": 20
  },
  {
   "metadata": {
    "ExecuteTime": {
     "end_time": "2025-02-05T19:56:54.735959Z",
     "start_time": "2025-02-05T19:56:54.729550Z"
    }
   },
   "cell_type": "code",
   "source": [
    "cluster_result, num_iter = mykmeans(all_samples, 3)\n",
    "result = np.column_stack((all_samples, cluster_result))"
   ],
   "id": "9bd78389c0cfd4ef",
   "outputs": [],
   "execution_count": 112
  },
  {
   "metadata": {
    "ExecuteTime": {
     "end_time": "2025-02-05T19:56:57.271096Z",
     "start_time": "2025-02-05T19:56:57.268342Z"
    }
   },
   "cell_type": "code",
   "source": "uniq_vals, counts = np.unique(result[:, 2], return_counts=True)",
   "id": "3f28ab0b57a8f59b",
   "outputs": [],
   "execution_count": 113
  },
  {
   "metadata": {
    "ExecuteTime": {
     "end_time": "2025-02-05T19:57:00.081411Z",
     "start_time": "2025-02-05T19:56:59.960092Z"
    }
   },
   "cell_type": "code",
   "source": [
    "fig2, ax2 = plt.subplots(figsize=(8, 6))\n",
    "fitted_samples_1 = result[result[:, 2] == 0, 0:2]\n",
    "fitted_samples_2 = result[result[:, 2] == 1, 0:2]\n",
    "fitted_samples_3 = result[result[:, 2] == 2, 0:2]\n",
    "ax2.scatter(fitted_samples_1[:, 0], fitted_samples_1[:, 1], c=color_red)\n",
    "ax2.scatter(fitted_samples_2[:, 0], fitted_samples_2[:, 1], c=color_green)\n",
    "ax2.scatter(fitted_samples_3[:, 0], fitted_samples_3[:, 1], c=color_blue)"
   ],
   "id": "29c52329a0995006",
   "outputs": [
    {
     "data": {
      "text/plain": [
       "<matplotlib.collections.PathCollection at 0x7f46c8d8f940>"
      ]
     },
     "execution_count": 114,
     "metadata": {},
     "output_type": "execute_result"
    },
    {
     "data": {
      "text/plain": [
       "<Figure size 800x600 with 1 Axes>"
      ],
      "image/png": "[encoded data removed]"
     },
     "metadata": {},
     "output_type": "display_data"
    }
   ],
   "execution_count": 114
  },
  {
   "metadata": {},
   "cell_type": "markdown",
   "source": "## K-means clustering for genes based on their expressions\n",
   "id": "7a3388c9d4af49e1"
  },
  {
   "metadata": {
    "ExecuteTime": {
     "end_time": "2025-02-05T17:50:43.686074Z",
     "start_time": "2025-02-05T17:50:43.682531Z"
    }
   },
   "cell_type": "code",
   "source": "import pandas as pd",
   "id": "f103feb25a463f51",
   "outputs": [],
   "execution_count": 60
  },
  {
   "metadata": {
    "ExecuteTime": {
     "end_time": "2025-02-05T17:50:46.174966Z",
     "start_time": "2025-02-05T17:50:45.917319Z"
    }
   },
   "cell_type": "code",
   "source": "expression_df = pd.read_csv(\"tpm.redSum.combat.ww.txt\", sep='\\t', index_col=0)",
   "id": "21e624f4f792836d",
   "outputs": [],
   "execution_count": 61
  },
  {
   "metadata": {},
   "cell_type": "markdown",
   "source": "We are only going to look at the genes which are always expressed from month 2 to month 23.",
   "id": "2b67b8d3ca33dea9"
  },
  {
   "metadata": {
    "ExecuteTime": {
     "end_time": "2025-02-05T17:50:52.057113Z",
     "start_time": "2025-02-05T17:50:52.052034Z"
    }
   },
   "cell_type": "code",
   "source": "all_timepoints = expression_df.columns.tolist()",
   "id": "4d0580705376dc18",
   "outputs": [],
   "execution_count": 62
  },
  {
   "metadata": {
    "ExecuteTime": {
     "end_time": "2025-02-05T17:50:54.345895Z",
     "start_time": "2025-02-05T17:50:54.339550Z"
    }
   },
   "cell_type": "code",
   "source": [
    "# filter out the timepoints that belong to wildtypes\n",
    "wildtype_pattern = \"^\\d+MO[a-e]\"\n",
    "import re\n",
    "regex = re.compile(wildtype_pattern)\n",
    "sample_names = [selected_time for selected_time in all_timepoints if regex.match(selected_time)]"
   ],
   "id": "857b2626db89cc87",
   "outputs": [],
   "execution_count": 63
  },
  {
   "metadata": {
    "ExecuteTime": {
     "end_time": "2025-02-05T17:56:57.355701Z",
     "start_time": "2025-02-05T17:56:57.346351Z"
    }
   },
   "cell_type": "code",
   "source": "expression_df = expression_df.loc[:, sample_names]",
   "id": "9c367eb686719b08",
   "outputs": [],
   "execution_count": 64
  },
  {
   "metadata": {
    "ExecuteTime": {
     "end_time": "2025-02-05T17:57:00.598452Z",
     "start_time": "2025-02-05T17:57:00.594401Z"
    }
   },
   "cell_type": "code",
   "source": [
    "# extract the month numbers\n",
    "def extract_number(mystring):\n",
    "    numbers = re.findall(\"^\\d+\", mystring)\n",
    "    return int(numbers[0])"
   ],
   "id": "ae2bc5ff83c7e5d5",
   "outputs": [],
   "execution_count": 65
  },
  {
   "metadata": {
    "ExecuteTime": {
     "end_time": "2025-02-05T17:57:07.028229Z",
     "start_time": "2025-02-05T17:57:07.022868Z"
    }
   },
   "cell_type": "code",
   "source": "time_month = np.array([extract_number(sname) for sname in sample_names])",
   "id": "5941ae037a8e3819",
   "outputs": [],
   "execution_count": 66
  },
  {
   "metadata": {
    "ExecuteTime": {
     "end_time": "2025-02-05T17:57:09.963834Z",
     "start_time": "2025-02-05T17:57:09.956632Z"
    }
   },
   "cell_type": "code",
   "source": [
    "uniq_month, counts = np.unique(time_month, return_counts=True)\n",
    "np.column_stack((uniq_month, counts))"
   ],
   "id": "320fd5bc3ebd0470",
   "outputs": [
    {
     "data": {
      "text/plain": [
       "array([[ 2,  4],\n",
       "       [ 4,  3],\n",
       "       [ 6,  3],\n",
       "       [ 8,  4],\n",
       "       [10,  3],\n",
       "       [12,  3],\n",
       "       [13,  3],\n",
       "       [15,  4],\n",
       "       [17,  3],\n",
       "       [18,  3],\n",
       "       [21,  3],\n",
       "       [23,  4],\n",
       "       [35,  2],\n",
       "       [36,  5],\n",
       "       [42,  3]])"
      ]
     },
     "execution_count": 67,
     "metadata": {},
     "output_type": "execute_result"
    }
   ],
   "execution_count": 67
  },
  {
   "metadata": {
    "ExecuteTime": {
     "end_time": "2025-02-05T17:57:24.576247Z",
     "start_time": "2025-02-05T17:57:24.567250Z"
    }
   },
   "cell_type": "code",
   "source": [
    "selected_samples = np.where(time_month <= 23)[0]\n",
    "expression_df = expression_df.iloc[:, selected_samples]"
   ],
   "id": "55a95855e8cbc8e6",
   "outputs": [],
   "execution_count": 69
  },
  {
   "metadata": {
    "ExecuteTime": {
     "end_time": "2025-02-05T17:57:27.429334Z",
     "start_time": "2025-02-05T17:57:27.423339Z"
    }
   },
   "cell_type": "code",
   "source": "expression_df.shape",
   "id": "72df618b16cb4100",
   "outputs": [
    {
     "data": {
      "text/plain": [
       "(31170, 40)"
      ]
     },
     "execution_count": 70,
     "metadata": {},
     "output_type": "execute_result"
    }
   ],
   "execution_count": 70
  },
  {
   "metadata": {
    "ExecuteTime": {
     "end_time": "2025-02-05T17:59:23.184185Z",
     "start_time": "2025-02-05T17:59:23.175403Z"
    }
   },
   "cell_type": "code",
   "source": [
    "# filter genes\n",
    "gene_prevalence = np.mean(expression_df > 0, axis=1)"
   ],
   "id": "d72b9308549a285f",
   "outputs": [],
   "execution_count": 72
  },
  {
   "metadata": {
    "ExecuteTime": {
     "end_time": "2025-02-05T18:00:25.349034Z",
     "start_time": "2025-02-05T18:00:25.342160Z"
    }
   },
   "cell_type": "code",
   "source": "print(f'Out of {len(gene_prevalence)} genes, {np.sum(gene_prevalence == 1)} genes are always expressed.')",
   "id": "d204256650fdfaa5",
   "outputs": [
    {
     "name": "stdout",
     "output_type": "stream",
     "text": [
      "Out of 31170 genes, 16075 genes are always expressed.\n"
     ]
    }
   ],
   "execution_count": 74
  },
  {
   "metadata": {
    "ExecuteTime": {
     "end_time": "2025-02-05T18:01:05.984193Z",
     "start_time": "2025-02-05T18:01:05.970620Z"
    }
   },
   "cell_type": "code",
   "source": [
    "selected_genes = np.where(gene_prevalence == 1)[0]\n",
    "expression_df = expression_df.iloc[selected_genes, :]"
   ],
   "id": "a676461c404665cd",
   "outputs": [],
   "execution_count": 75
  },
  {
   "metadata": {},
   "cell_type": "markdown",
   "source": "Take the mean expression of each gene across the replicates.",
   "id": "1022df6a5bfb80c8"
  },
  {
   "metadata": {
    "ExecuteTime": {
     "end_time": "2025-02-05T19:10:47.923169Z",
     "start_time": "2025-02-05T19:10:47.917314Z"
    }
   },
   "cell_type": "code",
   "source": "expression_df.loc[:, \"Gene\"] = expression_df.index",
   "id": "e6dfc9b5ab54468a",
   "outputs": [],
   "execution_count": 79
  },
  {
   "metadata": {
    "ExecuteTime": {
     "end_time": "2025-02-05T19:18:33.638068Z",
     "start_time": "2025-02-05T19:18:33.613063Z"
    }
   },
   "cell_type": "code",
   "source": "expression_df_long = pd.melt(expression_df, id_vars=\"Gene\", var_name=\"Time\", value_name=\"TPM\")",
   "id": "767c667c219f27e7",
   "outputs": [],
   "execution_count": 82
  },
  {
   "metadata": {
    "ExecuteTime": {
     "end_time": "2025-02-05T19:19:01.065138Z",
     "start_time": "2025-02-05T19:19:01.060987Z"
    }
   },
   "cell_type": "code",
   "source": "expression_df_long[\"Log_TPM\"] = np.log10(expression_df_long[\"TPM\"])",
   "id": "45a36762115449c7",
   "outputs": [],
   "execution_count": 84
  },
  {
   "metadata": {
    "ExecuteTime": {
     "end_time": "2025-02-05T19:19:48.757419Z",
     "start_time": "2025-02-05T19:19:48.287676Z"
    }
   },
   "cell_type": "code",
   "source": "expression_df_long[\"Month\"] = expression_df_long[\"Time\"].apply(extract_number)",
   "id": "1f72611ada3d5f10",
   "outputs": [],
   "execution_count": 86
  },
  {
   "metadata": {
    "ExecuteTime": {
     "end_time": "2025-02-05T21:14:24.019083Z",
     "start_time": "2025-02-05T21:14:23.887598Z"
    }
   },
   "cell_type": "code",
   "source": [
    "expression_df_long_mean = expression_df_long.groupby([\"Gene\", \"Month\"])[\"Log_TPM\"].mean().reset_index()\n",
    "expression_df_long_sd = expression_df_long.groupby([\"Gene\", \"Month\"])[\"Log_TPM\"].std().reset_index()"
   ],
   "id": "e5346c72bbfbb59a",
   "outputs": [],
   "execution_count": 143
  },
  {
   "metadata": {
    "ExecuteTime": {
     "end_time": "2025-02-05T21:14:25.974116Z",
     "start_time": "2025-02-05T21:14:25.929648Z"
    }
   },
   "cell_type": "code",
   "source": [
    "expression_df_mean = pd.pivot(expression_df_long_mean, index=\"Gene\", columns=\"Month\", values=\"Log_TPM\")\n",
    "expression_df_std = pd.pivot(expression_df_long_sd, index=\"Gene\", columns=\"Month\", values=\"Log_TPM\")"
   ],
   "id": "a62e3fbf08ad7f48",
   "outputs": [],
   "execution_count": 144
  },
  {
   "metadata": {
    "ExecuteTime": {
     "end_time": "2025-02-05T21:14:29.643558Z",
     "start_time": "2025-02-05T21:14:29.633025Z"
    }
   },
   "cell_type": "code",
   "source": [
    "from sklearn.preprocessing import StandardScaler\n",
    "scaler = StandardScaler()\n",
    "expression_mean_standardized = scaler.fit_transform(expression_df_mean.to_numpy().transpose()).T"
   ],
   "id": "94c398118c50e0ae",
   "outputs": [],
   "execution_count": 145
  },
  {
   "metadata": {},
   "cell_type": "markdown",
   "source": "Apply kmeans on the mean gene expressions through time.",
   "id": "5b7db15eac0fc493"
  },
  {
   "metadata": {
    "ExecuteTime": {
     "end_time": "2025-02-05T21:15:07.161935Z",
     "start_time": "2025-02-05T21:15:06.942010Z"
    }
   },
   "cell_type": "code",
   "source": [
    "# using my own\n",
    "labels, num_iter = mykmeans(expression_mean_standardized, 8)"
   ],
   "id": "a83e7bf8364f5d3d",
   "outputs": [],
   "execution_count": 149
  },
  {
   "metadata": {
    "ExecuteTime": {
     "end_time": "2025-02-05T21:15:25.691231Z",
     "start_time": "2025-02-05T21:15:25.688381Z"
    }
   },
   "cell_type": "code",
   "source": [
    "# use standard kmeans\n",
    "from sklearn.cluster import KMeans\n",
    "kmeans = KMeans(n_clusters=8, random_state=0, n_init=\"auto\")"
   ],
   "id": "c74c567018909ae8",
   "outputs": [],
   "execution_count": 151
  },
  {
   "metadata": {
    "ExecuteTime": {
     "end_time": "2025-02-05T21:15:34.167125Z",
     "start_time": "2025-02-05T21:15:34.026991Z"
    }
   },
   "cell_type": "code",
   "source": "kmeans.fit(expression_mean_standardized)",
   "id": "f335b5397443c782",
   "outputs": [
    {
     "data": {
      "text/plain": [
       "KMeans(random_state=0)"
      ],
      "text/html": [
       "<style>#sk-container-id-3 {\n",
       "  /* Definition of color scheme common for light and dark mode */\n",
       "  --sklearn-color-text: black;\n",
       "  --sklearn-color-line: gray;\n",
       "  /* Definition of color scheme for unfitted estimators */\n",
       "  --sklearn-color-unfitted-level-0: #fff5e6;\n",
       "  --sklearn-color-unfitted-level-1: #f6e4d2;\n",
       "  --sklearn-color-unfitted-level-2: #ffe0b3;\n",
       "  --sklearn-color-unfitted-level-3: chocolate;\n",
       "  /* Definition of color scheme for fitted estimators */\n",
       "  --sklearn-color-fitted-level-0: #f0f8ff;\n",
       "  --sklearn-color-fitted-level-1: #d4ebff;\n",
       "  --sklearn-color-fitted-level-2: #b3dbfd;\n",
       "  --sklearn-color-fitted-level-3: cornflowerblue;\n",
       "\n",
       "  /* Specific color for light theme */\n",
       "  --sklearn-color-text-on-default-background: var(--sg-text-color, var(--theme-code-foreground, var(--jp-content-font-color1, black)));\n",
       "  --sklearn-color-background: var(--sg-background-color, var(--theme-background, var(--jp-layout-color0, white)));\n",
       "  --sklearn-color-border-box: var(--sg-text-color, var(--theme-code-foreground, var(--jp-content-font-color1, black)));\n",
       "  --sklearn-color-icon: #696969;\n",
       "\n",
       "  @media (prefers-color-scheme: dark) {\n",
       "    /* Redefinition of color scheme for dark theme */\n",
       "    --sklearn-color-text-on-default-background: var(--sg-text-color, var(--theme-code-foreground, var(--jp-content-font-color1, white)));\n",
       "    --sklearn-color-background: var(--sg-background-color, var(--theme-background, var(--jp-layout-color0, #111)));\n",
       "    --sklearn-color-border-box: var(--sg-text-color, var(--theme-code-foreground, var(--jp-content-font-color1, white)));\n",
       "    --sklearn-color-icon: #878787;\n",
       "  }\n",
       "}\n",
       "\n",
       "#sk-container-id-3 {\n",
       "  color: var(--sklearn-color-text);\n",
       "}\n",
       "\n",
       "#sk-container-id-3 pre {\n",
       "  padding: 0;\n",
       "}\n",
       "\n",
       "#sk-container-id-3 input.sk-hidden--visually {\n",
       "  border: 0;\n",
       "  clip: rect(1px 1px 1px 1px);\n",
       "  clip: rect(1px, 1px, 1px, 1px);\n",
       "  height: 1px;\n",
       "  margin: -1px;\n",
       "  overflow: hidden;\n",
       "  padding: 0;\n",
       "  position: absolute;\n",
       "  width: 1px;\n",
       "}\n",
       "\n",
       "#sk-container-id-3 div.sk-dashed-wrapped {\n",
       "  border: 1px dashed var(--sklearn-color-line);\n",
       "  margin: 0 0.4em 0.5em 0.4em;\n",
       "  box-sizing: border-box;\n",
       "  padding-bottom: 0.4em;\n",
       "  background-color: var(--sklearn-color-background);\n",
       "}\n",
       "\n",
       "#sk-container-id-3 div.sk-container {\n",
       "  /* jupyter's `normalize.less` sets `[hidden] { display: none; }`\n",
       "     but bootstrap.min.css set `[hidden] { display: none !important; }`\n",
       "     so we also need the `!important` here to be able to override the\n",
       "     default hidden behavior on the sphinx rendered scikit-learn.org.\n",
       "     See: https://github.com/scikit-learn/scikit-learn/issues/21755 */\n",
       "  display: inline-block !important;\n",
       "  position: relative;\n",
       "}\n",
       "\n",
       "#sk-container-id-3 div.sk-text-repr-fallback {\n",
       "  display: none;\n",
       "}\n",
       "\n",
       "div.sk-parallel-item,\n",
       "div.sk-serial,\n",
       "div.sk-item {\n",
       "  /* draw centered vertical line to link estimators */\n",
       "  background-image: linear-gradient(var(--sklearn-color-text-on-default-background), var(--sklearn-color-text-on-default-background));\n",
       "  background-size: 2px 100%;\n",
       "  background-repeat: no-repeat;\n",
       "  background-position: center center;\n",
       "}\n",
       "\n",
       "/* Parallel-specific style estimator block */\n",
       "\n",
       "#sk-container-id-3 div.sk-parallel-item::after {\n",
       "  content: \"\";\n",
       "  width: 100%;\n",
       "  border-bottom: 2px solid var(--sklearn-color-text-on-default-background);\n",
       "  flex-grow: 1;\n",
       "}\n",
       "\n",
       "#sk-container-id-3 div.sk-parallel {\n",
       "  display: flex;\n",
       "  align-items: stretch;\n",
       "  justify-content: center;\n",
       "  background-color: var(--sklearn-color-background);\n",
       "  position: relative;\n",
       "}\n",
       "\n",
       "#sk-container-id-3 div.sk-parallel-item {\n",
       "  display: flex;\n",
       "  flex-direction: column;\n",
       "}\n",
       "\n",
       "#sk-container-id-3 div.sk-parallel-item:first-child::after {\n",
       "  align-self: flex-end;\n",
       "  width: 50%;\n",
       "}\n",
       "\n",
       "#sk-container-id-3 div.sk-parallel-item:last-child::after {\n",
       "  align-self: flex-start;\n",
       "  width: 50%;\n",
       "}\n",
       "\n",
       "#sk-container-id-3 div.sk-parallel-item:only-child::after {\n",
       "  width: 0;\n",
       "}\n",
       "\n",
       "/* Serial-specific style estimator block */\n",
       "\n",
       "#sk-container-id-3 div.sk-serial {\n",
       "  display: flex;\n",
       "  flex-direction: column;\n",
       "  align-items: center;\n",
       "  background-color: var(--sklearn-color-background);\n",
       "  padding-right: 1em;\n",
       "  padding-left: 1em;\n",
       "}\n",
       "\n",
       "\n",
       "/* Toggleable style: style used for estimator/Pipeline/ColumnTransformer box that is\n",
       "clickable and can be expanded/collapsed.\n",
       "- Pipeline and ColumnTransformer use this feature and define the default style\n",
       "- Estimators will overwrite some part of the style using the `sk-estimator` class\n",
       "*/\n",
       "\n",
       "/* Pipeline and ColumnTransformer style (default) */\n",
       "\n",
       "#sk-container-id-3 div.sk-toggleable {\n",
       "  /* Default theme specific background. It is overwritten whether we have a\n",
       "  specific estimator or a Pipeline/ColumnTransformer */\n",
       "  background-color: var(--sklearn-color-background);\n",
       "}\n",
       "\n",
       "/* Toggleable label */\n",
       "#sk-container-id-3 label.sk-toggleable__label {\n",
       "  cursor: pointer;\n",
       "  display: block;\n",
       "  width: 100%;\n",
       "  margin-bottom: 0;\n",
       "  padding: 0.5em;\n",
       "  box-sizing: border-box;\n",
       "  text-align: center;\n",
       "}\n",
       "\n",
       "#sk-container-id-3 label.sk-toggleable__label-arrow:before {\n",
       "  /* Arrow on the left of the label */\n",
       "  content: \"▸\";\n",
       "  float: left;\n",
       "  margin-right: 0.25em;\n",
       "  color: var(--sklearn-color-icon);\n",
       "}\n",
       "\n",
       "#sk-container-id-3 label.sk-toggleable__label-arrow:hover:before {\n",
       "  color: var(--sklearn-color-text);\n",
       "}\n",
       "\n",
       "/* Toggleable content - dropdown */\n",
       "\n",
       "#sk-container-id-3 div.sk-toggleable__content {\n",
       "  max-height: 0;\n",
       "  max-width: 0;\n",
       "  overflow: hidden;\n",
       "  text-align: left;\n",
       "  /* unfitted */\n",
       "  background-color: var(--sklearn-color-unfitted-level-0);\n",
       "}\n",
       "\n",
       "#sk-container-id-3 div.sk-toggleable__content.fitted {\n",
       "  /* fitted */\n",
       "  background-color: var(--sklearn-color-fitted-level-0);\n",
       "}\n",
       "\n",
       "#sk-container-id-3 div.sk-toggleable__content pre {\n",
       "  margin: 0.2em;\n",
       "  border-radius: 0.25em;\n",
       "  color: var(--sklearn-color-text);\n",
       "  /* unfitted */\n",
       "  background-color: var(--sklearn-color-unfitted-level-0);\n",
       "}\n",
       "\n",
       "#sk-container-id-3 div.sk-toggleable__content.fitted pre {\n",
       "  /* unfitted */\n",
       "  background-color: var(--sklearn-color-fitted-level-0);\n",
       "}\n",
       "\n",
       "#sk-container-id-3 input.sk-toggleable__control:checked~div.sk-toggleable__content {\n",
       "  /* Expand drop-down */\n",
       "  max-height: 200px;\n",
       "  max-width: 100%;\n",
       "  overflow: auto;\n",
       "}\n",
       "\n",
       "#sk-container-id-3 input.sk-toggleable__control:checked~label.sk-toggleable__label-arrow:before {\n",
       "  content: \"▾\";\n",
       "}\n",
       "\n",
       "/* Pipeline/ColumnTransformer-specific style */\n",
       "\n",
       "#sk-container-id-3 div.sk-label input.sk-toggleable__control:checked~label.sk-toggleable__label {\n",
       "  color: var(--sklearn-color-text);\n",
       "  background-color: var(--sklearn-color-unfitted-level-2);\n",
       "}\n",
       "\n",
       "#sk-container-id-3 div.sk-label.fitted input.sk-toggleable__control:checked~label.sk-toggleable__label {\n",
       "  background-color: var(--sklearn-color-fitted-level-2);\n",
       "}\n",
       "\n",
       "/* Estimator-specific style */\n",
       "\n",
       "/* Colorize estimator box */\n",
       "#sk-container-id-3 div.sk-estimator input.sk-toggleable__control:checked~label.sk-toggleable__label {\n",
       "  /* unfitted */\n",
       "  background-color: var(--sklearn-color-unfitted-level-2);\n",
       "}\n",
       "\n",
       "#sk-container-id-3 div.sk-estimator.fitted input.sk-toggleable__control:checked~label.sk-toggleable__label {\n",
       "  /* fitted */\n",
       "  background-color: var(--sklearn-color-fitted-level-2);\n",
       "}\n",
       "\n",
       "#sk-container-id-3 div.sk-label label.sk-toggleable__label,\n",
       "#sk-container-id-3 div.sk-label label {\n",
       "  /* The background is the default theme color */\n",
       "  color: var(--sklearn-color-text-on-default-background);\n",
       "}\n",
       "\n",
       "/* On hover, darken the color of the background */\n",
       "#sk-container-id-3 div.sk-label:hover label.sk-toggleable__label {\n",
       "  color: var(--sklearn-color-text);\n",
       "  background-color: var(--sklearn-color-unfitted-level-2);\n",
       "}\n",
       "\n",
       "/* Label box, darken color on hover, fitted */\n",
       "#sk-container-id-3 div.sk-label.fitted:hover label.sk-toggleable__label.fitted {\n",
       "  color: var(--sklearn-color-text);\n",
       "  background-color: var(--sklearn-color-fitted-level-2);\n",
       "}\n",
       "\n",
       "/* Estimator label */\n",
       "\n",
       "#sk-container-id-3 div.sk-label label {\n",
       "  font-family: monospace;\n",
       "  font-weight: bold;\n",
       "  display: inline-block;\n",
       "  line-height: 1.2em;\n",
       "}\n",
       "\n",
       "#sk-container-id-3 div.sk-label-container {\n",
       "  text-align: center;\n",
       "}\n",
       "\n",
       "/* Estimator-specific */\n",
       "#sk-container-id-3 div.sk-estimator {\n",
       "  font-family: monospace;\n",
       "  border: 1px dotted var(--sklearn-color-border-box);\n",
       "  border-radius: 0.25em;\n",
       "  box-sizing: border-box;\n",
       "  margin-bottom: 0.5em;\n",
       "  /* unfitted */\n",
       "  background-color: var(--sklearn-color-unfitted-level-0);\n",
       "}\n",
       "\n",
       "#sk-container-id-3 div.sk-estimator.fitted {\n",
       "  /* fitted */\n",
       "  background-color: var(--sklearn-color-fitted-level-0);\n",
       "}\n",
       "\n",
       "/* on hover */\n",
       "#sk-container-id-3 div.sk-estimator:hover {\n",
       "  /* unfitted */\n",
       "  background-color: var(--sklearn-color-unfitted-level-2);\n",
       "}\n",
       "\n",
       "#sk-container-id-3 div.sk-estimator.fitted:hover {\n",
       "  /* fitted */\n",
       "  background-color: var(--sklearn-color-fitted-level-2);\n",
       "}\n",
       "\n",
       "/* Specification for estimator info (e.g. \"i\" and \"?\") */\n",
       "\n",
       "/* Common style for \"i\" and \"?\" */\n",
       "\n",
       ".sk-estimator-doc-link,\n",
       "a:link.sk-estimator-doc-link,\n",
       "a:visited.sk-estimator-doc-link {\n",
       "  float: right;\n",
       "  font-size: smaller;\n",
       "  line-height: 1em;\n",
       "  font-family: monospace;\n",
       "  background-color: var(--sklearn-color-background);\n",
       "  border-radius: 1em;\n",
       "  height: 1em;\n",
       "  width: 1em;\n",
       "  text-decoration: none !important;\n",
       "  margin-left: 1ex;\n",
       "  /* unfitted */\n",
       "  border: var(--sklearn-color-unfitted-level-1) 1pt solid;\n",
       "  color: var(--sklearn-color-unfitted-level-1);\n",
       "}\n",
       "\n",
       ".sk-estimator-doc-link.fitted,\n",
       "a:link.sk-estimator-doc-link.fitted,\n",
       "a:visited.sk-estimator-doc-link.fitted {\n",
       "  /* fitted */\n",
       "  border: var(--sklearn-color-fitted-level-1) 1pt solid;\n",
       "  color: var(--sklearn-color-fitted-level-1);\n",
       "}\n",
       "\n",
       "/* On hover */\n",
       "div.sk-estimator:hover .sk-estimator-doc-link:hover,\n",
       ".sk-estimator-doc-link:hover,\n",
       "div.sk-label-container:hover .sk-estimator-doc-link:hover,\n",
       ".sk-estimator-doc-link:hover {\n",
       "  /* unfitted */\n",
       "  background-color: var(--sklearn-color-unfitted-level-3);\n",
       "  color: var(--sklearn-color-background);\n",
       "  text-decoration: none;\n",
       "}\n",
       "\n",
       "div.sk-estimator.fitted:hover .sk-estimator-doc-link.fitted:hover,\n",
       ".sk-estimator-doc-link.fitted:hover,\n",
       "div.sk-label-container:hover .sk-estimator-doc-link.fitted:hover,\n",
       ".sk-estimator-doc-link.fitted:hover {\n",
       "  /* fitted */\n",
       "  background-color: var(--sklearn-color-fitted-level-3);\n",
       "  color: var(--sklearn-color-background);\n",
       "  text-decoration: none;\n",
       "}\n",
       "\n",
       "/* Span, style for the box shown on hovering the info icon */\n",
       ".sk-estimator-doc-link span {\n",
       "  display: none;\n",
       "  z-index: 9999;\n",
       "  position: relative;\n",
       "  font-weight: normal;\n",
       "  right: .2ex;\n",
       "  padding: .5ex;\n",
       "  margin: .5ex;\n",
       "  width: min-content;\n",
       "  min-width: 20ex;\n",
       "  max-width: 50ex;\n",
       "  color: var(--sklearn-color-text);\n",
       "  box-shadow: 2pt 2pt 4pt #999;\n",
       "  /* unfitted */\n",
       "  background: var(--sklearn-color-unfitted-level-0);\n",
       "  border: .5pt solid var(--sklearn-color-unfitted-level-3);\n",
       "}\n",
       "\n",
       ".sk-estimator-doc-link.fitted span {\n",
       "  /* fitted */\n",
       "  background: var(--sklearn-color-fitted-level-0);\n",
       "  border: var(--sklearn-color-fitted-level-3);\n",
       "}\n",
       "\n",
       ".sk-estimator-doc-link:hover span {\n",
       "  display: block;\n",
       "}\n",
       "\n",
       "/* \"?\"-specific style due to the `<a>` HTML tag */\n",
       "\n",
       "#sk-container-id-3 a.estimator_doc_link {\n",
       "  float: right;\n",
       "  font-size: 1rem;\n",
       "  line-height: 1em;\n",
       "  font-family: monospace;\n",
       "  background-color: var(--sklearn-color-background);\n",
       "  border-radius: 1rem;\n",
       "  height: 1rem;\n",
       "  width: 1rem;\n",
       "  text-decoration: none;\n",
       "  /* unfitted */\n",
       "  color: var(--sklearn-color-unfitted-level-1);\n",
       "  border: var(--sklearn-color-unfitted-level-1) 1pt solid;\n",
       "}\n",
       "\n",
       "#sk-container-id-3 a.estimator_doc_link.fitted {\n",
       "  /* fitted */\n",
       "  border: var(--sklearn-color-fitted-level-1) 1pt solid;\n",
       "  color: var(--sklearn-color-fitted-level-1);\n",
       "}\n",
       "\n",
       "/* On hover */\n",
       "#sk-container-id-3 a.estimator_doc_link:hover {\n",
       "  /* unfitted */\n",
       "  background-color: var(--sklearn-color-unfitted-level-3);\n",
       "  color: var(--sklearn-color-background);\n",
       "  text-decoration: none;\n",
       "}\n",
       "\n",
       "#sk-container-id-3 a.estimator_doc_link.fitted:hover {\n",
       "  /* fitted */\n",
       "  background-color: var(--sklearn-color-fitted-level-3);\n",
       "}\n",
       "</style><div id=\"sk-container-id-3\" class=\"sk-top-container\"><div class=\"sk-text-repr-fallback\"><pre>KMeans(random_state=0)</pre><b>In a Jupyter environment, please rerun this cell to show the HTML representation or trust the notebook. <br />On GitHub, the HTML representation is unable to render, please try loading this page with nbviewer.org.</b></div><div class=\"sk-container\" hidden><div class=\"sk-item\"><div class=\"sk-estimator fitted sk-toggleable\"><input class=\"sk-toggleable__control sk-hidden--visually\" id=\"sk-estimator-id-3\" type=\"checkbox\" checked><label for=\"sk-estimator-id-3\" class=\"sk-toggleable__label fitted sk-toggleable__label-arrow fitted\">&nbsp;&nbsp;KMeans<a class=\"sk-estimator-doc-link fitted\" rel=\"noreferrer\" target=\"_blank\" href=\"https://scikit-learn.org/1.4/modules/generated/sklearn.cluster.KMeans.html\">?<span>Documentation for KMeans</span></a><span class=\"sk-estimator-doc-link fitted\">i<span>Fitted</span></span></label><div class=\"sk-toggleable__content fitted\"><pre>KMeans(random_state=0)</pre></div> </div></div></div></div>"
      ]
     },
     "execution_count": 152,
     "metadata": {},
     "output_type": "execute_result"
    }
   ],
   "execution_count": 152
  },
  {
   "metadata": {
    "ExecuteTime": {
     "end_time": "2025-02-05T21:15:53.080303Z",
     "start_time": "2025-02-05T21:15:53.073265Z"
    }
   },
   "cell_type": "code",
   "source": [
    "expression_df_mean[\"Cluster\"] = kmeans.labels_\n",
    "expression_df_std[\"Cluster\"] = kmeans.labels_"
   ],
   "id": "2430a4e97600ab69",
   "outputs": [],
   "execution_count": 154
  },
  {
   "metadata": {
    "ExecuteTime": {
     "end_time": "2025-02-05T21:15:56.773585Z",
     "start_time": "2025-02-05T21:15:56.236271Z"
    }
   },
   "cell_type": "code",
   "source": [
    "expression_df_mean.to_csv(\"gene_expression_mean_cluster.csv\", sep='\\t')\n",
    "expression_df.to_csv(\"gene_expression_original.csv\", sep='\\t')"
   ],
   "id": "f6af1bc52ae105e6",
   "outputs": [],
   "execution_count": 155
  },
  {
   "metadata": {
    "ExecuteTime": {
     "end_time": "2025-02-05T21:15:59.620996Z",
     "start_time": "2025-02-05T21:15:59.480491Z"
    }
   },
   "cell_type": "code",
   "source": "expression_df_std.to_csv(\"gene_expression_std_cluster.csv\", sep='\\t')",
   "id": "b147445ac8a4922",
   "outputs": [],
   "execution_count": 156
  }
 ],
 "metadata": {
  "kernelspec": {
   "display_name": "Python 3",
   "language": "python",
   "name": "python3"
  },
  "language_info": {
   "codemirror_mode": {
    "name": "ipython",
    "version": 2
   },
   "file_extension": ".py",
   "mimetype": "text/x-python",
   "name": "python",
   "nbconvert_exporter": "python",
   "pygments_lexer": "ipython2",
   "version": "2.7.6"
  }
 },
 "nbformat": 4,
 "nbformat_minor": 5
}
